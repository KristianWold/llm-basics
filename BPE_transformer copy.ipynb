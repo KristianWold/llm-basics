{
 "cells": [
  {
   "cell_type": "markdown",
   "id": "04010a08",
   "metadata": {},
   "source": [
    "## LLM"
   ]
  },
  {
   "cell_type": "code",
   "execution_count": 5,
   "id": "8fa3d166",
   "metadata": {},
   "outputs": [
    {
     "name": "stdout",
     "output_type": "stream",
     "text": [
      "Num GPUs Available:  0\n"
     ]
    }
   ],
   "source": [
    "import matplotlib.pyplot as plt\n",
    "from IPython.display import clear_output\n",
    "from src.tokenizer import TokenizerChar, TokenizerBPE, word_split, normalize_to_ascii\n",
    "\n",
    "import os\n",
    "import time\n",
    "os.environ[\"CUDA_VISIBLE_DEVICES\"] = \"0\"\n",
    "import tensorflow as tf\n",
    "import numpy as np\n",
    "from tqdm.notebook import tqdm\n",
    "from src.transformer import *\n",
    "\n",
    "print(\"Num GPUs Available: \", len(tf.config.list_physical_devices('GPU')))\n"
   ]
  },
  {
   "cell_type": "code",
   "execution_count": 2,
   "id": "d7cb17b8",
   "metadata": {},
   "outputs": [],
   "source": [
    "import os\n",
    "\n",
    "def read_first_n(directory_path, n):\n",
    "    # List all entries in the directory\n",
    "    filenames = os.listdir(directory_path)\n",
    "    # Filter to only .txt files\n",
    "    txt_files = [f for f in filenames if f.lower().endswith('.story')]\n",
    "    # Sort alphabetically (or by any other criteria you like)\n",
    "    #txt_files.sort()\n",
    "    # Take the first n\n",
    "    first_n = txt_files[:n]\n",
    "    \n",
    "    contents = []\n",
    "    for fname in first_n:\n",
    "        full_path = os.path.join(directory_path, fname)\n",
    "        with open(full_path, 'r', encoding='utf-8') as f:\n",
    "            contents.append(normalize_to_ascii(f.read()))\n",
    "    return contents\n"
   ]
  },
  {
   "cell_type": "code",
   "execution_count": 3,
   "id": "0d4508a8",
   "metadata": {},
   "outputs": [
    {
     "ename": "FileNotFoundError",
     "evalue": "[WinError 3] The system cannot find the path specified: 'corpus/stories'",
     "output_type": "error",
     "traceback": [
      "\u001b[1;31m---------------------------------------------------------------------------\u001b[0m",
      "\u001b[1;31mFileNotFoundError\u001b[0m                         Traceback (most recent call last)",
      "Input \u001b[1;32mIn [3]\u001b[0m, in \u001b[0;36m<cell line: 1>\u001b[1;34m()\u001b[0m\n\u001b[1;32m----> 1\u001b[0m corpus \u001b[38;5;241m=\u001b[39m \u001b[43mread_first_n\u001b[49m\u001b[43m(\u001b[49m\u001b[38;5;124;43m'\u001b[39;49m\u001b[38;5;124;43mcorpus/stories\u001b[39;49m\u001b[38;5;124;43m'\u001b[39;49m\u001b[43m,\u001b[49m\u001b[43m \u001b[49m\u001b[38;5;241;43m100\u001b[39;49m\u001b[43m)\u001b[49m\n",
      "Input \u001b[1;32mIn [2]\u001b[0m, in \u001b[0;36mread_first_n\u001b[1;34m(directory_path, n)\u001b[0m\n\u001b[0;32m      3\u001b[0m \u001b[38;5;28;01mdef\u001b[39;00m \u001b[38;5;21mread_first_n\u001b[39m(directory_path, n):\n\u001b[0;32m      4\u001b[0m     \u001b[38;5;66;03m# List all entries in the directory\u001b[39;00m\n\u001b[1;32m----> 5\u001b[0m     filenames \u001b[38;5;241m=\u001b[39m \u001b[43mos\u001b[49m\u001b[38;5;241;43m.\u001b[39;49m\u001b[43mlistdir\u001b[49m\u001b[43m(\u001b[49m\u001b[43mdirectory_path\u001b[49m\u001b[43m)\u001b[49m\n\u001b[0;32m      6\u001b[0m     \u001b[38;5;66;03m# Filter to only .txt files\u001b[39;00m\n\u001b[0;32m      7\u001b[0m     txt_files \u001b[38;5;241m=\u001b[39m [f \u001b[38;5;28;01mfor\u001b[39;00m f \u001b[38;5;129;01min\u001b[39;00m filenames \u001b[38;5;28;01mif\u001b[39;00m f\u001b[38;5;241m.\u001b[39mlower()\u001b[38;5;241m.\u001b[39mendswith(\u001b[38;5;124m'\u001b[39m\u001b[38;5;124m.story\u001b[39m\u001b[38;5;124m'\u001b[39m)]\n",
      "\u001b[1;31mFileNotFoundError\u001b[0m: [WinError 3] The system cannot find the path specified: 'corpus/stories'"
     ]
    }
   ],
   "source": [
    "corpus = read_first_n('corpus/stories', 100)"
   ]
  },
  {
   "cell_type": "code",
   "execution_count": 6,
   "id": "d7153381",
   "metadata": {},
   "outputs": [],
   "source": [
    "corpus = [\"eloiyvroizesyrvnm\", \"z9v87yz384v7yz3sn874vyzn38\"]"
   ]
  },
  {
   "cell_type": "code",
   "execution_count": 7,
   "id": "06b11ac8",
   "metadata": {},
   "outputs": [
    {
     "data": {
      "application/vnd.jupyter.widget-view+json": {
       "model_id": "62d89029192a4f38bd96d66320eaa74b",
       "version_major": 2,
       "version_minor": 0
      },
      "text/plain": [
       "  0%|          | 0/2 [00:00<?, ?it/s]"
      ]
     },
     "metadata": {},
     "output_type": "display_data"
    }
   ],
   "source": [
    "tokenizer = TokenizerBPE(corpus, num_merges = 2)"
   ]
  },
  {
   "cell_type": "markdown",
   "id": "f830d881",
   "metadata": {},
   "source": [
    "## Define Model"
   ]
  },
  {
   "cell_type": "code",
   "execution_count": 8,
   "id": "0a5a33ab",
   "metadata": {},
   "outputs": [],
   "source": [
    "np.random.seed(42)\n",
    "tf.random.set_seed(42)\n",
    "\n",
    "embed_dim = 500\n",
    "heads = 5\n",
    "max_seq_len = 100\n",
    "\n",
    "key_dim = 100\n",
    "\n",
    "ffnn_dims = [500, 500]\n",
    "unembed_dims = [250]\n",
    "\n",
    "transformer = Transformer(vocab_size=tokenizer.vocab_size,\n",
    "                          max_seq_len=max_seq_len,\n",
    "                          embed_dim=embed_dim,\n",
    "                          heads=heads,\n",
    "                          key_dim=key_dim,\n",
    "                          ffnn_dims=ffnn_dims,\n",
    "                          unembed_dims=unembed_dims,\n",
    "                          lr=0.0005)\n",
    "\n",
    "losses_train = []\n",
    "losses_test = []\n"
   ]
  },
  {
   "cell_type": "code",
   "execution_count": null,
   "id": "eba8cd01",
   "metadata": {},
   "outputs": [],
   "source": [
    "corpus_indicies = [tf.expand_dims(tokenizer.tokenize(line), axis=0) for line in corpus]"
   ]
  },
  {
   "cell_type": "code",
   "execution_count": null,
   "id": "37839ee0",
   "metadata": {},
   "outputs": [],
   "source": [
    "def sample_batch(contents, \n",
    "                 batch_size, \n",
    "                 tokenizer, \n",
    "                 max_seq_len):\n",
    "    \n",
    "    samples = len(contents)\n",
    "    indicies_list = []\n",
    "    for b in range(batch_size):\n",
    "        \n",
    "        idx = np.random.randint(0, samples)\n",
    "        text = contents[idx]\n",
    "        length = text.shape[1]\n",
    "        if length < max_seq_len:\n",
    "            continue\n",
    "        else:\n",
    "            start = np.random.randint(0, length - max_seq_len)\n",
    "            indicies = text[:,start:start + max_seq_len]\n",
    "            indicies_list.append(indicies)\n",
    "    \n",
    "    indicies_list = tf.concat(indicies_list, axis=0)\n",
    "    y_true = tf.one_hot(indicies_list, depth=tokenizer.vocab_size)\n",
    "    y_true = tf.cast(y_true, tf.float32)\n",
    "\n",
    "    return indicies_list, y_true"
   ]
  },
  {
   "cell_type": "code",
   "execution_count": null,
   "id": "ddb222e3",
   "metadata": {},
   "outputs": [
    {
     "name": "stdout",
     "output_type": "stream",
     "text": [
      "(1, 5, 15, 15)\n",
      "tf.Tensor(\n",
      "[[[[1.         0.         0.         ... 0.         0.\n",
      "    0.        ]\n",
      "   [0.5000852  0.49991482 0.         ... 0.         0.\n",
      "    0.        ]\n",
      "   [0.33351535 0.3332693  0.33321533 ... 0.         0.\n",
      "    0.        ]\n",
      "   ...\n",
      "   [0.07691903 0.07692819 0.07695219 ... 0.07693461 0.\n",
      "    0.        ]\n",
      "   [0.07147781 0.07144459 0.07143267 ... 0.0713836  0.07140335\n",
      "    0.        ]\n",
      "   [0.06665856 0.06665941 0.06668687 ... 0.0667081  0.06667162\n",
      "    0.06664622]]\n",
      "\n",
      "  [[1.         0.         0.         ... 0.         0.\n",
      "    0.        ]\n",
      "   [0.5001428  0.4998572  0.         ... 0.         0.\n",
      "    0.        ]\n",
      "   [0.3332071  0.33337882 0.3334141  ... 0.         0.\n",
      "    0.        ]\n",
      "   ...\n",
      "   [0.0769044  0.07691698 0.07686678 ... 0.07694186 0.\n",
      "    0.        ]\n",
      "   [0.07141968 0.07135815 0.07139716 ... 0.07150283 0.07141147\n",
      "    0.        ]\n",
      "   [0.06672885 0.06662781 0.06665197 ... 0.06662837 0.06668208\n",
      "    0.06666151]]\n",
      "\n",
      "  [[1.         0.         0.         ... 0.         0.\n",
      "    0.        ]\n",
      "   [0.49994877 0.50005126 0.         ... 0.         0.\n",
      "    0.        ]\n",
      "   [0.3334128  0.33339298 0.33319423 ... 0.         0.\n",
      "    0.        ]\n",
      "   ...\n",
      "   [0.07690828 0.07695458 0.07693037 ... 0.07689849 0.\n",
      "    0.        ]\n",
      "   [0.0714148  0.07142906 0.07141482 ... 0.07141241 0.07142165\n",
      "    0.        ]\n",
      "   [0.06662678 0.06666008 0.06667086 ... 0.06667639 0.06663883\n",
      "    0.06670889]]\n",
      "\n",
      "  [[1.         0.         0.         ... 0.         0.\n",
      "    0.        ]\n",
      "   [0.5000517  0.49994838 0.         ... 0.         0.\n",
      "    0.        ]\n",
      "   [0.33322385 0.33317655 0.3335997  ... 0.         0.\n",
      "    0.        ]\n",
      "   ...\n",
      "   [0.07689191 0.07696952 0.07688691 ... 0.07689935 0.\n",
      "    0.        ]\n",
      "   [0.07144257 0.07145179 0.07144385 ... 0.07141861 0.07137419\n",
      "    0.        ]\n",
      "   [0.06663742 0.06671318 0.06667077 ... 0.06669475 0.06664769\n",
      "    0.06664308]]\n",
      "\n",
      "  [[1.         0.         0.         ... 0.         0.\n",
      "    0.        ]\n",
      "   [0.5001206  0.49987933 0.         ... 0.         0.\n",
      "    0.        ]\n",
      "   [0.33350334 0.3333107  0.333186   ... 0.         0.\n",
      "    0.        ]\n",
      "   ...\n",
      "   [0.07690404 0.0769505  0.07694075 ... 0.07696262 0.\n",
      "    0.        ]\n",
      "   [0.07139352 0.07143824 0.07143192 ... 0.07148112 0.07140082\n",
      "    0.        ]\n",
      "   [0.06664424 0.06667712 0.06665516 ... 0.06665454 0.06669096\n",
      "    0.06664351]]]], shape=(1, 5, 15, 15), dtype=float32)\n"
     ]
    },
    {
     "data": {
      "text/plain": [
       "<tf.Tensor: shape=(1, 15, 18), dtype=float32, numpy=\n",
       "array([[[0.05543762, 0.0548655 , 0.05571645, 0.05573099, 0.05641225,\n",
       "         0.05529376, 0.05551903, 0.05546688, 0.05583759, 0.05570915,\n",
       "         0.05494577, 0.05526312, 0.05530476, 0.05554628, 0.05544935,\n",
       "         0.05683178, 0.05500371, 0.05566605],\n",
       "        [0.05556417, 0.05639497, 0.05552995, 0.05496261, 0.05526261,\n",
       "         0.05547253, 0.05486267, 0.05609167, 0.0549377 , 0.05553611,\n",
       "         0.05632158, 0.05504905, 0.05561616, 0.05577096, 0.05533654,\n",
       "         0.05522411, 0.05577842, 0.05628827],\n",
       "        [0.05604182, 0.05571202, 0.05579198, 0.05562028, 0.05576089,\n",
       "         0.05626973, 0.05492888, 0.05576405, 0.05465535, 0.05555657,\n",
       "         0.05477033, 0.0547826 , 0.05615746, 0.05568317, 0.05569259,\n",
       "         0.05517153, 0.05589141, 0.05574941],\n",
       "        [0.05531484, 0.05546097, 0.05555301, 0.05546761, 0.05701255,\n",
       "         0.05631516, 0.05516131, 0.05569637, 0.05531449, 0.05483068,\n",
       "         0.05504313, 0.05511069, 0.05593729, 0.05518428, 0.05526448,\n",
       "         0.05577396, 0.05546861, 0.05609061],\n",
       "        [0.05549244, 0.056253  , 0.05547412, 0.05478735, 0.05585089,\n",
       "         0.0558302 , 0.05448174, 0.05589283, 0.05576469, 0.05517758,\n",
       "         0.05547141, 0.05539449, 0.05556875, 0.05584771, 0.05570871,\n",
       "         0.05547968, 0.05550243, 0.056022  ],\n",
       "        [0.05606091, 0.05559513, 0.0560458 , 0.05494941, 0.056581  ,\n",
       "         0.05544921, 0.0549407 , 0.05586153, 0.05537792, 0.05510773,\n",
       "         0.05547037, 0.05603514, 0.05522421, 0.05515233, 0.05539012,\n",
       "         0.05567737, 0.05467616, 0.0564049 ],\n",
       "        [0.05565372, 0.0554006 , 0.0558893 , 0.05533314, 0.05596817,\n",
       "         0.05560047, 0.05535274, 0.05619375, 0.05513568, 0.05585587,\n",
       "         0.05524444, 0.05500112, 0.05573652, 0.05623147, 0.05564578,\n",
       "         0.05588534, 0.05471271, 0.0551592 ],\n",
       "        [0.05548584, 0.05548859, 0.05551624, 0.05513498, 0.05592498,\n",
       "         0.05621241, 0.05547381, 0.05622941, 0.05510861, 0.05589871,\n",
       "         0.05557176, 0.05551683, 0.05526707, 0.05523105, 0.05523887,\n",
       "         0.05505674, 0.05548705, 0.05615701],\n",
       "        [0.05555504, 0.05621833, 0.05533578, 0.05534114, 0.05657593,\n",
       "         0.05558025, 0.05487707, 0.05526114, 0.05637161, 0.05559251,\n",
       "         0.05500063, 0.05485936, 0.05542535, 0.05567911, 0.05530554,\n",
       "         0.05589041, 0.05543883, 0.05569196],\n",
       "        [0.0554865 , 0.05542215, 0.05544701, 0.0545215 , 0.05689313,\n",
       "         0.05580007, 0.05532449, 0.05579191, 0.05545997, 0.05540794,\n",
       "         0.05585037, 0.05506611, 0.05567995, 0.05565999, 0.05523533,\n",
       "         0.0558136 , 0.05494416, 0.05619579],\n",
       "        [0.05584472, 0.05438246, 0.05513821, 0.05548614, 0.05663922,\n",
       "         0.05566818, 0.0551699 , 0.05681913, 0.05504436, 0.05472327,\n",
       "         0.05559831, 0.05533452, 0.05658106, 0.05581821, 0.05476122,\n",
       "         0.05542849, 0.055687  , 0.05587571],\n",
       "        [0.05595266, 0.05534797, 0.05537348, 0.05573869, 0.05628022,\n",
       "         0.0559597 , 0.05462691, 0.05588806, 0.05551185, 0.05528282,\n",
       "         0.05547728, 0.05603673, 0.05512235, 0.05528158, 0.05540715,\n",
       "         0.05557612, 0.05485174, 0.05628472],\n",
       "        [0.05588203, 0.05591086, 0.05525203, 0.05518862, 0.05561183,\n",
       "         0.05577586, 0.05484643, 0.05597162, 0.05567297, 0.05537993,\n",
       "         0.05562213, 0.05547682, 0.05576719, 0.05517114, 0.05530323,\n",
       "         0.05556732, 0.0554341 , 0.0561658 ],\n",
       "        [0.05558714, 0.05544783, 0.05529876, 0.05536608, 0.05603876,\n",
       "         0.0555982 , 0.05550411, 0.05644943, 0.05561228, 0.05558142,\n",
       "         0.05556601, 0.05536526, 0.05486791, 0.05539477, 0.05599388,\n",
       "         0.05494376, 0.05557724, 0.05580712],\n",
       "        [0.05561354, 0.05586863, 0.05427187, 0.05588067, 0.05627294,\n",
       "         0.05562888, 0.05564272, 0.05571081, 0.05523462, 0.05580869,\n",
       "         0.05524393, 0.05480986, 0.05549261, 0.05546289, 0.0564202 ,\n",
       "         0.05537478, 0.05505163, 0.05621076]]], dtype=float32)>"
      ]
     },
     "execution_count": 10,
     "metadata": {},
     "output_type": "execute_result"
    }
   ],
   "source": [
    "transformer.pred(corpus_indicies[0])"
   ]
  },
  {
   "cell_type": "code",
   "execution_count": null,
   "id": "93977cd2",
   "metadata": {},
   "outputs": [
    {
     "data": {
      "application/vnd.jupyter.widget-view+json": {
       "model_id": "60c9fb1418924872860aa327f713bc27",
       "version_major": 2,
       "version_minor": 0
      },
      "text/plain": [
       "  0%|          | 0/1000 [00:00<?, ?it/s]"
      ]
     },
     "metadata": {},
     "output_type": "display_data"
    },
    {
     "ename": "InvalidArgumentError",
     "evalue": "OpKernel 'ConcatV2' has constraint on attr 'T' not in NodeDef '[N=0, Tidx=DT_INT32]', KernelDef: 'op: \"ConcatV2\" device_type: \"CPU\" constraint { name: \"T\" allowed_values { list { type: DT_UINT64 } } } host_memory_arg: \"axis\"' [Op:ConcatV2] name: concat",
     "output_type": "error",
     "traceback": [
      "\u001b[1;31m---------------------------------------------------------------------------\u001b[0m",
      "\u001b[1;31mInvalidArgumentError\u001b[0m                      Traceback (most recent call last)",
      "Input \u001b[1;32mIn [8]\u001b[0m, in \u001b[0;36m<cell line: 3>\u001b[1;34m()\u001b[0m\n\u001b[0;32m      1\u001b[0m batch_size \u001b[38;5;241m=\u001b[39m \u001b[38;5;241m1\u001b[39m\n\u001b[0;32m      3\u001b[0m \u001b[38;5;28;01mfor\u001b[39;00m i \u001b[38;5;129;01min\u001b[39;00m tqdm(\u001b[38;5;28mrange\u001b[39m(\u001b[38;5;241m1000\u001b[39m)):\n\u001b[1;32m----> 4\u001b[0m     indices, y_true \u001b[38;5;241m=\u001b[39m \u001b[43msample_batch\u001b[49m\u001b[43m(\u001b[49m\u001b[43mcorpus_indicies\u001b[49m\u001b[43m[\u001b[49m\u001b[43m:\u001b[49m\u001b[38;5;241;43m80\u001b[39;49m\u001b[43m]\u001b[49m\u001b[43m,\u001b[49m\u001b[43m \u001b[49m\n\u001b[0;32m      5\u001b[0m \u001b[43m                                   \u001b[49m\u001b[43mbatch_size\u001b[49m\u001b[43m,\u001b[49m\u001b[43m \u001b[49m\n\u001b[0;32m      6\u001b[0m \u001b[43m                                   \u001b[49m\u001b[43mtokenizer\u001b[49m\u001b[43m,\u001b[49m\u001b[43m \u001b[49m\n\u001b[0;32m      7\u001b[0m \u001b[43m                                   \u001b[49m\u001b[43mmax_seq_len\u001b[49m\u001b[43m)\u001b[49m\n\u001b[0;32m     10\u001b[0m     loss_train \u001b[38;5;241m=\u001b[39m transformer\u001b[38;5;241m.\u001b[39mtrain_step(indices, y_true)\n\u001b[0;32m     11\u001b[0m     losses_train\u001b[38;5;241m.\u001b[39mappend(loss_train)\n",
      "Input \u001b[1;32mIn [7]\u001b[0m, in \u001b[0;36msample_batch\u001b[1;34m(contents, batch_size, tokenizer, max_seq_len)\u001b[0m\n\u001b[0;32m     17\u001b[0m         indicies \u001b[38;5;241m=\u001b[39m text[:,start:start \u001b[38;5;241m+\u001b[39m max_seq_len]\n\u001b[0;32m     18\u001b[0m         indicies_list\u001b[38;5;241m.\u001b[39mappend(indicies)\n\u001b[1;32m---> 20\u001b[0m indicies_list \u001b[38;5;241m=\u001b[39m \u001b[43mtf\u001b[49m\u001b[38;5;241;43m.\u001b[39;49m\u001b[43mconcat\u001b[49m\u001b[43m(\u001b[49m\u001b[43mindicies_list\u001b[49m\u001b[43m,\u001b[49m\u001b[43m \u001b[49m\u001b[43maxis\u001b[49m\u001b[38;5;241;43m=\u001b[39;49m\u001b[38;5;241;43m0\u001b[39;49m\u001b[43m)\u001b[49m\n\u001b[0;32m     21\u001b[0m y_true \u001b[38;5;241m=\u001b[39m tf\u001b[38;5;241m.\u001b[39mone_hot(indicies_list, depth\u001b[38;5;241m=\u001b[39mtokenizer\u001b[38;5;241m.\u001b[39mvocab_size)\n\u001b[0;32m     22\u001b[0m y_true \u001b[38;5;241m=\u001b[39m tf\u001b[38;5;241m.\u001b[39mcast(y_true, tf\u001b[38;5;241m.\u001b[39mfloat32)\n",
      "File \u001b[1;32mc:\\Program Files\\Anaconda3\\envs\\env_qiskit\\lib\\site-packages\\tensorflow\\python\\util\\traceback_utils.py:153\u001b[0m, in \u001b[0;36mfilter_traceback.<locals>.error_handler\u001b[1;34m(*args, **kwargs)\u001b[0m\n\u001b[0;32m    151\u001b[0m \u001b[38;5;28;01mexcept\u001b[39;00m \u001b[38;5;167;01mException\u001b[39;00m \u001b[38;5;28;01mas\u001b[39;00m e:\n\u001b[0;32m    152\u001b[0m   filtered_tb \u001b[38;5;241m=\u001b[39m _process_traceback_frames(e\u001b[38;5;241m.\u001b[39m__traceback__)\n\u001b[1;32m--> 153\u001b[0m   \u001b[38;5;28;01mraise\u001b[39;00m e\u001b[38;5;241m.\u001b[39mwith_traceback(filtered_tb) \u001b[38;5;28;01mfrom\u001b[39;00m \u001b[38;5;28mNone\u001b[39m\n\u001b[0;32m    154\u001b[0m \u001b[38;5;28;01mfinally\u001b[39;00m:\n\u001b[0;32m    155\u001b[0m   \u001b[38;5;28;01mdel\u001b[39;00m filtered_tb\n",
      "File \u001b[1;32mc:\\Program Files\\Anaconda3\\envs\\env_qiskit\\lib\\site-packages\\tensorflow\\python\\framework\\ops.py:7209\u001b[0m, in \u001b[0;36mraise_from_not_ok_status\u001b[1;34m(e, name)\u001b[0m\n\u001b[0;32m   7207\u001b[0m \u001b[38;5;28;01mdef\u001b[39;00m \u001b[38;5;21mraise_from_not_ok_status\u001b[39m(e, name):\n\u001b[0;32m   7208\u001b[0m   e\u001b[38;5;241m.\u001b[39mmessage \u001b[38;5;241m+\u001b[39m\u001b[38;5;241m=\u001b[39m (\u001b[38;5;124m\"\u001b[39m\u001b[38;5;124m name: \u001b[39m\u001b[38;5;124m\"\u001b[39m \u001b[38;5;241m+\u001b[39m name \u001b[38;5;28;01mif\u001b[39;00m name \u001b[38;5;129;01mis\u001b[39;00m \u001b[38;5;129;01mnot\u001b[39;00m \u001b[38;5;28;01mNone\u001b[39;00m \u001b[38;5;28;01melse\u001b[39;00m \u001b[38;5;124m\"\u001b[39m\u001b[38;5;124m\"\u001b[39m)\n\u001b[1;32m-> 7209\u001b[0m   \u001b[38;5;28;01mraise\u001b[39;00m core\u001b[38;5;241m.\u001b[39m_status_to_exception(e) \u001b[38;5;28;01mfrom\u001b[39;00m \u001b[38;5;28mNone\u001b[39m\n",
      "\u001b[1;31mInvalidArgumentError\u001b[0m: OpKernel 'ConcatV2' has constraint on attr 'T' not in NodeDef '[N=0, Tidx=DT_INT32]', KernelDef: 'op: \"ConcatV2\" device_type: \"CPU\" constraint { name: \"T\" allowed_values { list { type: DT_UINT64 } } } host_memory_arg: \"axis\"' [Op:ConcatV2] name: concat"
     ]
    }
   ],
   "source": [
    "batch_size = 1\n",
    "\n",
    "for i in tqdm(range(1000)):\n",
    "    indices, y_true = sample_batch(corpus_indicies[:80], \n",
    "                                   batch_size, \n",
    "                                   tokenizer, \n",
    "                                   max_seq_len)\n",
    "    \n",
    "\n",
    "    loss_train = transformer.train_step(indices, y_true)\n",
    "    losses_train.append(loss_train)\n",
    "\n",
    "    indices, y_true = sample_batch(corpus_indicies[80:], \n",
    "                                   batch_size, \n",
    "                                   tokenizer, \n",
    "                                   max_seq_len)\n",
    "    \n",
    "    loss_test = transformer.evaluate(indices, y_true)\n",
    "    losses_test.append(loss_test)\n",
    "\n",
    "    \n",
    "    clear_output(wait=True)\n",
    "    x = np.arange(max(0, len(losses_train)-400), len(losses_train))\n",
    "    plt.plot(x, losses_train[-400:], label=\"Train Loss\")\n",
    "    plt.plot(x, losses_test[-400:], label=\"Test Loss\")\n",
    "\n",
    "    Min = np.min(losses_train[-400:])\n",
    "    Max = np.max(losses_train[-400:])\n",
    "    delta = Max - Min\n",
    "    plt.ylim(Min - delta*0.1, Max + delta*0.1)\n",
    "    plt.title(\"Training Loss\")\n",
    "    plt.xlabel(\"Step\")\n",
    "    plt.ylabel(\"Loss\")\n",
    "    plt.legend()\n",
    "    plt.show()\n",
    "    "
   ]
  },
  {
   "cell_type": "code",
   "execution_count": null,
   "id": "2948ca32",
   "metadata": {},
   "outputs": [
    {
     "data": {
      "image/png": "[encoded data removed]",
      "text/plain": [
       "<Figure size 640x480 with 1 Axes>"
      ]
     },
     "metadata": {},
     "output_type": "display_data"
    }
   ],
   "source": [
    "plt.plot(losses_train, label=\"Train Loss\")\n",
    "plt.plot(losses_test, label=\"Test Loss\")\n",
    "plt.title(\"Training Loss\")\n",
    "plt.xlabel(\"Step\")\n",
    "plt.ylabel(\"Loss\")\n",
    "plt.legend()\n",
    "plt.show()"
   ]
  },
  {
   "cell_type": "code",
   "execution_count": null,
   "id": "4673556c",
   "metadata": {},
   "outputs": [
    {
     "name": "stdout",
     "output_type": "stream",
     "text": [
      "It's official: U.S. President Barack Obama wants lawmakers to weigh in on whether to use military force in Syria.\n",
      "\n",
      "Obama sent a letter to the heads of the House and Senate on Saturday night, hours after announcing that he believes military action against Syrian targets is the right step to take over the alleged use of chemical weapons.\n",
      "\n",
      "The proposed legislation from Obama asks Congress to approve the use of military force \"to deter, disrupt, prevent and degrade the potential for future uses of chemical weapons or other weapons of mass destruction.\"\n",
      "\n",
      "It's a step that is set to turn an international crisis into a fierce domestic political battle.\n",
      "\n",
      "There are key questions looming over the debate: What did U.N. weapons inspectors find in Syria? What happens if Congress votes no? And how will the Syrian government react?\n",
      "\n",
      "In a televised address from the White House Rose Garden earlier Saturday, the president said he would take his case to Congress, not because he has to -- but because he wants to.\n",
      "\n",
      "\"While I believe I have the authority to carry out this military action without specific congressional authorization, I know that the country will be stronger if we take this course, and our actions will be even more effective,\" he said. \"We should have this debate, because the issues are too big for business as usual.\"\n",
      "\n",
      "Obama said top congressional leaders had agreed to schedule a debate when the body returns to Washington on September 9. The Senate Foreign Relations Committee will hold a hearing over the matter on Tuesday, Sen. Robert Menendez said.\n",
      "\n",
      "Transcript: Read Obama's full remarks\n",
      "\n",
      "Syrian crisis: Latest developments\n",
      "\n",
      "U.N. inspectors leave Syria\n",
      "\n",
      "Obama's remarks came shortly after U.N. inspectors left Syria, carrying evidence that will determine whether chemical weapons were used in an attack early last week in a Damascus suburb.\n",
      "\n",
      "\"The aim of the game here, the mandate, is very clear -- and that is to ascertain whether chemical weapons were used -- and not by whom,\" U.N. spokesman Martin Nesirky told reporters on Saturday.\n",
      "\n",
      "But who used the weapons in the reported toxic gas attack in a Damascus suburb on August 21 has been a key point of global debate over the Syrian crisis.\n",
      "\n",
      "Top U.S. officials have said there's no doubt that the Syrian government was behind it, while Syrian officials have denied responsibility and blamed jihadists fighting with the rebels.\n",
      "\n",
      "British and U.S. intelligence reports say the attack involved chemical weapons, but U.N. officials have stressed the importance of waiting for an official report from inspectors.\n",
      "\n",
      "The inspectors will share their findings with U.N. Secretary-General Ban Ki-moon Ban, who has said he wants to wait until the U.N. team's final report is completed before presenting it to the U.N. Security Council.\n",
      "\n",
      "The Organization for the Prohibition of Chemical Weapons, which nine of the inspectors belong to, said Saturday that it could take up to three weeks to analyze the evidence they collected.\n",
      "\n",
      "\"It needs time to be able to analyze the information and the samples,\" Nesirky said.\n",
      "\n",
      "He noted that Ban has repeatedly said there is no alternative to a political solution to the crisis in Syria, and that \"a military solution is not an option.\"\n",
      "\n",
      "Bergen:  Syria is a problem from hell for the U.S.\n",
      "\n",
      "Obama: 'This menace must be confronted'\n",
      "\n",
      "Obama's senior advisers have debated the next steps to take, and the president's comments Saturday came amid mounting political pressure over the situation in Syria. Some U.S. lawmakers have called for immediate action while others warn of stepping into what could become a quagmire.\n",
      "\n",
      "Some global leaders have expressed support, but the British Parliament's vote against military action earlier this week was a blow to Obama's hopes of getting strong backing from key NATO allies.\n",
      "\n",
      "On Saturday, Obama proposed what he said would be a limited military action against Syrian President Bashar al-Assad. Any military attack would not be open-ended or include U.S. ground forces, he said.\n",
      "\n",
      "Syria's alleged use of chemical weapons earlier this month \"is an assault on human dignity,\" the president said.\n",
      "\n",
      "A failure to respond with force, Obama argued,  \"could lead to escalating use of chemical weapons or their proliferation to terrorist groups who would do our people harm. In a world with many dangers, this menace must be confronted.\"\n",
      "\n",
      "Syria missile strike: What would happen next?\n",
      "\n",
      "Map: U.S. and allied assets around Syria\n",
      "\n",
      "Obama decision came Friday night\n",
      "\n",
      "On Friday night, the president made a last-minute decision to consult lawmakers.\n",
      "\n",
      "What will happen if they vote no?\n",
      "\n",
      "It's unclear. A senior administration official told CNN that Obama has the authority to act without Congress -- even if Congress rejects his request for authorization to use force.\n",
      "\n",
      "Obama on Saturday continued to shore up support for a strike on the al-Assad government.\n",
      "\n",
      "He spoke by phone with French President Francois Hollande before his Rose Garden speech.\n",
      "\n",
      "\"The two leaders agreed that the international community must deliver a resolute message to the Assad regime -- and others who would consider using chemical weapons -- that these crimes are unacceptable and those who violate this international norm will be held accountable by the world,\" the White House said.\n",
      "\n",
      "Meanwhile, as uncertainty loomed over how Congress would weigh in, U.S. military officials said they remained at the ready.\n",
      "\n",
      "5 key assertions: U.S. intelligence report on Syria\n",
      "\n",
      "Syria: Who wants what after chemical weapons horror\n",
      "\n",
      "Reactions mixed to Obama's speech\n",
      "\n",
      "A spokesman for the Syrian National Coalition said that the opposition group was disappointed by Obama's announcement.\n",
      "\n",
      "\"Our fear now is that the lack of action could embolden the regime and they repeat his attacks in a more serious way,\" said spokesman Louay Safi. \"So we are quite concerned.\"\n",
      "\n",
      "Some members of Congress applauded Obama's decision.\n",
      "\n",
      "House Speaker John Boehner, Majority Leader Eric Cantor, Majority Whip Kevin McCarthy and Conference Chair Cathy McMorris Rodgers issued a statement Saturday praising the president.\n",
      "\n",
      "\"Under the Constitution, the responsibility to declare war lies with Congress,\" the Republican lawmakers said. \"We are glad the president is seeking authorization for any military action in Syria in response to serious, substantive questions being raised.\"\n",
      "\n",
      "More than 160 legislators, including 63 of Obama's fellow Democrats, had signed letters calling for either a vote or at least a \"full debate\" before any U.S. action.\n",
      "\n",
      "British Prime Minister David Cameron, whose own attempt to get lawmakers in his country to support military action in Syria failed earlier this week, responded to Obama's speech in a Twitter post Saturday.\n",
      "\n",
      "\"I understand and support Barack Obama's position on Syria,\" Cameron said.\n",
      "\n",
      "An influential lawmaker in Russia -- which has stood by Syria and criticized the United States -- had his own theory.\n",
      "\n",
      "\"The main reason Obama is turning to the Congress:  the military operation did not get enough support either in the world, among allies of the US or in the United States itself,\" Alexei Pushkov, chairman of the international-affairs committee of the Russian State Duma, said in a Twitter post.\n",
      "\n",
      "In the United States, scattered groups of anti-war protesters around the country took to the streets Saturday.\n",
      "\n",
      "\"Like many other Americans...we're just tired of the United States getting involved and invading and bombing other countries,\" said Robin Rosecrans, who was among hundreds at a Los Angeles demonstration.\n",
      "\n",
      "What do Syria's neighbors think?\n",
      "\n",
      "Why Russia, China, Iran stand by Assad\n",
      "\n",
      "Syria's government unfazed\n",
      "\n",
      "After Obama's speech, a military and political analyst on Syrian state TV said Obama is \"embarrassed\" that Russia opposes military action against Syria, is \"crying for help\" for someone to come to his rescue and is facing two defeats -- on the political and military levels.\n",
      "\n",
      "Syria's prime minister appeared unfazed by the saber-rattling.\n",
      "\n",
      "\"The Syrian Army's status is on maximum readiness and fingers are on the trigger to confront all challenges,\" Wael Nader al-Halqi said during a meeting with a delegation of Syrian expatriates from Italy, according to a banner on Syria State TV that was broadcast prior to Obama's address.\n",
      "\n",
      "An anchor on Syrian state television said Obama \"appeared to be preparing for an aggression on Syria based on repeated lies.\"\n",
      "\n",
      "A top Syrian diplomat told the state television network that Obama was facing pressure to take military action from Israel, Turkey, some Arabs and right-wing extremists in the United States.\n",
      "\n",
      "\"I think he has done well by doing what Cameron did in terms of taking the issue to Parliament,\" said Bashar Jaafari, Syria's ambassador to the United Nations.\n",
      "\n",
      "Both Obama and Cameron, he said, \"climbed to the top of the tree and don't know how to get down.\"\n",
      "\n",
      "The Syrian government has denied that it used chemical weapons in the August 21 attack, saying that jihadists fighting with the rebels used them in an effort to turn global sentiments against it.\n",
      "\n",
      "British intelligence had put the number of people killed in the attack at more than 350.\n",
      "\n",
      "On Saturday, Obama said \"all told, well over 1,000 people were murdered.\" U.S. Secretary of State John Kerry on Friday cited a death toll of 1,429, more than 400 of them children. No explanation was offered for the discrepancy.\n",
      "\n",
      "Iran: U.S. military action in Syria would spark 'disaster'\n",
      "\n",
      "Opinion: Why strikes in Syria are a bad idea\n",
      "\n",
      "@highlight\n",
      "\n",
      "Syrian official: Obama climbed to the top of the tree, \"doesn't know how to get down\"\n",
      "\n",
      "@highlight\n",
      "\n",
      "Obama sends a letter to the heads of the House and Senate\n",
      "\n",
      "@highlight\n",
      "\n",
      "Obama to seek congressional approval on military action against Syria\n",
      "\n",
      "@highlight\n",
      "\n",
      "Aim is to determine whether CW were used, not by whom, says U.N. spokesman\n"
     ]
    }
   ],
   "source": [
    "print(corpus[0])"
   ]
  },
  {
   "cell_type": "code",
   "execution_count": null,
   "id": "e216ce01",
   "metadata": {},
   "outputs": [
    {
     "name": "stdout",
     "output_type": "stream",
     "text": [
      "tf.Tensor([[ 43  59 123  58 125   1  91  70  98  68  76   1  60 123  62]], shape=(1, 15), dtype=int32)\n"
     ]
    }
   ],
   "source": [
    "text = \"Obama's remarks came\"\n",
    "indices = tf.expand_dims(tokenizer.tokenize(text), axis=0)\n",
    "print(indices)"
   ]
  },
  {
   "cell_type": "code",
   "execution_count": null,
   "id": "74a017b3",
   "metadata": {},
   "outputs": [
    {
     "name": "stdout",
     "output_type": "stream",
     "text": [
      "Obama's remarks camep pthep pthep pthep pthep pthep  thethe  thethe  thethe  thethe  thethe  thethe  thethe  ppppppppppppppppppppppppppppppppppp\r"
     ]
    },
    {
     "ename": "InvalidArgumentError",
     "evalue": "{{function_node __wrapped__AddV2_device_/job:localhost/replica:0/task:0/device:GPU:0}} required broadcastable shapes [Op:AddV2]",
     "output_type": "error",
     "traceback": [
      "\u001b[1;31m---------------------------------------------------------------------------\u001b[0m",
      "\u001b[1;31mInvalidArgumentError\u001b[0m                      Traceback (most recent call last)",
      "Cell \u001b[1;32mIn[111], line 2\u001b[0m\n\u001b[0;32m      1\u001b[0m \u001b[38;5;28;01mfor\u001b[39;00m i \u001b[38;5;129;01min\u001b[39;00m \u001b[38;5;28mrange\u001b[39m(\u001b[38;5;241m128\u001b[39m):\n\u001b[1;32m----> 2\u001b[0m     y_pred \u001b[38;5;241m=\u001b[39m \u001b[43mtransformer\u001b[49m\u001b[38;5;241;43m.\u001b[39;49m\u001b[43mpred\u001b[49m\u001b[43m(\u001b[49m\u001b[43mindices\u001b[49m\u001b[43m)\u001b[49m\n\u001b[0;32m      3\u001b[0m     argmax \u001b[38;5;241m=\u001b[39m tf\u001b[38;5;241m.\u001b[39mcast(tf\u001b[38;5;241m.\u001b[39margmax(y_pred[:, \u001b[38;5;241m-\u001b[39m\u001b[38;5;241m2\u001b[39m:\u001b[38;5;241m-\u001b[39m\u001b[38;5;241m1\u001b[39m], axis\u001b[38;5;241m=\u001b[39m\u001b[38;5;241m-\u001b[39m\u001b[38;5;241m1\u001b[39m), dtype\u001b[38;5;241m=\u001b[39mtf\u001b[38;5;241m.\u001b[39mint32)\n\u001b[0;32m      4\u001b[0m     indices \u001b[38;5;241m=\u001b[39m tf\u001b[38;5;241m.\u001b[39mconcat([indices, argmax], axis\u001b[38;5;241m=\u001b[39m\u001b[38;5;241m1\u001b[39m)\n",
      "File \u001b[1;32mc:\\Users\\krist\\Documents\\llm-basics\\src\\transformer.py:71\u001b[0m, in \u001b[0;36mTransformer.pred\u001b[1;34m(self, x)\u001b[0m\n\u001b[0;32m     69\u001b[0m \u001b[38;5;28;01mdef\u001b[39;00m\u001b[38;5;250m \u001b[39m\u001b[38;5;21mpred\u001b[39m(\u001b[38;5;28mself\u001b[39m, x):\n\u001b[1;32m---> 71\u001b[0m     x_embeds \u001b[38;5;241m=\u001b[39m \u001b[38;5;28;43mself\u001b[39;49m\u001b[38;5;241;43m.\u001b[39;49m\u001b[43membed\u001b[49m\u001b[43m(\u001b[49m\u001b[43mx\u001b[49m\u001b[43m)\u001b[49m\n\u001b[0;32m     72\u001b[0m     x_embeds \u001b[38;5;241m=\u001b[39m \u001b[38;5;28mself\u001b[39m\u001b[38;5;241m.\u001b[39mattention(x_embeds)\n\u001b[0;32m     73\u001b[0m     x_embeds \u001b[38;5;241m=\u001b[39m \u001b[38;5;28mself\u001b[39m\u001b[38;5;241m.\u001b[39mffnn(x_embeds)\n",
      "File \u001b[1;32mc:\\Users\\krist\\Documents\\llm-basics\\src\\transformer.py:85\u001b[0m, in \u001b[0;36mTransformer.embed\u001b[1;34m(self, x)\u001b[0m\n\u001b[0;32m     83\u001b[0m     seq \u001b[38;5;241m=\u001b[39m \u001b[38;5;28mself\u001b[39m\u001b[38;5;241m.\u001b[39mmax_seq_len\n\u001b[0;32m     84\u001b[0m x_embeds \u001b[38;5;241m=\u001b[39m tf\u001b[38;5;241m.\u001b[39mnn\u001b[38;5;241m.\u001b[39membedding_lookup(\u001b[38;5;28mself\u001b[39m\u001b[38;5;241m.\u001b[39mword_embed, x)\n\u001b[1;32m---> 85\u001b[0m x_embeds \u001b[38;5;241m=\u001b[39m \u001b[43mx_embeds\u001b[49m\u001b[43m \u001b[49m\u001b[38;5;241;43m+\u001b[39;49m\u001b[43m \u001b[49m\u001b[43mtf\u001b[49m\u001b[38;5;241;43m.\u001b[39;49m\u001b[43mexpand_dims\u001b[49m\u001b[43m(\u001b[49m\u001b[38;5;28;43mself\u001b[39;49m\u001b[38;5;241;43m.\u001b[39;49m\u001b[43mpos_embed\u001b[49m\u001b[43m[\u001b[49m\u001b[43m:\u001b[49m\u001b[43mseq\u001b[49m\u001b[43m]\u001b[49m\u001b[43m,\u001b[49m\u001b[43m \u001b[49m\u001b[43maxis\u001b[49m\u001b[38;5;241;43m=\u001b[39;49m\u001b[38;5;241;43m0\u001b[39;49m\u001b[43m)\u001b[49m\n\u001b[0;32m     87\u001b[0m \u001b[38;5;28;01mreturn\u001b[39;00m x_embeds\n",
      "File \u001b[1;32mc:\\Users\\krist\\anaconda3\\envs\\keras-gpu\\lib\\site-packages\\tensorflow\\python\\util\\traceback_utils.py:153\u001b[0m, in \u001b[0;36mfilter_traceback.<locals>.error_handler\u001b[1;34m(*args, **kwargs)\u001b[0m\n\u001b[0;32m    151\u001b[0m \u001b[38;5;28;01mexcept\u001b[39;00m \u001b[38;5;167;01mException\u001b[39;00m \u001b[38;5;28;01mas\u001b[39;00m e:\n\u001b[0;32m    152\u001b[0m   filtered_tb \u001b[38;5;241m=\u001b[39m _process_traceback_frames(e\u001b[38;5;241m.\u001b[39m__traceback__)\n\u001b[1;32m--> 153\u001b[0m   \u001b[38;5;28;01mraise\u001b[39;00m e\u001b[38;5;241m.\u001b[39mwith_traceback(filtered_tb) \u001b[38;5;28;01mfrom\u001b[39;00m\u001b[38;5;250m \u001b[39m\u001b[38;5;28;01mNone\u001b[39;00m\n\u001b[0;32m    154\u001b[0m \u001b[38;5;28;01mfinally\u001b[39;00m:\n\u001b[0;32m    155\u001b[0m   \u001b[38;5;28;01mdel\u001b[39;00m filtered_tb\n",
      "File \u001b[1;32mc:\\Users\\krist\\anaconda3\\envs\\keras-gpu\\lib\\site-packages\\tensorflow\\python\\framework\\ops.py:7209\u001b[0m, in \u001b[0;36mraise_from_not_ok_status\u001b[1;34m(e, name)\u001b[0m\n\u001b[0;32m   7207\u001b[0m \u001b[38;5;28;01mdef\u001b[39;00m\u001b[38;5;250m \u001b[39m\u001b[38;5;21mraise_from_not_ok_status\u001b[39m(e, name):\n\u001b[0;32m   7208\u001b[0m   e\u001b[38;5;241m.\u001b[39mmessage \u001b[38;5;241m+\u001b[39m\u001b[38;5;241m=\u001b[39m (\u001b[38;5;124m\"\u001b[39m\u001b[38;5;124m name: \u001b[39m\u001b[38;5;124m\"\u001b[39m \u001b[38;5;241m+\u001b[39m name \u001b[38;5;28;01mif\u001b[39;00m name \u001b[38;5;129;01mis\u001b[39;00m \u001b[38;5;129;01mnot\u001b[39;00m \u001b[38;5;28;01mNone\u001b[39;00m \u001b[38;5;28;01melse\u001b[39;00m \u001b[38;5;124m\"\u001b[39m\u001b[38;5;124m\"\u001b[39m)\n\u001b[1;32m-> 7209\u001b[0m   \u001b[38;5;28;01mraise\u001b[39;00m core\u001b[38;5;241m.\u001b[39m_status_to_exception(e) \u001b[38;5;28;01mfrom\u001b[39;00m\u001b[38;5;250m \u001b[39m\u001b[38;5;28;01mNone\u001b[39;00m\n",
      "\u001b[1;31mInvalidArgumentError\u001b[0m: {{function_node __wrapped__AddV2_device_/job:localhost/replica:0/task:0/device:GPU:0}} required broadcastable shapes [Op:AddV2]"
     ]
    }
   ],
   "source": [
    "for i in range(128):\n",
    "    y_pred = transformer.pred(indices)\n",
    "    argmax = tf.cast(tf.argmax(y_pred[:, -2:-1], axis=-1), dtype=tf.int32)\n",
    "    indices = tf.concat([indices, argmax], axis=1)\n",
    "    text_pred = tokenizer.detokenize(indices)\n",
    "    \n",
    "    print(text_pred.numpy()[0].decode(\"utf-8\"), end='\\r', flush=True)\n",
    "    time.sleep(0.05)\n"
   ]
  },
  {
   "cell_type": "code",
   "execution_count": null,
   "id": "6a33ccfb",
   "metadata": {},
   "outputs": [
    {
     "data": {
      "text/plain": [
       "<tf.Tensor: shape=(1, 101), dtype=int32, numpy=\n",
       "array([[ 43,  59, 123,  58, 125,   1,  91,  70,  98,  68,  76,   1,  60,\n",
       "        123,  62,  73,   1,  73,  90,  73,   1,  73,  90,  73,   1,  73,\n",
       "         90,  73,   1,  73,  90,  73,   1,  73,  90,  73,   1,   1,  90,\n",
       "         90,   1,   1,  90,  90,   1,   1,  90,  90,   1,   1,  90,  90,\n",
       "          1,   1,  90,  90,   1,   1,  90,  90,   1,   1,  90,  90,   1,\n",
       "          1,  73,  73,  73,  73,  73,  73,  73,  73,  73,  73,  73,  73,\n",
       "         73,  73,  73,  73,  73,  73,  73,  73,  73,  73,  73,  73,  73,\n",
       "         73,  73,  73,  73,  73,  73,  73,  73,  73,  73]])>"
      ]
     },
     "execution_count": 112,
     "metadata": {},
     "output_type": "execute_result"
    }
   ],
   "source": [
    "indices"
   ]
  },
  {
   "cell_type": "markdown",
   "id": "52a5f20b",
   "metadata": {},
   "source": [
    "## "
   ]
  }
 ],
 "metadata": {
  "kernelspec": {
   "display_name": "env_qiskit",
   "language": "python",
   "name": "python3"
  },
  "language_info": {
   "codemirror_mode": {
    "name": "ipython",
    "version": 3
   },
   "file_extension": ".py",
   "mimetype": "text/x-python",
   "name": "python",
   "nbconvert_exporter": "python",
   "pygments_lexer": "ipython3",
   "version": "3.10.4"
  }
 },
 "nbformat": 4,
 "nbformat_minor": 5
}
