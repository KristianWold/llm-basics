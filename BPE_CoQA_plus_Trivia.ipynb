{
 "cells": [
  {
   "cell_type": "markdown",
   "id": "04010a08",
   "metadata": {},
   "source": [
    "## LLM"
   ]
  },
  {
   "cell_type": "code",
   "execution_count": 1,
   "id": "8fa3d166",
   "metadata": {},
   "outputs": [
    {
     "name": "stdout",
     "output_type": "stream",
     "text": [
      "Num GPUs Available:  0\n"
     ]
    }
   ],
   "source": [
    "import matplotlib.pyplot as plt\n",
    "from src.tokenizer import TokenizerBPE\n",
    "from src.data_handling import normalize_to_ascii\n",
    "import numpy as np\n",
    "import re\n",
    "\n",
    "import os\n",
    "import tensorflow as tf\n",
    "import pickle as pkl\n",
    "from tqdm.notebook import tqdm\n",
    "import json\n",
    "\n",
    "# disable gpu for testing purposes\n",
    "os.environ[\"CUDA_VISIBLE_DEVICES\"] = \"-1\"\n",
    "\n",
    "print(\"Num GPUs Available: \", len(tf.config.list_physical_devices('GPU')))\n"
   ]
  },
  {
   "cell_type": "markdown",
   "id": "1f199c71",
   "metadata": {},
   "source": [
    "## CoQA"
   ]
  },
  {
   "cell_type": "code",
   "execution_count": 4,
   "id": "8d3f6ad7",
   "metadata": {},
   "outputs": [],
   "source": [
    "with open('corpus/coqa-train-v1.0.json', 'r', encoding='utf-8') as f:\n",
    "    coqa = json.load(f)\n",
    "\n",
    "data = coqa[\"data\"]\n",
    "length = len(data)"
   ]
  },
  {
   "cell_type": "code",
   "execution_count": 5,
   "id": "aa0f3fe4",
   "metadata": {},
   "outputs": [
    {
     "data": {
      "application/vnd.jupyter.widget-view+json": {
       "model_id": "11c0a0a923994ede85d9c18efed966d4",
       "version_major": 2,
       "version_minor": 0
      },
      "text/plain": [
       "  0%|          | 0/7199 [00:00<?, ?it/s]"
      ]
     },
     "metadata": {},
     "output_type": "display_data"
    }
   ],
   "source": [
    "story_list = []\n",
    "question_co_grouped_list = [[] for _ in range(length)]\n",
    "answer_co_grouped_list = [[] for _ in range(length)]\n",
    "\n",
    "\n",
    "for i, sample in tqdm(enumerate(data), total=length):\n",
    "    story_list.append(sample[\"story\"])\n",
    "    qa = sample[\"questions\"]\n",
    "    for question in qa:\n",
    "        question_co_grouped_list[i].append(question[\"input_text\"])\n",
    "    answers = sample[\"answers\"]\n",
    "    for answer in answers:\n",
    "        answer_co_grouped_list[i].append(answer[\"input_text\"])"
   ]
  },
  {
   "cell_type": "markdown",
   "id": "15ed7139",
   "metadata": {},
   "source": [
    "## Trivia Web"
   ]
  },
  {
   "cell_type": "code",
   "execution_count": 6,
   "id": "4a782972",
   "metadata": {},
   "outputs": [],
   "source": [
    "def get_top_n_evidence(n, rank, evidence_article):\n",
    "    top_n = []\n",
    "    for i in range(n):\n",
    "        article = evidence_article[rank[i][0]]\n",
    "        top_n.append(article)\n",
    "    return top_n"
   ]
  },
  {
   "cell_type": "code",
   "execution_count": 7,
   "id": "76f93d93",
   "metadata": {},
   "outputs": [
    {
     "data": {
      "application/vnd.jupyter.widget-view+json": {
       "model_id": "2c07f8130b234267a1d0250dd3f89c87",
       "version_major": 2,
       "version_minor": 0
      },
      "text/plain": [
       "  0%|          | 0/76496 [00:00<?, ?it/s]"
      ]
     },
     "metadata": {},
     "output_type": "display_data"
    }
   ],
   "source": [
    "with open('corpus/triviaqa-rc/qa/web-train.json', 'r', encoding='utf-8') as f:\n",
    "    squad = json.load(f)\n",
    "\n",
    "question_web_list = []\n",
    "answer_web_list = []\n",
    "evidence_web_list = []\n",
    "\n",
    "for qa in tqdm(squad['Data']):\n",
    "    question_web_list.append(qa['Question'])\n",
    "    answer_web_list.append(qa['Answer'][\"Value\"])\n",
    "    sr = qa['SearchResults']\n",
    "    if len(sr) > 0: \n",
    "        evidence_web_list.append(sr[0][\"Filename\"])\n",
    "    else:\n",
    "        evidence_web_list.append(None)"
   ]
  },
  {
   "cell_type": "code",
   "execution_count": 8,
   "id": "4090e18d",
   "metadata": {},
   "outputs": [
    {
     "data": {
      "application/vnd.jupyter.widget-view+json": {
       "model_id": "9beee8965ff94e67a45091c5ff792a27",
       "version_major": 2,
       "version_minor": 0
      },
      "text/plain": [
       "  0%|          | 0/76496 [00:00<?, ?it/s]"
      ]
     },
     "metadata": {},
     "output_type": "display_data"
    }
   ],
   "source": [
    "path = \"corpus/triviaqa-rc/evidence/web/\"\n",
    "\n",
    "evidence_article_web = {}\n",
    "seen_web = {}\n",
    "\n",
    "for i, evidence in tqdm(list(enumerate(evidence_web_list))):\n",
    "    if evidence is not None:\n",
    "        evidence = evidence.replace(\":\", \"_\").replace(\"?\", \"_\").replace(\"*\", \"_\").replace('\"', \"_\")\n",
    "        if not evidence in seen_web:\n",
    "            seen_web[evidence] = 1\n",
    "            try:\n",
    "                txt = open(path + evidence, 'r', encoding='utf-8').read()\n",
    "                evidence_article_web[evidence] = txt\n",
    "            except:\n",
    "                print(\"Error reading file: \", evidence)\n",
    "                continue\n",
    "        else:\n",
    "            seen_web[evidence] += 1"
   ]
  },
  {
   "cell_type": "code",
   "execution_count": 32,
   "id": "98243205",
   "metadata": {},
   "outputs": [],
   "source": [
    "rank = [[evidence, freq] for freq, evidence in sorted(zip(seen_web.values(), seen_web.keys()), reverse=True)]\n",
    "\n",
    "article_web_list = get_top_n_evidence(15000, rank, evidence_article_web)"
   ]
  },
  {
   "cell_type": "code",
   "execution_count": 34,
   "id": "0780bbaa",
   "metadata": {},
   "outputs": [
    {
     "name": "stdout",
     "output_type": "stream",
     "text": [
      "233689069\n",
      "64719\n"
     ]
    }
   ],
   "source": [
    "print(len(\"\".join(article_web_list)))\n",
    "print(len(rank))"
   ]
  },
  {
   "cell_type": "markdown",
   "id": "aca6c651",
   "metadata": {},
   "source": [
    "## Trivia Wiki"
   ]
  },
  {
   "cell_type": "code",
   "execution_count": 11,
   "id": "1013ca07",
   "metadata": {},
   "outputs": [
    {
     "data": {
      "application/vnd.jupyter.widget-view+json": {
       "model_id": "9fba6bc51cd04b7697a6ee174379dde4",
       "version_major": 2,
       "version_minor": 0
      },
      "text/plain": [
       "  0%|          | 0/61888 [00:00<?, ?it/s]"
      ]
     },
     "metadata": {},
     "output_type": "display_data"
    }
   ],
   "source": [
    "with open('corpus/triviaqa-rc/qa/wikipedia-train.json', 'r', encoding='utf-8') as f:\n",
    "    squad = json.load(f)\n",
    "\n",
    "question_wiki_list = []\n",
    "answer_wiki_list = []\n",
    "evidence_wiki_list = []\n",
    "\n",
    "for qa in tqdm(squad['Data']):\n",
    "    question_wiki_list.append(qa['Question'])\n",
    "    answer_wiki_list.append(qa['Answer'][\"Value\"])\n",
    "    sr = qa[\"EntityPages\"]\n",
    "    if len(sr) > 0: \n",
    "        evidence_wiki_list.append(sr[0][\"Filename\"])\n",
    "    else:\n",
    "        evidence_wiki_list.append(None)"
   ]
  },
  {
   "cell_type": "code",
   "execution_count": 12,
   "id": "b135b5f7",
   "metadata": {},
   "outputs": [
    {
     "data": {
      "application/vnd.jupyter.widget-view+json": {
       "model_id": "9b9d5f3bc3a74b48ab59b169a50eb845",
       "version_major": 2,
       "version_minor": 0
      },
      "text/plain": [
       "  0%|          | 0/61888 [00:00<?, ?it/s]"
      ]
     },
     "metadata": {},
     "output_type": "display_data"
    }
   ],
   "source": [
    "path = \"corpus/triviaqa-rc/evidence/wikipedia/\"\n",
    "\n",
    "evidence_article_wiki = {}\n",
    "seen_wiki = {}\n",
    "\n",
    "for i, evidence in tqdm(list(enumerate(evidence_wiki_list))):\n",
    "    if evidence is not None:\n",
    "        evidence = evidence.replace(\":\", \"_\").replace(\"?\", \"_\").replace(\"*\", \"_\").replace('\"', \"_\")\n",
    "        if not evidence in seen_wiki:\n",
    "            seen_wiki[evidence] = 1\n",
    "            try:\n",
    "                txt = open(path + evidence, 'r', encoding='utf-8').read()\n",
    "                evidence_article_wiki[evidence] = txt\n",
    "            except:\n",
    "                print(\"Error reading file: \", evidence)\n",
    "                continue\n",
    "        else:\n",
    "            seen_wiki[evidence] += 1"
   ]
  },
  {
   "cell_type": "code",
   "execution_count": 38,
   "id": "37165b01",
   "metadata": {},
   "outputs": [],
   "source": [
    "rank = [[evidence, freq] for freq, evidence in sorted(zip(seen_wiki.values(), seen_wiki.keys()), reverse=True)]\n",
    "\n",
    "article_wiki_list = get_top_n_evidence(7500, rank, evidence_article_wiki)"
   ]
  },
  {
   "cell_type": "code",
   "execution_count": 39,
   "id": "a778cd24",
   "metadata": {},
   "outputs": [
    {
     "name": "stdout",
     "output_type": "stream",
     "text": [
      "207465927\n",
      "28406\n"
     ]
    }
   ],
   "source": [
    "print(len(\"\".join(article_wiki_list)))\n",
    "print(len(rank))"
   ]
  },
  {
   "cell_type": "markdown",
   "id": "a9afb751",
   "metadata": {},
   "source": [
    "## Standford"
   ]
  },
  {
   "cell_type": "code",
   "execution_count": 15,
   "id": "2c88ac8f",
   "metadata": {},
   "outputs": [],
   "source": [
    "import json\n",
    "\n",
    "with open('corpus/train-v2.0.json', 'r', encoding='utf-8') as f:\n",
    "    squad = json.load(f)"
   ]
  },
  {
   "cell_type": "code",
   "execution_count": null,
   "id": "4d9b6a6c",
   "metadata": {},
   "outputs": [],
   "source": [
    "context_squad_list = []\n",
    "\n",
    "num_articles = len(squad['data'])\n",
    "question_squad_grouped = []\n",
    "answer_squad_grouped = []\n",
    "\n",
    "for article in squad['data']:\n",
    "    title = article['title']\n",
    "    for paragraph in article['paragraphs']:\n",
    "        question_squad_grouped.append([])\n",
    "        answer_squad_grouped.append([])\n",
    "        context_squad_list.append(paragraph['context'])\n",
    "        for qa in paragraph['qas']:\n",
    "            if not qa['is_impossible']:\n",
    "                \n",
    "                question = qa['question']\n",
    "                answer = qa['answers']\n",
    "\n",
    "                question_squad_grouped[-1].append(question)\n",
    "                answer_squad_grouped[-1].append(answer[0]['text'])\n",
    "                            "
   ]
  },
  {
   "cell_type": "markdown",
   "id": "cbd43409",
   "metadata": {},
   "source": [
    "## QuAC"
   ]
  },
  {
   "cell_type": "code",
   "execution_count": 34,
   "id": "ce997267",
   "metadata": {},
   "outputs": [
    {
     "name": "stdout",
     "output_type": "stream",
     "text": [
      "QuAC length:  11567\n"
     ]
    }
   ],
   "source": [
    "with open('corpus/QuAC_v0.2.json', 'r', encoding='utf-8') as f:\n",
    "    quac = json.load(f)\n",
    "\n",
    "data = quac[\"data\"]\n",
    "length = len(data)\n",
    "print(\"QuAC length: \", length)"
   ]
  },
  {
   "cell_type": "code",
   "execution_count": 47,
   "id": "a1a7f7a1",
   "metadata": {},
   "outputs": [],
   "source": [
    "context_quac_list = []\n",
    "\n",
    "question_quac_grouped = []\n",
    "answer_quac_grouped = []\n",
    "\n",
    "for article in quac[\"data\"]:\n",
    "    for paragraph in article['paragraphs']:\n",
    "        question_quac_grouped.append([])\n",
    "        answer_quac_grouped.append([])\n",
    "        context_quac_list.append(paragraph['context'].replace(\" CANNOTANSWER\", \"\"))\n",
    "        for qa in paragraph['qas']:\n",
    "                question = qa['question']\n",
    "                answer = qa['answers'][0][\"text\"]\n",
    "\n",
    "                question_quac_grouped[-1].append(question)\n",
    "                answer_quac_grouped[-1].append(answer)"
   ]
  },
  {
   "cell_type": "code",
   "execution_count": 55,
   "id": "79f2887c",
   "metadata": {},
   "outputs": [],
   "source": [
    "len_list = [len(x) for x in context_quac_list]"
   ]
  },
  {
   "cell_type": "code",
   "execution_count": 57,
   "id": "23f79130",
   "metadata": {},
   "outputs": [
    {
     "data": {
      "image/png": "[encoded data removed]",
      "text/plain": [
       "<Figure size 640x480 with 1 Axes>"
      ]
     },
     "metadata": {},
     "output_type": "display_data"
    }
   ],
   "source": [
    "plt.hist(len_list, bins=100)\n",
    "plt.show()"
   ]
  },
  {
   "cell_type": "markdown",
   "id": "af374dc5",
   "metadata": {},
   "source": [
    "## Merge"
   ]
  },
  {
   "cell_type": "code",
   "execution_count": 40,
   "id": "f1461d1d",
   "metadata": {},
   "outputs": [
    {
     "name": "stdout",
     "output_type": "stream",
     "text": [
      "11\n",
      "4\n",
      "233\n",
      "6\n",
      "207\n",
      "5\n",
      "14\n",
      "6\n",
      "490\n"
     ]
    }
   ],
   "source": [
    "question_co_flatten = [item for sublist in question_co_grouped_list for item in sublist]\n",
    "answer_co_flatten = [item for sublist in answer_co_grouped_list for item in sublist]\n",
    "\n",
    "question_squad_flatten = [item for sublist in question_squad_grouped for item in sublist]\n",
    "answer_squad_flatten = [item for sublist in answer_squad_grouped for item in sublist]\n",
    "\n",
    "corpus = story_list + question_co_flatten + answer_co_flatten +\\\n",
    "         article_web_list + question_web_list + answer_web_list +\\\n",
    "         article_wiki_list + question_wiki_list + answer_wiki_list +\\\n",
    "         context_squad_list + question_squad_flatten + answer_squad_flatten\n",
    "\n",
    "print(len(\"\".join(story_list))//1000000)\n",
    "print(len(\"\".join(question_co_flatten + answer_co_flatten))//1000000)\n",
    "print(len(\"\".join(article_web_list))//1000000)\n",
    "print(len(\"\".join(question_web_list + answer_web_list))//1000000)\n",
    "print(len(\"\".join(article_wiki_list))//1000000)\n",
    "print(len(\"\".join(question_wiki_list + answer_wiki_list))//1000000)\n",
    "print(len(\"\".join(context_squad_list))//1000000)\n",
    "print(len(\"\".join(question_squad_flatten + answer_squad_flatten))//1000000)\n",
    "print(len(\"\".join(corpus))//1000000)"
   ]
  },
  {
   "cell_type": "code",
   "execution_count": null,
   "id": "90a09fdf",
   "metadata": {},
   "outputs": [
    {
     "name": "stdout",
     "output_type": "stream",
     "text": [
      "Lowercasing corpus\n"
     ]
    },
    {
     "data": {
      "application/vnd.jupyter.widget-view+json": {
       "model_id": "5d0d8a43a249401eb8523d95ac20f12a",
       "version_major": 2,
       "version_minor": 0
      },
      "text/plain": [
       "  0%|          | 0/716438 [00:00<?, ?it/s]"
      ]
     },
     "metadata": {},
     "output_type": "display_data"
    }
   ],
   "source": [
    "tokenizer = TokenizerBPE(corpus, 32000, lowercase=True)\n",
    "tokenizer.destroy_hash()\n",
    "pkl.dump(tokenizer, open(\"tokenizers/tokenizer_superQA_bigger_24k.pkl\", \"wb\"))"
   ]
  },
  {
   "cell_type": "markdown",
   "id": "b7868d2f",
   "metadata": {},
   "source": [
    "## Tokenize Corpus"
   ]
  },
  {
   "cell_type": "code",
   "execution_count": null,
   "id": "830d0a11",
   "metadata": {},
   "outputs": [],
   "source": [
    "tokenizer = pkl.load(open(\"tokenizers/tokenizer_superQA_bigger_24k.pkl\", \"rb\"))\n",
    "tokenizer.create_hash()\n",
    "tokenizer.add_special_tokens([\"<s>\", \"</s>\", \"<q>\", \"<a>\",\"<pad>\"])"
   ]
  },
  {
   "cell_type": "code",
   "execution_count": 8,
   "id": "706ff972",
   "metadata": {},
   "outputs": [],
   "source": [
    "def fused_sqa(story_list, question_grouped_list, answer_grouped_list):\n",
    "    q =\"<q>\"\n",
    "    a = \"<a>\"\n",
    "    sos = \"<s>\"\n",
    "    eos = \"</s>\"\n",
    "\n",
    "    rcw = re.compile(r\"\\s+\")\n",
    "\n",
    "    corpus_list = []\n",
    "    for story, question_list, answer_list in tqdm(list(zip(story_list, question_grouped_list, answer_grouped_list))):\n",
    "        story = story.replace(\"\\n\", \" \").replace(\"\\r\", \" \")\n",
    "        story = rcw.sub(\" \", story).strip()\n",
    "        sqa = [sos, normalize_to_ascii(story).lower()]\n",
    "        for question, answer in zip(question_list, answer_list):\n",
    "            question = question.replace(\"\\n\", \" \").replace(\"\\r\", \" \")\n",
    "            question = rcw.sub(\" \", question).strip()\n",
    "            answer = answer.replace(\"\\n\", \" \").replace(\"\\r\", \" \")\n",
    "            answer = rcw.sub(\" \", answer).strip()\n",
    "            sqa.append(q)\n",
    "            sqa.append(normalize_to_ascii(question).lower())\n",
    "            sqa.append(a)\n",
    "            sqa.append(normalize_to_ascii(answer).lower())\n",
    "        sqa.append(eos)\n",
    "        corpus_list.append(\"\".join(sqa))\n",
    "        \n",
    "    return corpus_list"
   ]
  },
  {
   "cell_type": "code",
   "execution_count": 9,
   "id": "6618229c",
   "metadata": {},
   "outputs": [],
   "source": [
    "def fused_qa(question_list, answer_list):\n",
    "    q =\"<q>\"\n",
    "    a = \"<a>\"\n",
    "    sos = \"<s>\"\n",
    "    eos = \"</s>\"\n",
    "    rcw = re.compile(r\"\\s+\")\n",
    "\n",
    "    corpus_list = []\n",
    "    for question, answer in tqdm(list(zip(question_list, answer_list))):\n",
    "        question = question.replace(\"\\n\", \" \").replace(\"\\r\", \" \")\n",
    "        question = rcw.sub(\" \", question).strip()\n",
    "        answer = answer.replace(\"\\n\", \" \").replace(\"\\r\", \" \")\n",
    "        answer = rcw.sub(\" \", answer).strip()\n",
    "        qa = [sos, q, normalize_to_ascii(question), a, normalize_to_ascii(answer), eos]\n",
    "        corpus_list.extend(qa)\n",
    "        \n",
    "    return \"\".join(corpus_list).lower()"
   ]
  },
  {
   "cell_type": "code",
   "execution_count": 10,
   "id": "3d147717",
   "metadata": {},
   "outputs": [],
   "source": [
    "def fused_article(corpus_list):\n",
    "    sos = \"<s>\"\n",
    "    eos = \"</s>\"\n",
    "\n",
    "    rcw = re.compile(r\"\\s+\")\n",
    "\n",
    "    corpus_padded_list = []\n",
    "    for line in corpus_list:\n",
    "        line = line.replace(\"\\n\", \" \").replace(\"\\r\", \" \")\n",
    "        line = rcw.sub(\" \", line).strip()\n",
    "        line = [sos, normalize_to_ascii(line).lower(), eos]\n",
    "        corpus_padded_list.extend(line)\n",
    "    \n",
    "    return \"\".join(corpus_padded_list)"
   ]
  },
  {
   "cell_type": "markdown",
   "id": "09f65df6",
   "metadata": {},
   "source": [
    "### Fuse CoQA"
   ]
  },
  {
   "cell_type": "code",
   "execution_count": 176,
   "id": "3ae45dcf",
   "metadata": {},
   "outputs": [
    {
     "data": {
      "application/vnd.jupyter.widget-view+json": {
       "model_id": "700e7ade500245d1a9a0f273b308b3f8",
       "version_major": 2,
       "version_minor": 0
      },
      "text/plain": [
       "  0%|          | 0/7199 [00:00<?, ?it/s]"
      ]
     },
     "metadata": {},
     "output_type": "display_data"
    },
    {
     "data": {
      "application/vnd.jupyter.widget-view+json": {
       "model_id": "80d9c73d1d5141eea80f60c909797d57",
       "version_major": 2,
       "version_minor": 0
      },
      "text/plain": [
       "  0%|          | 0/7199 [00:00<?, ?it/s]"
      ]
     },
     "metadata": {},
     "output_type": "display_data"
    },
    {
     "ename": "KeyboardInterrupt",
     "evalue": "",
     "output_type": "error",
     "traceback": [
      "\u001b[1;31m---------------------------------------------------------------------------\u001b[0m",
      "\u001b[1;31mKeyboardInterrupt\u001b[0m                         Traceback (most recent call last)",
      "Cell \u001b[1;32mIn[176], line 2\u001b[0m\n\u001b[0;32m      1\u001b[0m fused \u001b[38;5;241m=\u001b[39m fused_sqa(story_list, question_co_grouped_list, answer_co_grouped_list)\n\u001b[1;32m----> 2\u001b[0m corpus_encoded \u001b[38;5;241m=\u001b[39m [tokenizer\u001b[38;5;241m.\u001b[39mencode(line\u001b[38;5;241m.\u001b[39mlower()) \u001b[38;5;28;01mfor\u001b[39;00m line \u001b[38;5;129;01min\u001b[39;00m tqdm(fused)]\n\u001b[0;32m      4\u001b[0m pkl\u001b[38;5;241m.\u001b[39mdump(corpus_encoded, \u001b[38;5;28mopen\u001b[39m(\u001b[38;5;124m'\u001b[39m\u001b[38;5;124mcorpus/corpus_coqa_sqa_24k\u001b[39m\u001b[38;5;124m'\u001b[39m, \u001b[38;5;124m'\u001b[39m\u001b[38;5;124mwb\u001b[39m\u001b[38;5;124m'\u001b[39m))\n",
      "Cell \u001b[1;32mIn[176], line 2\u001b[0m, in \u001b[0;36m<listcomp>\u001b[1;34m(.0)\u001b[0m\n\u001b[0;32m      1\u001b[0m fused \u001b[38;5;241m=\u001b[39m fused_sqa(story_list, question_co_grouped_list, answer_co_grouped_list)\n\u001b[1;32m----> 2\u001b[0m corpus_encoded \u001b[38;5;241m=\u001b[39m [\u001b[43mtokenizer\u001b[49m\u001b[38;5;241;43m.\u001b[39;49m\u001b[43mencode\u001b[49m\u001b[43m(\u001b[49m\u001b[43mline\u001b[49m\u001b[38;5;241;43m.\u001b[39;49m\u001b[43mlower\u001b[49m\u001b[43m(\u001b[49m\u001b[43m)\u001b[49m\u001b[43m)\u001b[49m \u001b[38;5;28;01mfor\u001b[39;00m line \u001b[38;5;129;01min\u001b[39;00m tqdm(fused)]\n\u001b[0;32m      4\u001b[0m pkl\u001b[38;5;241m.\u001b[39mdump(corpus_encoded, \u001b[38;5;28mopen\u001b[39m(\u001b[38;5;124m'\u001b[39m\u001b[38;5;124mcorpus/corpus_coqa_sqa_24k\u001b[39m\u001b[38;5;124m'\u001b[39m, \u001b[38;5;124m'\u001b[39m\u001b[38;5;124mwb\u001b[39m\u001b[38;5;124m'\u001b[39m))\n",
      "File \u001b[1;32mc:\\Users\\krist\\Documents\\llm-basics\\src\\tokenizer.py:120\u001b[0m, in \u001b[0;36mTokenizerBPE.encode\u001b[1;34m(self, text, verbose)\u001b[0m\n\u001b[0;32m    117\u001b[0m     indices \u001b[38;5;241m=\u001b[39m \u001b[38;5;28mself\u001b[39m\u001b[38;5;241m.\u001b[39mpre_merge(indices)\n\u001b[0;32m    119\u001b[0m \u001b[38;5;28;01mfor\u001b[39;00m (idx1, idx2), new_idx \u001b[38;5;129;01min\u001b[39;00m decorator(\u001b[38;5;28mself\u001b[39m\u001b[38;5;241m.\u001b[39mmerge_list):\n\u001b[1;32m--> 120\u001b[0m     \u001b[38;5;28mslice\u001b[39m \u001b[38;5;241m=\u001b[39m np\u001b[38;5;241m.\u001b[39mwhere(\u001b[43mnp\u001b[49m\u001b[38;5;241;43m.\u001b[39;49m\u001b[43mlogical_and\u001b[49m\u001b[43m(\u001b[49m\u001b[43mindices\u001b[49m\u001b[43m[\u001b[49m\u001b[43m:\u001b[49m\u001b[38;5;241;43m-\u001b[39;49m\u001b[38;5;241;43m1\u001b[39;49m\u001b[43m]\u001b[49m\u001b[43m \u001b[49m\u001b[38;5;241;43m==\u001b[39;49m\u001b[43m \u001b[49m\u001b[43midx1\u001b[49m\u001b[43m,\u001b[49m\u001b[43m  \u001b[49m\u001b[43mindices\u001b[49m\u001b[43m[\u001b[49m\u001b[38;5;241;43m1\u001b[39;49m\u001b[43m:\u001b[49m\u001b[43m]\u001b[49m\u001b[43m \u001b[49m\u001b[38;5;241;43m==\u001b[39;49m\u001b[43m \u001b[49m\u001b[43midx2\u001b[49m\u001b[43m)\u001b[49m)\n\u001b[0;32m    121\u001b[0m     \u001b[38;5;28;01mif\u001b[39;00m \u001b[38;5;28mlen\u001b[39m(\u001b[38;5;28mslice\u001b[39m[\u001b[38;5;241m0\u001b[39m]) \u001b[38;5;241m>\u001b[39m \u001b[38;5;241m0\u001b[39m:\n\u001b[0;32m    122\u001b[0m         indices[:\u001b[38;5;241m-\u001b[39m\u001b[38;5;241m1\u001b[39m][\u001b[38;5;28mslice\u001b[39m] \u001b[38;5;241m=\u001b[39m new_idx\n",
      "\u001b[1;31mKeyboardInterrupt\u001b[0m: "
     ]
    }
   ],
   "source": [
    "fused = fused_sqa(story_list, question_co_grouped_list, answer_co_grouped_list)\n",
    "corpus_encoded = [tokenizer.encode(line.lower()) for line in tqdm(fused)]\n",
    "\n",
    "pkl.dump(corpus_encoded, open('corpus/corpus_coqa_sqa_24k', 'wb'))"
   ]
  },
  {
   "cell_type": "markdown",
   "id": "f964b1d3",
   "metadata": {},
   "source": [
    "### Fuse Web"
   ]
  },
  {
   "cell_type": "code",
   "execution_count": 183,
   "id": "03a51c4f",
   "metadata": {},
   "outputs": [
    {
     "data": {
      "application/vnd.jupyter.widget-view+json": {
       "model_id": "3a04a35c586f463882767741566766c7",
       "version_major": 2,
       "version_minor": 0
      },
      "text/plain": [
       "  0%|          | 0/76496 [00:00<?, ?it/s]"
      ]
     },
     "metadata": {},
     "output_type": "display_data"
    },
    {
     "data": {
      "application/vnd.jupyter.widget-view+json": {
       "model_id": "cdb70bc218964780bf80c29683f9ae76",
       "version_major": 2,
       "version_minor": 0
      },
      "text/plain": [
       "  0%|          | 0/24000 [00:00<?, ?it/s]"
      ]
     },
     "metadata": {},
     "output_type": "display_data"
    }
   ],
   "source": [
    "fused = fused_qa(question_web_list, answer_web_list)\n",
    "corpus_encoded = tokenizer.encode(fused, verbose=True)\n",
    "\n",
    "pkl.dump(corpus_encoded, open('corpus/corpus_web_qa_24k', 'wb'))"
   ]
  },
  {
   "cell_type": "code",
   "execution_count": 11,
   "id": "809da242",
   "metadata": {},
   "outputs": [
    {
     "data": {
      "application/vnd.jupyter.widget-view+json": {
       "model_id": "dfa14b7f381d4a609475282d7ada61c0",
       "version_major": 2,
       "version_minor": 0
      },
      "text/plain": [
       "  0%|          | 0/24000 [00:00<?, ?it/s]"
      ]
     },
     "metadata": {},
     "output_type": "display_data"
    },
    {
     "ename": "KeyboardInterrupt",
     "evalue": "",
     "output_type": "error",
     "traceback": [
      "\u001b[1;31m---------------------------------------------------------------------------\u001b[0m",
      "\u001b[1;31mKeyboardInterrupt\u001b[0m                         Traceback (most recent call last)",
      "Cell \u001b[1;32mIn[11], line 2\u001b[0m\n\u001b[0;32m      1\u001b[0m fused \u001b[38;5;241m=\u001b[39m fused_article(article_web_list)\n\u001b[1;32m----> 2\u001b[0m corpus_encoded \u001b[38;5;241m=\u001b[39m \u001b[43mtokenizer\u001b[49m\u001b[38;5;241;43m.\u001b[39;49m\u001b[43mencode\u001b[49m\u001b[43m(\u001b[49m\u001b[43mfused\u001b[49m\u001b[38;5;241;43m.\u001b[39;49m\u001b[43mlower\u001b[49m\u001b[43m(\u001b[49m\u001b[43m)\u001b[49m\u001b[43m,\u001b[49m\u001b[43m \u001b[49m\u001b[43mverbose\u001b[49m\u001b[38;5;241;43m=\u001b[39;49m\u001b[38;5;28;43;01mTrue\u001b[39;49;00m\u001b[43m)\u001b[49m\n\u001b[0;32m      4\u001b[0m pkl\u001b[38;5;241m.\u001b[39mdump(corpus_encoded, \u001b[38;5;28mopen\u001b[39m(\u001b[38;5;124m'\u001b[39m\u001b[38;5;124mcorpus/corpus_web_article_24k\u001b[39m\u001b[38;5;124m'\u001b[39m, \u001b[38;5;124m'\u001b[39m\u001b[38;5;124mwb\u001b[39m\u001b[38;5;124m'\u001b[39m))\n",
      "File \u001b[1;32mc:\\Users\\krist\\Documents\\llm-basics\\src\\tokenizer.py:123\u001b[0m, in \u001b[0;36mTokenizerBPE.encode\u001b[1;34m(self, text, verbose)\u001b[0m\n\u001b[0;32m    121\u001b[0m     \u001b[38;5;28;01mif\u001b[39;00m \u001b[38;5;28mlen\u001b[39m(\u001b[38;5;28mslice\u001b[39m[\u001b[38;5;241m0\u001b[39m]) \u001b[38;5;241m>\u001b[39m \u001b[38;5;241m0\u001b[39m:\n\u001b[0;32m    122\u001b[0m         indices[:\u001b[38;5;241m-\u001b[39m\u001b[38;5;241m1\u001b[39m][\u001b[38;5;28mslice\u001b[39m] \u001b[38;5;241m=\u001b[39m new_idx\n\u001b[1;32m--> 123\u001b[0m         indices \u001b[38;5;241m=\u001b[39m \u001b[43mnp\u001b[49m\u001b[38;5;241;43m.\u001b[39;49m\u001b[43mdelete\u001b[49m\u001b[43m(\u001b[49m\u001b[43mindices\u001b[49m\u001b[43m,\u001b[49m\u001b[43m \u001b[49m\u001b[43m(\u001b[49m\u001b[38;5;28;43mslice\u001b[39;49m\u001b[43m[\u001b[49m\u001b[38;5;241;43m0\u001b[39;49m\u001b[43m]\u001b[49m\u001b[38;5;241;43m+\u001b[39;49m\u001b[38;5;241;43m1\u001b[39;49m\u001b[43m)\u001b[49m\u001b[43m)\u001b[49m\n\u001b[0;32m    125\u001b[0m \u001b[38;5;28;01mreturn\u001b[39;00m tf\u001b[38;5;241m.\u001b[39mexpand_dims(tf\u001b[38;5;241m.\u001b[39mconvert_to_tensor(indices, dtype\u001b[38;5;241m=\u001b[39mtf\u001b[38;5;241m.\u001b[39mint32), axis\u001b[38;5;241m=\u001b[39m\u001b[38;5;241m0\u001b[39m)\n",
      "File \u001b[1;32mc:\\Users\\krist\\anaconda3\\envs\\keras-gpu\\lib\\site-packages\\numpy\\lib\\function_base.py:5359\u001b[0m, in \u001b[0;36mdelete\u001b[1;34m(arr, obj, axis)\u001b[0m\n\u001b[0;32m   5356\u001b[0m     slobj[axis] \u001b[38;5;241m=\u001b[39m keep\n\u001b[0;32m   5357\u001b[0m     new \u001b[38;5;241m=\u001b[39m arr[\u001b[38;5;28mtuple\u001b[39m(slobj)]\n\u001b[1;32m-> 5359\u001b[0m \u001b[38;5;28;01mif\u001b[39;00m wrap:\n\u001b[0;32m   5360\u001b[0m     \u001b[38;5;28;01mreturn\u001b[39;00m wrap(new)\n\u001b[0;32m   5361\u001b[0m \u001b[38;5;28;01melse\u001b[39;00m:\n",
      "\u001b[1;31mKeyboardInterrupt\u001b[0m: "
     ]
    }
   ],
   "source": [
    "fused = fused_article(article_web_list)\n",
    "corpus_encoded = tokenizer.encode(fused.lower(), verbose=True)\n",
    "\n",
    "pkl.dump(corpus_encoded, open('corpus/corpus_web_article_24k', 'wb'))"
   ]
  },
  {
   "cell_type": "markdown",
   "id": "dee915af",
   "metadata": {},
   "source": [
    "### Fuse Wiki"
   ]
  },
  {
   "cell_type": "code",
   "execution_count": 186,
   "id": "b3bde370",
   "metadata": {},
   "outputs": [
    {
     "data": {
      "application/vnd.jupyter.widget-view+json": {
       "model_id": "1151012f13404a20b72e4d23267dd160",
       "version_major": 2,
       "version_minor": 0
      },
      "text/plain": [
       "  0%|          | 0/61888 [00:00<?, ?it/s]"
      ]
     },
     "metadata": {},
     "output_type": "display_data"
    }
   ],
   "source": [
    "fused = fused_qa(question_wiki_list, answer_wiki_list)\n",
    "corpus_encoded = tokenizer.encode(fused)\n",
    "\n",
    "pkl.dump(corpus_encoded, open('corpus/corpus_wiki_qa_24k', 'wb'))"
   ]
  },
  {
   "cell_type": "code",
   "execution_count": null,
   "id": "c8647ffc",
   "metadata": {},
   "outputs": [
    {
     "data": {
      "application/vnd.jupyter.widget-view+json": {
       "model_id": "6f0263e10fc846a28f45b1687f7a1faf",
       "version_major": 2,
       "version_minor": 0
      },
      "text/plain": [
       "  0%|          | 0/24000 [00:00<?, ?it/s]"
      ]
     },
     "metadata": {},
     "output_type": "display_data"
    }
   ],
   "source": [
    "fused = fused_article(article_wiki_list)\n",
    "corpus_encoded = tokenizer.encode(fused.lower(), verbose=True)\n",
    "\n",
    "pkl.dump(corpus_encoded, open('corpus/corpus_wiki_article_24k', 'wb'))"
   ]
  },
  {
   "cell_type": "markdown",
   "id": "7a6fffa0",
   "metadata": {},
   "source": [
    "### Fuse Sqad"
   ]
  },
  {
   "cell_type": "code",
   "execution_count": null,
   "id": "536b0839",
   "metadata": {},
   "outputs": [
    {
     "data": {
      "application/vnd.jupyter.widget-view+json": {
       "model_id": "01adf10076c54d3eb9356e7d8f6f38dc",
       "version_major": 2,
       "version_minor": 0
      },
      "text/plain": [
       "  0%|          | 0/19035 [00:00<?, ?it/s]"
      ]
     },
     "metadata": {},
     "output_type": "display_data"
    },
    {
     "data": {
      "application/vnd.jupyter.widget-view+json": {
       "model_id": "cddae82f69824d9c8402159212583c7e",
       "version_major": 2,
       "version_minor": 0
      },
      "text/plain": [
       "  0%|          | 0/19035 [00:00<?, ?it/s]"
      ]
     },
     "metadata": {},
     "output_type": "display_data"
    }
   ],
   "source": [
    "fused = fused_sqa(context_squad_list, question_squad_grouped, answer_squad_grouped)\n",
    "corpus_encoded = [tokenizer.encode(line.lower()) for line in tqdm(fused)]\n",
    "\n",
    "pkl.dump(corpus_encoded, open('corpus/corpus_sqad_sqa_24k', 'wb'))"
   ]
  },
  {
   "cell_type": "markdown",
   "id": "b1da2a0e",
   "metadata": {},
   "source": [
    "## Analysis and Padding"
   ]
  },
  {
   "cell_type": "code",
   "execution_count": null,
   "id": "6976de92",
   "metadata": {},
   "outputs": [],
   "source": [
    "def pad_corpus(corpus, max_length, tokenizer):\n",
    "    pad_token = tokenizer.token_to_idx[\"<pad>\"]\n",
    "    padded_corpus = []\n",
    "    for line in tqdm(corpus):\n",
    "        if line.shape[1] < max_length:\n",
    "            padding = tf.repeat(tf.constant([[pad_token]]), max_length - line.shape[1], axis=1)\n",
    "            padded_line = tf.concat([line, padding], axis=1)\n",
    "        else:\n",
    "            padded_line = line[:, :max_length]\n",
    "        padded_corpus.append(padded_line)\n",
    "    return tf.concat(padded_corpus, axis=0)"
   ]
  },
  {
   "cell_type": "code",
   "execution_count": null,
   "id": "571474ee",
   "metadata": {},
   "outputs": [
    {
     "data": {
      "image/png": "[encoded data removed]",
      "text/plain": [
       "<Figure size 640x480 with 1 Axes>"
      ]
     },
     "metadata": {},
     "output_type": "display_data"
    }
   ],
   "source": [
    "corpus_encoded = pkl.load(open('corpus/corpus_coqa_sqa_24k', 'rb'))\n",
    "\n",
    "len_list = [line.shape[1] for line in corpus_encoded]\n",
    "plt.hist(len_list, bins=100)\n",
    "plt.show()"
   ]
  },
  {
   "cell_type": "code",
   "execution_count": null,
   "id": "30758388",
   "metadata": {},
   "outputs": [
    {
     "data": {
      "application/vnd.jupyter.widget-view+json": {
       "model_id": "850fa1490c0d4d6e85d8e8498b4cf2bc",
       "version_major": 2,
       "version_minor": 0
      },
      "text/plain": [
       "  0%|          | 0/7199 [00:00<?, ?it/s]"
      ]
     },
     "metadata": {},
     "output_type": "display_data"
    }
   ],
   "source": [
    "corpus_padded = pad_corpus(corpus_encoded, 768, tokenizer)\n",
    "pkl.dump(corpus_padded, open('corpus/corpus_coqa_sqa_24k_padded', 'wb'))"
   ]
  },
  {
   "cell_type": "code",
   "execution_count": null,
   "id": "4c3dd34e",
   "metadata": {},
   "outputs": [
    {
     "data": {
      "text/plain": [
       "TensorShape([7199, 768])"
      ]
     },
     "execution_count": 139,
     "metadata": {},
     "output_type": "execute_result"
    }
   ],
   "source": [
    "corpus_padded.shape"
   ]
  },
  {
   "cell_type": "code",
   "execution_count": null,
   "id": "5c4f3d20",
   "metadata": {},
   "outputs": [
    {
     "data": {
      "image/png": "[encoded data removed]",
      "text/plain": [
       "<Figure size 640x480 with 1 Axes>"
      ]
     },
     "metadata": {},
     "output_type": "display_data"
    }
   ],
   "source": [
    "corpus_encoded = pkl.load(open('corpus/corpus_sqad_sqa_24k', 'rb'))\n",
    "\n",
    "\n",
    "len_list = [line.shape[1] for line in corpus_encoded]\n",
    "plt.hist(len_list, bins=100)\n",
    "plt.show()"
   ]
  },
  {
   "cell_type": "code",
   "execution_count": null,
   "id": "a18bb083",
   "metadata": {},
   "outputs": [
    {
     "data": {
      "application/vnd.jupyter.widget-view+json": {
       "model_id": "e832c05a23e345b8873e9f4a5e037959",
       "version_major": 2,
       "version_minor": 0
      },
      "text/plain": [
       "  0%|          | 0/19035 [00:00<?, ?it/s]"
      ]
     },
     "metadata": {},
     "output_type": "display_data"
    }
   ],
   "source": [
    "corpus_padded = pad_corpus(corpus_encoded, 768, tokenizer)\n",
    "pkl.dump(corpus_padded, open('corpus/corpus_squad_sqa_24k_padded', 'wb'))"
   ]
  },
  {
   "cell_type": "markdown",
   "id": "52a5f20b",
   "metadata": {},
   "source": [
    "## "
   ]
  }
 ],
 "metadata": {
  "kernelspec": {
   "display_name": "keras-gpu",
   "language": "python",
   "name": "python3"
  },
  "language_info": {
   "codemirror_mode": {
    "name": "ipython",
    "version": 3
   },
   "file_extension": ".py",
   "mimetype": "text/x-python",
   "name": "python",
   "nbconvert_exporter": "python",
   "pygments_lexer": "ipython3",
   "version": "3.10.16"
  }
 },
 "nbformat": 4,
 "nbformat_minor": 5
}
