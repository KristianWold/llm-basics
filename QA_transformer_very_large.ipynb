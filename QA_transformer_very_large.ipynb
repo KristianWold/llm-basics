{
 "cells": [
  {
   "cell_type": "markdown",
   "id": "04010a08",
   "metadata": {},
   "source": [
    "## LLM"
   ]
  },
  {
   "cell_type": "code",
   "execution_count": 1,
   "id": "8fa3d166",
   "metadata": {},
   "outputs": [
    {
     "name": "stderr",
     "output_type": "stream",
     "text": [
      "c:\\Users\\krist\\anaconda3\\envs\\keras-gpu\\lib\\site-packages\\requests\\__init__.py:86: RequestsDependencyWarning: Unable to find acceptable character detection dependency (chardet or charset_normalizer).\n",
      "  warnings.warn(\n"
     ]
    },
    {
     "ename": "RuntimeError",
     "evalue": "CPU dispatcher tracer already initlized",
     "output_type": "error",
     "traceback": [
      "\u001b[1;31m---------------------------------------------------------------------------\u001b[0m",
      "\u001b[1;31mRuntimeError\u001b[0m                              Traceback (most recent call last)",
      "\u001b[1;31mRuntimeError\u001b[0m: CPU dispatcher tracer already initlized"
     ]
    },
    {
     "ename": "RuntimeError",
     "evalue": "CPU dispatcher tracer already initlized",
     "output_type": "error",
     "traceback": [
      "\u001b[1;31m---------------------------------------------------------------------------\u001b[0m",
      "\u001b[1;31mRuntimeError\u001b[0m                              Traceback (most recent call last)",
      "\u001b[1;31mRuntimeError\u001b[0m: CPU dispatcher tracer already initlized"
     ]
    },
    {
     "ename": "RuntimeError",
     "evalue": "CPU dispatcher tracer already initlized",
     "output_type": "error",
     "traceback": [
      "\u001b[1;31m---------------------------------------------------------------------------\u001b[0m",
      "\u001b[1;31mRuntimeError\u001b[0m                              Traceback (most recent call last)",
      "\u001b[1;31mRuntimeError\u001b[0m: CPU dispatcher tracer already initlized"
     ]
    },
    {
     "ename": "RuntimeError",
     "evalue": "CPU dispatcher tracer already initlized",
     "output_type": "error",
     "traceback": [
      "\u001b[1;31m---------------------------------------------------------------------------\u001b[0m",
      "\u001b[1;31mRuntimeError\u001b[0m                              Traceback (most recent call last)",
      "\u001b[1;31mRuntimeError\u001b[0m: CPU dispatcher tracer already initlized"
     ]
    },
    {
     "ename": "RuntimeError",
     "evalue": "CPU dispatcher tracer already initlized",
     "output_type": "error",
     "traceback": [
      "\u001b[1;31m---------------------------------------------------------------------------\u001b[0m",
      "\u001b[1;31mRuntimeError\u001b[0m                              Traceback (most recent call last)",
      "\u001b[1;31mRuntimeError\u001b[0m: CPU dispatcher tracer already initlized"
     ]
    },
    {
     "ename": "RuntimeError",
     "evalue": "CPU dispatcher tracer already initlized",
     "output_type": "error",
     "traceback": [
      "\u001b[1;31m---------------------------------------------------------------------------\u001b[0m",
      "\u001b[1;31mRuntimeError\u001b[0m                              Traceback (most recent call last)",
      "\u001b[1;31mRuntimeError\u001b[0m: CPU dispatcher tracer already initlized"
     ]
    },
    {
     "ename": "RuntimeError",
     "evalue": "CPU dispatcher tracer already initlized",
     "output_type": "error",
     "traceback": [
      "\u001b[1;31m---------------------------------------------------------------------------\u001b[0m",
      "\u001b[1;31mRuntimeError\u001b[0m                              Traceback (most recent call last)",
      "\u001b[1;31mRuntimeError\u001b[0m: CPU dispatcher tracer already initlized"
     ]
    },
    {
     "name": "stdout",
     "output_type": "stream",
     "text": [
      "Num GPUs Available:  1\n",
      "INFO:tensorflow:Mixed precision compatibility check (mixed_float16): OK\n",
      "Your GPU will likely run quickly with dtype policy mixed_float16 as it has compute capability of at least 7.0. Your GPU: NVIDIA GeForce RTX 4080, compute capability 8.9\n"
     ]
    }
   ],
   "source": [
    "import matplotlib.pyplot as plt\n",
    "import random\n",
    "from IPython.display import clear_output\n",
    "from src.tokenizer import TokenizerBPE, fuse_tokenized_corpus, chunk_corpus\n",
    "\n",
    "import os\n",
    "import time\n",
    "os.environ[\"CUDA_VISIBLE_DEVICES\"] = \"0\"\n",
    "import tensorflow as tf\n",
    "import numpy as np\n",
    "import pickle as pkl\n",
    "from tqdm.notebook import tqdm\n",
    "from src.transformer import *\n",
    "from src.data_handling import split_on_value\n",
    "\n",
    "print(\"Num GPUs Available: \", len(tf.config.list_physical_devices('GPU')))\n",
    "\n",
    "tf.keras.mixed_precision.set_global_policy('mixed_float16')"
   ]
  },
  {
   "cell_type": "code",
   "execution_count": 2,
   "id": "8751dd02",
   "metadata": {},
   "outputs": [],
   "source": [
    "tokenizer = pkl.load(open(\"tokenizers/tokenizer_superQA_24k.pkl\", \"rb\"))\n",
    "tokenizer.create_hash()\n",
    "tokenizer.add_special_tokens([\"<s>\", \"</s>\", \"<q>\", \"<a>\",\"<pad>\"])"
   ]
  },
  {
   "cell_type": "code",
   "execution_count": 3,
   "id": "73ef7665",
   "metadata": {},
   "outputs": [],
   "source": [
    "def batch(corpus, batch_size=32, offset=0):\n",
    "    corpus = corpus[:, offset:]\n",
    "    length = corpus.shape[1]\n",
    "\n",
    "    batches = length // batch_size\n",
    "\n",
    "    corpus = corpus[:, :batches * batch_size]\n",
    "\n",
    "    corpus = tf.reshape(corpus, [-1, batch_size])\n",
    "    return corpus\n"
   ]
  },
  {
   "cell_type": "code",
   "execution_count": 4,
   "id": "0868e180",
   "metadata": {},
   "outputs": [],
   "source": [
    "corpus_coqa_sqa = pkl.load(open('corpus/corpus_clean/corpus_coqa_sqa_24k_padded', 'rb'))\n",
    "corpus_squad_sqa = pkl.load(open('corpus/corpus_clean/corpus_squad_sqa_24k_padded', 'rb'))\n",
    "corpus_quac_sqa = pkl.load(open('corpus/corpus_clean/corpus_quac_sqa_24k_padded', 'rb'))\n",
    "\n",
    "corpus_web_qa = pkl.load(open(\"corpus/corpus_clean/corpus_web_qa_24k\", 'rb'))\n",
    "corpus_web_qa = batch(corpus_web_qa, batch_size=768)\n",
    "\n",
    "corpus_wiki_qa = pkl.load(open(\"corpus/corpus_clean/corpus_wiki_qa_24k\", 'rb'))\n",
    "corpus_wiki_qa = batch(corpus_wiki_qa, batch_size=768)\n",
    "\n",
    "corpus_web_article_1 = pkl.load(open(\"corpus/corpus_clean/corpus_web_article_24k_1\", 'rb'))\n",
    "corpus_web_article_1 = batch(corpus_web_article_1, batch_size=768)\n",
    "\n",
    "corpus_web_article_2 = pkl.load(open(\"corpus/corpus_clean/corpus_web_article_24k_2\", 'rb'))\n",
    "corpus_web_article_2 = batch(corpus_web_article_2, batch_size=768)\n",
    "\n",
    "corpus_wiki_article = pkl.load(open(\"corpus/corpus_clean/corpus_wiki_article_24k\", 'rb'))\n",
    "corpus_wiki_article = batch(corpus_wiki_article, batch_size=768)\n",
    "\n",
    "\n",
    "corpus_recipe = pkl.load(open(\"corpus/corpus_clean/corpus_recipe_24k\", 'rb'))\n",
    "corpus_recipe = batch(corpus_recipe, batch_size=768)\n",
    "\n",
    "corpus_recipe_qa = pkl.load(open('corpus/corpus_clean/corpus_recipe_qa_24k', 'rb'))\n",
    "corpus_recipe_qa = batch(corpus_recipe_qa, batch_size=768)\n",
    "\n",
    "corpus_recipe_qa_ingred = pkl.load(open('corpus/corpus_clean/corpus_recipe_qa_ingred_24k', 'rb'))\n",
    "corpus_recipe_qa_ingred = batch(corpus_recipe_qa_ingred, batch_size=768)\n",
    "\n",
    "corpus_hotpot_sqa = pkl.load(open('corpus/corpus_clean/corpus_hotpot_sqa_24k_padded', 'rb'))\n",
    "corpus_hotpot_sqa_noRed = pkl.load(open('corpus/corpus_clean/corpus_hotpot_sqa_noRed_24k_padded', 'rb'))"
   ]
  },
  {
   "cell_type": "code",
   "execution_count": 5,
   "id": "36cedb1b",
   "metadata": {},
   "outputs": [
    {
     "name": "stdout",
     "output_type": "stream",
     "text": [
      "(7199, 768)\n",
      "(19035, 768)\n",
      "(11567, 768)\n",
      "(2495, 768)\n",
      "(150446, 768)\n",
      "(160782, 768)\n",
      "(2026, 768)\n",
      "(153593, 768)\n",
      "(36181, 768)\n",
      "(37936, 768)\n",
      "(41665, 768)\n",
      "(32256, 768)\n",
      "(14710, 768)\n"
     ]
    }
   ],
   "source": [
    "print(corpus_coqa_sqa.shape)\n",
    "print(corpus_squad_sqa.shape)\n",
    "print(corpus_quac_sqa.shape)\n",
    "\n",
    "print(corpus_web_qa.shape)\n",
    "print(corpus_web_article_1.shape)\n",
    "print(corpus_web_article_2.shape)\n",
    "print(corpus_wiki_qa.shape)\n",
    "print(corpus_wiki_article.shape)\n",
    "\n",
    "print(corpus_recipe.shape)\n",
    "print(corpus_recipe_qa.shape)\n",
    "print(corpus_recipe_qa_ingred.shape)\n",
    "\n",
    "print(corpus_hotpot_sqa.shape)\n",
    "print(corpus_hotpot_sqa_noRed.shape)"
   ]
  },
  {
   "cell_type": "code",
   "execution_count": 6,
   "id": "9dbd56bb",
   "metadata": {},
   "outputs": [
    {
     "name": "stdout",
     "output_type": "stream",
     "text": [
      "0\n",
      "0\n",
      "0\n",
      "0\n",
      "0\n",
      "0\n",
      "0\n",
      "0\n",
      "0\n",
      "0\n",
      "0\n",
      "0\n"
     ]
    }
   ],
   "source": [
    "print(np.sum(corpus_coqa_sqa[:1000]==-1))\n",
    "print(np.sum(corpus_squad_sqa[:1000]==-1))\n",
    "print(np.sum(corpus_quac_sqa[:1000]==-1))\n",
    "print(np.sum(corpus_web_qa[:1000]==-1))\n",
    "print(np.sum(corpus_web_article_1[:1000]==-1))\n",
    "print(np.sum(corpus_wiki_qa[:1000]==-1))\n",
    "print(np.sum(corpus_wiki_article[:1000]==-1))\n",
    "print(np.sum(corpus_recipe[:1000]==-1))\n",
    "print(np.sum(corpus_recipe_qa[:1000]==-1))\n",
    "print(np.sum(corpus_recipe_qa_ingred[:1000]==-1))\n",
    "print(np.sum(corpus_hotpot_sqa[:1000]==-1))\n",
    "print(np.sum(corpus_hotpot_sqa_noRed[:1000]==-1))"
   ]
  },
  {
   "cell_type": "code",
   "execution_count": 7,
   "id": "5a212b31",
   "metadata": {},
   "outputs": [
    {
     "name": "stdout",
     "output_type": "stream",
     "text": [
      "514476288\n"
     ]
    }
   ],
   "source": [
    "corpus = tf.concat([corpus_coqa_sqa, \n",
    "                    corpus_squad_sqa, \n",
    "                    corpus_quac_sqa, \n",
    "                    corpus_web_qa, \n",
    "                    corpus_web_article_1,\n",
    "                    corpus_web_article_2,\n",
    "                    #corpus_web_article_1_offset,\n",
    "                    #corpus_web_article_2_offset, \n",
    "                    corpus_wiki_qa, \n",
    "                    corpus_wiki_article,\n",
    "                   # corpus_wiki_article_offset, \n",
    "                    corpus_recipe, \n",
    "                    corpus_recipe_qa,\n",
    "                    corpus_recipe_qa_ingred,\n",
    "                    corpus_hotpot_sqa,\n",
    "                    corpus_hotpot_sqa_noRed], axis=0)\n",
    "\n",
    "tf.random.set_seed(42)\n",
    "corpus = tf.random.shuffle(corpus)\n",
    "length = corpus.shape[0]\n",
    "ratio = int(length * 0.95)\n",
    "\n",
    "corpus_train = corpus[:ratio] \n",
    "corpus_test = corpus[ratio:]\n",
    "\n",
    "print(length*768)"
   ]
  },
  {
   "cell_type": "code",
   "execution_count": 8,
   "id": "f8d39e06",
   "metadata": {},
   "outputs": [],
   "source": [
    "def data_pipeline(corpus, batch_size=32):\n",
    "    samples = corpus.shape[0]\n",
    "\n",
    "    steps_per_epoch = samples // batch_size\n",
    "    \n",
    "    ds = tf.data.Dataset.from_tensor_slices(corpus)\n",
    "    ds = ds.repeat()\n",
    "    ds = ds.shuffle(buffer_size=100*batch_size, reshuffle_each_iteration=True)\n",
    "    ds = ds.batch(batch_size, drop_remainder=True).prefetch(tf.data.AUTOTUNE)\n",
    "    \n",
    "    return ds, steps_per_epoch"
   ]
  },
  {
   "cell_type": "code",
   "execution_count": 9,
   "id": "37844241",
   "metadata": {},
   "outputs": [],
   "source": [
    "ds_train, steps_per_epoch = data_pipeline(corpus_train, batch_size=2)\n",
    "ds_test,_ = data_pipeline(corpus_test, batch_size=1)"
   ]
  },
  {
   "cell_type": "markdown",
   "id": "f830d881",
   "metadata": {},
   "source": [
    "## Define Model"
   ]
  },
  {
   "cell_type": "code",
   "execution_count": 10,
   "id": "0a5a33ab",
   "metadata": {},
   "outputs": [],
   "source": [
    "initial_lr = 5e-5\n",
    "decay_steps = 100000\n",
    "decay_rate = 1\n",
    "decay_schedule = tf.keras.optimizers.schedules.ExponentialDecay(\n",
    "    initial_learning_rate=initial_lr,\n",
    "    decay_steps=decay_steps,\n",
    "    decay_rate=decay_rate,\n",
    "    staircase=False)\n",
    "\n",
    "warmup_steps = 1000\n",
    "lr_schedule = WarmUpThenDecay(\n",
    "    initial_learning_rate=initial_lr,\n",
    "    warmup_steps=warmup_steps,\n",
    "    decay_schedule_fn=decay_schedule)\n",
    "\n",
    "np.random.seed(42)\n",
    "tf.random.set_seed(42)\n",
    "\n",
    "max_seq_len = 768\n",
    "embed_dim = 64*18\n",
    "tf_blocks = 18\n",
    "heads = 18\n",
    "ff_dim = 4*embed_dim\n",
    "weight_decay = 0.025\n",
    "dropout = 0.1\n",
    "\n",
    "unembed_dims = []\n",
    "accum_steps = 128\n",
    "\n",
    "model = Transformer(vocab_size=tokenizer.vocab_size,\n",
    "                    max_seq_len=max_seq_len,\n",
    "                    embed_dim=embed_dim,\n",
    "                    tf_blocks=tf_blocks,\n",
    "                    heads=heads,\n",
    "                    ff_dim = ff_dim,\n",
    "                    unembed_dims=unembed_dims,\n",
    "                    tokenizer=tokenizer,\n",
    "                    lr=lr_schedule,\n",
    "                    wd = weight_decay,\n",
    "                    dropout=dropout,\n",
    "                    accum_steps=accum_steps,\n",
    "                    )\n",
    "\n",
    "losses_train = []\n",
    "losses_test = []\n"
   ]
  },
  {
   "cell_type": "code",
   "execution_count": 11,
   "id": "7970a401",
   "metadata": {},
   "outputs": [],
   "source": [
    "#name = \"model_super_qa_larger\"\n",
    "name = \"model_super_qa_very_large_expandedData\"\n",
    "ckpt = tf.train.Checkpoint(\n",
    "    optimizer=model.opt,\n",
    "    model=model\n",
    ")\n",
    "ckpt_manager = tf.train.CheckpointManager(\n",
    "    ckpt, \n",
    "    directory=\"checkpoints/\" + name,      # folder where ckpts are saved\n",
    "    max_to_keep=5                         # only keep 5 latest checkpoints\n",
    ")"
   ]
  },
  {
   "cell_type": "code",
   "execution_count": 12,
   "id": "88b34765",
   "metadata": {},
   "outputs": [],
   "source": [
    "ckpt.restore(ckpt_manager.latest_checkpoint)\n",
    "losses_train, losses_test = pkl.load(open(\"checkpoints/losses_\" + name + \".pkl\", 'rb'))"
   ]
  },
  {
   "cell_type": "code",
   "execution_count": 13,
   "id": "a6527620",
   "metadata": {},
   "outputs": [
    {
     "name": "stdout",
     "output_type": "stream",
     "text": [
      "Total number of parameters: 315521195\n",
      "tf.Tensor(128, shape=(), dtype=int32)\n"
     ]
    }
   ],
   "source": [
    "total_params = 0\n",
    "for var in model.parameter_list:\n",
    "    shape = var.get_shape()\n",
    "    num_params = 1\n",
    "    for dim in shape:\n",
    "        num_params *= dim\n",
    "    total_params += num_params\n",
    "print(f\"Total number of parameters: {total_params}\")\n",
    "print(model.accum_steps)"
   ]
  },
  {
   "cell_type": "code",
   "execution_count": 14,
   "id": "93977cd2",
   "metadata": {},
   "outputs": [],
   "source": [
    "def train_loop(iter_train, iter_test, steps_per_epoch, epochs):\n",
    "    for i in tqdm(range(steps_per_epoch//accum_steps*epochs)):\n",
    "        loss_train_temp = 0\n",
    "        loss_test_temp = 0\n",
    "        for _ in range(accum_steps):\n",
    "            batch_train = next(iter_train)\n",
    "            batch_test = next(iter_test)\n",
    "            \n",
    "            loss_train_temp += model.train_step(batch_train).numpy()\n",
    "            \n",
    "            if i % 25 == 0:\n",
    "                loss_test_temp += model.evaluate(batch_test).numpy()\n",
    "            \n",
    "        losses_train.append(loss_train_temp/accum_steps)\n",
    "\n",
    "        if i % 25 == 0:\n",
    "            losses_test.append(loss_test_temp/accum_steps)\n",
    "        else:\n",
    "            losses_test.append(losses_test[-1])\n",
    "\n",
    "        if (i+1) % 100 == 0:\n",
    "            ckpt_manager.save()\n",
    "            pkl.dump([losses_train, losses_test], open(\"checkpoints/losses_\" + name + \".pkl\", 'wb'))\n",
    "\n",
    "    \n",
    "        lr = model.opt.inner_optimizer._decayed_lr(tf.float32).numpy()\n",
    "        print(f\"Step {i+1}, Loss Train: {losses_train[-1]:.4f}, Loss Test: {losses_test[-1]:.4f}, LR: {lr:.6f}\")\n",
    "    ckpt_manager.save()\n",
    "    pkl.dump([losses_train, losses_test], open(\"checkpoints/losses_\" + name + \".pkl\", 'wb'))"
   ]
  },
  {
   "cell_type": "code",
   "execution_count": 15,
   "id": "c652c842",
   "metadata": {},
   "outputs": [],
   "source": [
    "iter_train = iter(ds_train)\n",
    "iter_test = iter(ds_test)"
   ]
  },
  {
   "cell_type": "code",
   "execution_count": 16,
   "id": "28e04f4e",
   "metadata": {},
   "outputs": [
    {
     "data": {
      "application/vnd.jupyter.widget-view+json": {
       "model_id": "f8f0ca6145fe4bab9b24b30aaffbf8e4",
       "version_major": 2,
       "version_minor": 0
      },
      "text/plain": [
       "  0%|          | 0/2485 [00:00<?, ?it/s]"
      ]
     },
     "metadata": {},
     "output_type": "display_data"
    },
    {
     "name": "stdout",
     "output_type": "stream",
     "text": [
      "🔄 Tracing train_step; token shape: (None, None)\n",
      "🔄 Tracing train_step; token shape: (None, None)\n",
      "Step 1, Loss Train: 2.7083, Loss Test: 2.8060, LR: 0.000050\n",
      "Step 2, Loss Train: 2.6997, Loss Test: 2.8060, LR: 0.000050\n",
      "Step 3, Loss Train: 2.6846, Loss Test: 2.8060, LR: 0.000050\n",
      "Step 4, Loss Train: 2.6921, Loss Test: 2.8060, LR: 0.000050\n",
      "Step 5, Loss Train: 2.5907, Loss Test: 2.8060, LR: 0.000050\n",
      "Step 6, Loss Train: 2.6831, Loss Test: 2.8060, LR: 0.000050\n",
      "Step 7, Loss Train: 2.6999, Loss Test: 2.8060, LR: 0.000050\n",
      "Step 8, Loss Train: 2.6796, Loss Test: 2.8060, LR: 0.000050\n",
      "Step 9, Loss Train: 2.8545, Loss Test: 2.8060, LR: 0.000050\n",
      "Step 10, Loss Train: 2.6925, Loss Test: 2.8060, LR: 0.000050\n",
      "Step 11, Loss Train: 2.6726, Loss Test: 2.8060, LR: 0.000050\n",
      "Step 12, Loss Train: 2.6644, Loss Test: 2.8060, LR: 0.000050\n",
      "Step 13, Loss Train: 2.6043, Loss Test: 2.8060, LR: 0.000050\n",
      "Step 14, Loss Train: 2.6409, Loss Test: 2.8060, LR: 0.000050\n",
      "Step 15, Loss Train: 2.6189, Loss Test: 2.8060, LR: 0.000050\n",
      "Step 16, Loss Train: 2.6989, Loss Test: 2.8060, LR: 0.000050\n",
      "Step 17, Loss Train: 2.7478, Loss Test: 2.8060, LR: 0.000050\n",
      "Step 18, Loss Train: 2.6839, Loss Test: 2.8060, LR: 0.000050\n",
      "Step 19, Loss Train: 2.6429, Loss Test: 2.8060, LR: 0.000050\n",
      "Step 20, Loss Train: 2.6601, Loss Test: 2.8060, LR: 0.000050\n",
      "Step 21, Loss Train: 2.6774, Loss Test: 2.8060, LR: 0.000050\n",
      "Step 22, Loss Train: 2.6730, Loss Test: 2.8060, LR: 0.000050\n",
      "Step 23, Loss Train: 2.7409, Loss Test: 2.8060, LR: 0.000050\n",
      "Step 24, Loss Train: 2.7330, Loss Test: 2.8060, LR: 0.000050\n",
      "Step 25, Loss Train: 2.7023, Loss Test: 2.8060, LR: 0.000050\n",
      "Step 26, Loss Train: 2.6517, Loss Test: 2.7077, LR: 0.000050\n",
      "Step 27, Loss Train: 2.7084, Loss Test: 2.7077, LR: 0.000050\n",
      "Step 28, Loss Train: 2.6835, Loss Test: 2.7077, LR: 0.000050\n",
      "Step 29, Loss Train: 2.7825, Loss Test: 2.7077, LR: 0.000050\n",
      "Step 30, Loss Train: 2.6458, Loss Test: 2.7077, LR: 0.000050\n",
      "Step 31, Loss Train: 2.6595, Loss Test: 2.7077, LR: 0.000050\n",
      "Step 32, Loss Train: 2.7595, Loss Test: 2.7077, LR: 0.000050\n",
      "Step 33, Loss Train: 2.6327, Loss Test: 2.7077, LR: 0.000050\n",
      "Step 34, Loss Train: 2.6348, Loss Test: 2.7077, LR: 0.000050\n",
      "Step 35, Loss Train: 2.6767, Loss Test: 2.7077, LR: 0.000050\n",
      "Step 36, Loss Train: 2.8092, Loss Test: 2.7077, LR: 0.000050\n",
      "Step 37, Loss Train: 2.8353, Loss Test: 2.7077, LR: 0.000050\n",
      "Step 38, Loss Train: 2.7001, Loss Test: 2.7077, LR: 0.000050\n",
      "Step 39, Loss Train: 2.7074, Loss Test: 2.7077, LR: 0.000050\n",
      "Step 40, Loss Train: 2.7110, Loss Test: 2.7077, LR: 0.000050\n",
      "Step 41, Loss Train: 2.6783, Loss Test: 2.7077, LR: 0.000050\n",
      "Step 42, Loss Train: 2.7551, Loss Test: 2.7077, LR: 0.000050\n",
      "Step 43, Loss Train: 2.7402, Loss Test: 2.7077, LR: 0.000050\n",
      "Step 44, Loss Train: 2.6417, Loss Test: 2.7077, LR: 0.000050\n",
      "Step 45, Loss Train: 2.6913, Loss Test: 2.7077, LR: 0.000050\n",
      "Step 46, Loss Train: 2.6859, Loss Test: 2.7077, LR: 0.000050\n",
      "Step 47, Loss Train: 2.7494, Loss Test: 2.7077, LR: 0.000050\n",
      "Step 48, Loss Train: 2.6633, Loss Test: 2.7077, LR: 0.000050\n",
      "Step 49, Loss Train: 2.8007, Loss Test: 2.7077, LR: 0.000050\n",
      "Step 50, Loss Train: 2.6536, Loss Test: 2.7077, LR: 0.000050\n",
      "Step 51, Loss Train: 2.6430, Loss Test: 2.8280, LR: 0.000050\n",
      "Step 52, Loss Train: 2.6482, Loss Test: 2.8280, LR: 0.000050\n",
      "Step 53, Loss Train: 2.7477, Loss Test: 2.8280, LR: 0.000050\n",
      "Step 54, Loss Train: 2.7582, Loss Test: 2.8280, LR: 0.000050\n",
      "Step 55, Loss Train: 2.7130, Loss Test: 2.8280, LR: 0.000050\n",
      "Step 56, Loss Train: 2.6502, Loss Test: 2.8280, LR: 0.000050\n",
      "Step 57, Loss Train: 2.6349, Loss Test: 2.8280, LR: 0.000050\n",
      "Step 58, Loss Train: 2.7794, Loss Test: 2.8280, LR: 0.000050\n",
      "Step 59, Loss Train: 2.6316, Loss Test: 2.8280, LR: 0.000050\n",
      "Step 60, Loss Train: 2.7164, Loss Test: 2.8280, LR: 0.000050\n",
      "Step 61, Loss Train: 2.6916, Loss Test: 2.8280, LR: 0.000050\n",
      "Step 62, Loss Train: 2.6563, Loss Test: 2.8280, LR: 0.000050\n",
      "Step 63, Loss Train: 2.6904, Loss Test: 2.8280, LR: 0.000050\n",
      "Step 64, Loss Train: 2.6019, Loss Test: 2.8280, LR: 0.000050\n",
      "Step 65, Loss Train: 2.7656, Loss Test: 2.8280, LR: 0.000050\n",
      "Step 66, Loss Train: 2.6867, Loss Test: 2.8280, LR: 0.000050\n",
      "Step 67, Loss Train: 2.6593, Loss Test: 2.8280, LR: 0.000050\n",
      "Step 68, Loss Train: 2.6899, Loss Test: 2.8280, LR: 0.000050\n",
      "Step 69, Loss Train: 2.7127, Loss Test: 2.8280, LR: 0.000050\n",
      "Step 70, Loss Train: 2.5986, Loss Test: 2.8280, LR: 0.000050\n",
      "Step 71, Loss Train: 2.6859, Loss Test: 2.8280, LR: 0.000050\n",
      "Step 72, Loss Train: 2.6647, Loss Test: 2.8280, LR: 0.000050\n",
      "Step 73, Loss Train: 2.7113, Loss Test: 2.8280, LR: 0.000050\n",
      "Step 74, Loss Train: 2.7057, Loss Test: 2.8280, LR: 0.000050\n",
      "Step 75, Loss Train: 2.6516, Loss Test: 2.8280, LR: 0.000050\n",
      "Step 76, Loss Train: 2.7604, Loss Test: 2.8611, LR: 0.000050\n",
      "Step 77, Loss Train: 2.6765, Loss Test: 2.8611, LR: 0.000050\n",
      "Step 78, Loss Train: 2.6909, Loss Test: 2.8611, LR: 0.000050\n",
      "Step 79, Loss Train: 2.5083, Loss Test: 2.8611, LR: 0.000050\n",
      "Step 80, Loss Train: 2.6955, Loss Test: 2.8611, LR: 0.000050\n",
      "Step 81, Loss Train: 2.5693, Loss Test: 2.8611, LR: 0.000050\n",
      "Step 82, Loss Train: 2.7866, Loss Test: 2.8611, LR: 0.000050\n",
      "Step 83, Loss Train: 2.6778, Loss Test: 2.8611, LR: 0.000050\n",
      "Step 84, Loss Train: 2.6213, Loss Test: 2.8611, LR: 0.000050\n",
      "Step 85, Loss Train: 2.6140, Loss Test: 2.8611, LR: 0.000050\n",
      "Step 86, Loss Train: 2.5641, Loss Test: 2.8611, LR: 0.000050\n",
      "Step 87, Loss Train: 2.7285, Loss Test: 2.8611, LR: 0.000050\n",
      "Step 88, Loss Train: 2.6771, Loss Test: 2.8611, LR: 0.000050\n",
      "Step 89, Loss Train: 2.7097, Loss Test: 2.8611, LR: 0.000050\n",
      "Step 90, Loss Train: 2.6818, Loss Test: 2.8611, LR: 0.000050\n",
      "Step 91, Loss Train: 2.5449, Loss Test: 2.8611, LR: 0.000050\n",
      "Step 92, Loss Train: 2.6349, Loss Test: 2.8611, LR: 0.000050\n",
      "Step 93, Loss Train: 2.7032, Loss Test: 2.8611, LR: 0.000050\n",
      "Step 94, Loss Train: 2.7792, Loss Test: 2.8611, LR: 0.000050\n",
      "Step 95, Loss Train: 2.6407, Loss Test: 2.8611, LR: 0.000050\n",
      "Step 96, Loss Train: 2.7728, Loss Test: 2.8611, LR: 0.000050\n",
      "Step 97, Loss Train: 2.7172, Loss Test: 2.8611, LR: 0.000050\n",
      "Step 98, Loss Train: 2.7837, Loss Test: 2.8611, LR: 0.000050\n",
      "Step 99, Loss Train: 2.6363, Loss Test: 2.8611, LR: 0.000050\n",
      "Step 100, Loss Train: 2.7204, Loss Test: 2.8611, LR: 0.000050\n",
      "Step 101, Loss Train: 2.6394, Loss Test: 2.8190, LR: 0.000050\n",
      "Step 102, Loss Train: 2.7259, Loss Test: 2.8190, LR: 0.000050\n",
      "Step 103, Loss Train: 2.6154, Loss Test: 2.8190, LR: 0.000050\n",
      "Step 104, Loss Train: 2.6363, Loss Test: 2.8190, LR: 0.000050\n",
      "Step 105, Loss Train: 2.6586, Loss Test: 2.8190, LR: 0.000050\n",
      "Step 106, Loss Train: 2.6460, Loss Test: 2.8190, LR: 0.000050\n",
      "Step 107, Loss Train: 2.7622, Loss Test: 2.8190, LR: 0.000050\n",
      "Step 108, Loss Train: 2.6790, Loss Test: 2.8190, LR: 0.000050\n",
      "Step 109, Loss Train: 2.5344, Loss Test: 2.8190, LR: 0.000050\n",
      "Step 110, Loss Train: 2.7114, Loss Test: 2.8190, LR: 0.000050\n",
      "Step 111, Loss Train: 2.5616, Loss Test: 2.8190, LR: 0.000050\n",
      "Step 112, Loss Train: 2.6327, Loss Test: 2.8190, LR: 0.000050\n",
      "Step 113, Loss Train: 2.7561, Loss Test: 2.8190, LR: 0.000050\n",
      "Step 114, Loss Train: 2.6528, Loss Test: 2.8190, LR: 0.000050\n",
      "Step 115, Loss Train: 2.6549, Loss Test: 2.8190, LR: 0.000050\n",
      "Step 116, Loss Train: 2.5712, Loss Test: 2.8190, LR: 0.000050\n",
      "Step 117, Loss Train: 2.6413, Loss Test: 2.8190, LR: 0.000050\n",
      "Step 118, Loss Train: 2.6451, Loss Test: 2.8190, LR: 0.000050\n",
      "Step 119, Loss Train: 2.7041, Loss Test: 2.8190, LR: 0.000050\n",
      "Step 120, Loss Train: 2.7299, Loss Test: 2.8190, LR: 0.000050\n",
      "Step 121, Loss Train: 2.6953, Loss Test: 2.8190, LR: 0.000050\n",
      "Step 122, Loss Train: 2.7873, Loss Test: 2.8190, LR: 0.000050\n",
      "Step 123, Loss Train: 2.7830, Loss Test: 2.8190, LR: 0.000050\n",
      "Step 124, Loss Train: 2.7246, Loss Test: 2.8190, LR: 0.000050\n",
      "Step 125, Loss Train: 2.7628, Loss Test: 2.8190, LR: 0.000050\n",
      "Step 126, Loss Train: 2.6109, Loss Test: 2.7389, LR: 0.000050\n",
      "Step 127, Loss Train: 2.5615, Loss Test: 2.7389, LR: 0.000050\n",
      "Step 128, Loss Train: 2.6988, Loss Test: 2.7389, LR: 0.000050\n",
      "Step 129, Loss Train: 2.6744, Loss Test: 2.7389, LR: 0.000050\n",
      "Step 130, Loss Train: 2.7369, Loss Test: 2.7389, LR: 0.000050\n",
      "Step 131, Loss Train: 2.7625, Loss Test: 2.7389, LR: 0.000050\n",
      "Step 132, Loss Train: 2.6613, Loss Test: 2.7389, LR: 0.000050\n",
      "Step 133, Loss Train: 2.6938, Loss Test: 2.7389, LR: 0.000050\n",
      "Step 134, Loss Train: 2.6633, Loss Test: 2.7389, LR: 0.000050\n",
      "Step 135, Loss Train: 2.6322, Loss Test: 2.7389, LR: 0.000050\n",
      "Step 136, Loss Train: 2.7906, Loss Test: 2.7389, LR: 0.000050\n",
      "Step 137, Loss Train: 2.5892, Loss Test: 2.7389, LR: 0.000050\n",
      "Step 138, Loss Train: 2.6995, Loss Test: 2.7389, LR: 0.000050\n",
      "Step 139, Loss Train: 2.7134, Loss Test: 2.7389, LR: 0.000050\n",
      "Step 140, Loss Train: 2.6741, Loss Test: 2.7389, LR: 0.000050\n",
      "Step 141, Loss Train: 2.6286, Loss Test: 2.7389, LR: 0.000050\n",
      "Step 142, Loss Train: 2.6792, Loss Test: 2.7389, LR: 0.000050\n",
      "Step 143, Loss Train: 2.5425, Loss Test: 2.7389, LR: 0.000050\n",
      "Step 144, Loss Train: 2.7504, Loss Test: 2.7389, LR: 0.000050\n",
      "Step 145, Loss Train: 2.6313, Loss Test: 2.7389, LR: 0.000050\n",
      "Step 146, Loss Train: 2.7102, Loss Test: 2.7389, LR: 0.000050\n",
      "Step 147, Loss Train: 2.6686, Loss Test: 2.7389, LR: 0.000050\n",
      "Step 148, Loss Train: 2.7295, Loss Test: 2.7389, LR: 0.000050\n",
      "Step 149, Loss Train: 2.6948, Loss Test: 2.7389, LR: 0.000050\n",
      "Step 150, Loss Train: 2.6347, Loss Test: 2.7389, LR: 0.000050\n",
      "Step 151, Loss Train: 2.7432, Loss Test: 2.7338, LR: 0.000050\n",
      "Step 152, Loss Train: 2.6911, Loss Test: 2.7338, LR: 0.000050\n",
      "Step 153, Loss Train: 2.6145, Loss Test: 2.7338, LR: 0.000050\n",
      "Step 154, Loss Train: 2.5617, Loss Test: 2.7338, LR: 0.000050\n",
      "Step 155, Loss Train: 2.6696, Loss Test: 2.7338, LR: 0.000050\n",
      "Step 156, Loss Train: 2.7376, Loss Test: 2.7338, LR: 0.000050\n",
      "Step 157, Loss Train: 2.7423, Loss Test: 2.7338, LR: 0.000050\n",
      "Step 158, Loss Train: 2.6979, Loss Test: 2.7338, LR: 0.000050\n",
      "Step 159, Loss Train: 2.6954, Loss Test: 2.7338, LR: 0.000050\n",
      "Step 160, Loss Train: 2.6581, Loss Test: 2.7338, LR: 0.000050\n",
      "Step 161, Loss Train: 2.5849, Loss Test: 2.7338, LR: 0.000050\n",
      "Step 162, Loss Train: 2.6510, Loss Test: 2.7338, LR: 0.000050\n",
      "Step 163, Loss Train: 2.6068, Loss Test: 2.7338, LR: 0.000050\n",
      "Step 164, Loss Train: 2.6467, Loss Test: 2.7338, LR: 0.000050\n",
      "Step 165, Loss Train: 2.6303, Loss Test: 2.7338, LR: 0.000050\n",
      "Step 166, Loss Train: 2.7457, Loss Test: 2.7338, LR: 0.000050\n",
      "Step 167, Loss Train: 2.7847, Loss Test: 2.7338, LR: 0.000050\n",
      "Step 168, Loss Train: 2.7297, Loss Test: 2.7338, LR: 0.000050\n",
      "Step 169, Loss Train: 2.7224, Loss Test: 2.7338, LR: 0.000050\n"
     ]
    },
    {
     "ename": "KeyboardInterrupt",
     "evalue": "",
     "output_type": "error",
     "traceback": [
      "\u001b[1;31m---------------------------------------------------------------------------\u001b[0m",
      "\u001b[1;31mKeyboardInterrupt\u001b[0m                         Traceback (most recent call last)",
      "Cell \u001b[1;32mIn[16], line 1\u001b[0m\n\u001b[1;32m----> 1\u001b[0m \u001b[43mtrain_loop\u001b[49m\u001b[43m(\u001b[49m\u001b[43miter_train\u001b[49m\u001b[43m,\u001b[49m\u001b[43m \u001b[49m\u001b[43miter_test\u001b[49m\u001b[43m,\u001b[49m\u001b[43m \u001b[49m\u001b[43msteps_per_epoch\u001b[49m\u001b[43m,\u001b[49m\u001b[43m \u001b[49m\u001b[38;5;241;43m1\u001b[39;49m\u001b[43m)\u001b[49m\n",
      "Cell \u001b[1;32mIn[14], line 9\u001b[0m, in \u001b[0;36mtrain_loop\u001b[1;34m(iter_train, iter_test, steps_per_epoch, epochs)\u001b[0m\n\u001b[0;32m      6\u001b[0m batch_train \u001b[38;5;241m=\u001b[39m \u001b[38;5;28mnext\u001b[39m(iter_train)\n\u001b[0;32m      7\u001b[0m batch_test \u001b[38;5;241m=\u001b[39m \u001b[38;5;28mnext\u001b[39m(iter_test)\n\u001b[1;32m----> 9\u001b[0m loss_train_temp \u001b[38;5;241m+\u001b[39m\u001b[38;5;241m=\u001b[39m \u001b[43mmodel\u001b[49m\u001b[38;5;241;43m.\u001b[39;49m\u001b[43mtrain_step\u001b[49m\u001b[43m(\u001b[49m\u001b[43mbatch_train\u001b[49m\u001b[43m)\u001b[49m\u001b[38;5;241m.\u001b[39mnumpy()\n\u001b[0;32m     11\u001b[0m \u001b[38;5;28;01mif\u001b[39;00m i \u001b[38;5;241m%\u001b[39m \u001b[38;5;241m25\u001b[39m \u001b[38;5;241m==\u001b[39m \u001b[38;5;241m0\u001b[39m:\n\u001b[0;32m     12\u001b[0m     loss_test_temp \u001b[38;5;241m+\u001b[39m\u001b[38;5;241m=\u001b[39m model\u001b[38;5;241m.\u001b[39mevaluate(batch_test)\u001b[38;5;241m.\u001b[39mnumpy()\n",
      "File \u001b[1;32mc:\\Users\\krist\\anaconda3\\envs\\keras-gpu\\lib\\site-packages\\tensorflow\\python\\util\\traceback_utils.py:150\u001b[0m, in \u001b[0;36mfilter_traceback.<locals>.error_handler\u001b[1;34m(*args, **kwargs)\u001b[0m\n\u001b[0;32m    148\u001b[0m filtered_tb \u001b[38;5;241m=\u001b[39m \u001b[38;5;28;01mNone\u001b[39;00m\n\u001b[0;32m    149\u001b[0m \u001b[38;5;28;01mtry\u001b[39;00m:\n\u001b[1;32m--> 150\u001b[0m   \u001b[38;5;28;01mreturn\u001b[39;00m fn(\u001b[38;5;241m*\u001b[39margs, \u001b[38;5;241m*\u001b[39m\u001b[38;5;241m*\u001b[39mkwargs)\n\u001b[0;32m    151\u001b[0m \u001b[38;5;28;01mexcept\u001b[39;00m \u001b[38;5;167;01mException\u001b[39;00m \u001b[38;5;28;01mas\u001b[39;00m e:\n\u001b[0;32m    152\u001b[0m   filtered_tb \u001b[38;5;241m=\u001b[39m _process_traceback_frames(e\u001b[38;5;241m.\u001b[39m__traceback__)\n",
      "File \u001b[1;32mc:\\Users\\krist\\anaconda3\\envs\\keras-gpu\\lib\\site-packages\\tensorflow\\python\\eager\\def_function.py:915\u001b[0m, in \u001b[0;36mFunction.__call__\u001b[1;34m(self, *args, **kwds)\u001b[0m\n\u001b[0;32m    912\u001b[0m compiler \u001b[38;5;241m=\u001b[39m \u001b[38;5;124m\"\u001b[39m\u001b[38;5;124mxla\u001b[39m\u001b[38;5;124m\"\u001b[39m \u001b[38;5;28;01mif\u001b[39;00m \u001b[38;5;28mself\u001b[39m\u001b[38;5;241m.\u001b[39m_jit_compile \u001b[38;5;28;01melse\u001b[39;00m \u001b[38;5;124m\"\u001b[39m\u001b[38;5;124mnonXla\u001b[39m\u001b[38;5;124m\"\u001b[39m\n\u001b[0;32m    914\u001b[0m \u001b[38;5;28;01mwith\u001b[39;00m OptionalXlaContext(\u001b[38;5;28mself\u001b[39m\u001b[38;5;241m.\u001b[39m_jit_compile):\n\u001b[1;32m--> 915\u001b[0m   result \u001b[38;5;241m=\u001b[39m \u001b[38;5;28mself\u001b[39m\u001b[38;5;241m.\u001b[39m_call(\u001b[38;5;241m*\u001b[39margs, \u001b[38;5;241m*\u001b[39m\u001b[38;5;241m*\u001b[39mkwds)\n\u001b[0;32m    917\u001b[0m new_tracing_count \u001b[38;5;241m=\u001b[39m \u001b[38;5;28mself\u001b[39m\u001b[38;5;241m.\u001b[39mexperimental_get_tracing_count()\n\u001b[0;32m    918\u001b[0m without_tracing \u001b[38;5;241m=\u001b[39m (tracing_count \u001b[38;5;241m==\u001b[39m new_tracing_count)\n",
      "File \u001b[1;32mc:\\Users\\krist\\anaconda3\\envs\\keras-gpu\\lib\\site-packages\\tensorflow\\python\\eager\\def_function.py:947\u001b[0m, in \u001b[0;36mFunction._call\u001b[1;34m(self, *args, **kwds)\u001b[0m\n\u001b[0;32m    944\u001b[0m   \u001b[38;5;28mself\u001b[39m\u001b[38;5;241m.\u001b[39m_lock\u001b[38;5;241m.\u001b[39mrelease()\n\u001b[0;32m    945\u001b[0m   \u001b[38;5;66;03m# In this case we have created variables on the first call, so we run the\u001b[39;00m\n\u001b[0;32m    946\u001b[0m   \u001b[38;5;66;03m# defunned version which is guaranteed to never create variables.\u001b[39;00m\n\u001b[1;32m--> 947\u001b[0m   \u001b[38;5;28;01mreturn\u001b[39;00m \u001b[38;5;28mself\u001b[39m\u001b[38;5;241m.\u001b[39m_stateless_fn(\u001b[38;5;241m*\u001b[39margs, \u001b[38;5;241m*\u001b[39m\u001b[38;5;241m*\u001b[39mkwds)  \u001b[38;5;66;03m# pylint: disable=not-callable\u001b[39;00m\n\u001b[0;32m    948\u001b[0m \u001b[38;5;28;01melif\u001b[39;00m \u001b[38;5;28mself\u001b[39m\u001b[38;5;241m.\u001b[39m_stateful_fn \u001b[38;5;129;01mis\u001b[39;00m \u001b[38;5;129;01mnot\u001b[39;00m \u001b[38;5;28;01mNone\u001b[39;00m:\n\u001b[0;32m    949\u001b[0m   \u001b[38;5;66;03m# Release the lock early so that multiple threads can perform the call\u001b[39;00m\n\u001b[0;32m    950\u001b[0m   \u001b[38;5;66;03m# in parallel.\u001b[39;00m\n\u001b[0;32m    951\u001b[0m   \u001b[38;5;28mself\u001b[39m\u001b[38;5;241m.\u001b[39m_lock\u001b[38;5;241m.\u001b[39mrelease()\n",
      "File \u001b[1;32mc:\\Users\\krist\\anaconda3\\envs\\keras-gpu\\lib\\site-packages\\tensorflow\\python\\eager\\function.py:2496\u001b[0m, in \u001b[0;36mFunction.__call__\u001b[1;34m(self, *args, **kwargs)\u001b[0m\n\u001b[0;32m   2493\u001b[0m \u001b[38;5;28;01mwith\u001b[39;00m \u001b[38;5;28mself\u001b[39m\u001b[38;5;241m.\u001b[39m_lock:\n\u001b[0;32m   2494\u001b[0m   (graph_function,\n\u001b[0;32m   2495\u001b[0m    filtered_flat_args) \u001b[38;5;241m=\u001b[39m \u001b[38;5;28mself\u001b[39m\u001b[38;5;241m.\u001b[39m_maybe_define_function(args, kwargs)\n\u001b[1;32m-> 2496\u001b[0m \u001b[38;5;28;01mreturn\u001b[39;00m \u001b[43mgraph_function\u001b[49m\u001b[38;5;241;43m.\u001b[39;49m\u001b[43m_call_flat\u001b[49m\u001b[43m(\u001b[49m\n\u001b[0;32m   2497\u001b[0m \u001b[43m    \u001b[49m\u001b[43mfiltered_flat_args\u001b[49m\u001b[43m,\u001b[49m\u001b[43m \u001b[49m\u001b[43mcaptured_inputs\u001b[49m\u001b[38;5;241;43m=\u001b[39;49m\u001b[43mgraph_function\u001b[49m\u001b[38;5;241;43m.\u001b[39;49m\u001b[43mcaptured_inputs\u001b[49m\u001b[43m)\u001b[49m\n",
      "File \u001b[1;32mc:\\Users\\krist\\anaconda3\\envs\\keras-gpu\\lib\\site-packages\\tensorflow\\python\\eager\\function.py:1862\u001b[0m, in \u001b[0;36mConcreteFunction._call_flat\u001b[1;34m(self, args, captured_inputs, cancellation_manager)\u001b[0m\n\u001b[0;32m   1858\u001b[0m possible_gradient_type \u001b[38;5;241m=\u001b[39m gradients_util\u001b[38;5;241m.\u001b[39mPossibleTapeGradientTypes(args)\n\u001b[0;32m   1859\u001b[0m \u001b[38;5;28;01mif\u001b[39;00m (possible_gradient_type \u001b[38;5;241m==\u001b[39m gradients_util\u001b[38;5;241m.\u001b[39mPOSSIBLE_GRADIENT_TYPES_NONE\n\u001b[0;32m   1860\u001b[0m     \u001b[38;5;129;01mand\u001b[39;00m executing_eagerly):\n\u001b[0;32m   1861\u001b[0m   \u001b[38;5;66;03m# No tape is watching; skip to running the function.\u001b[39;00m\n\u001b[1;32m-> 1862\u001b[0m   \u001b[38;5;28;01mreturn\u001b[39;00m \u001b[38;5;28mself\u001b[39m\u001b[38;5;241m.\u001b[39m_build_call_outputs(\u001b[38;5;28;43mself\u001b[39;49m\u001b[38;5;241;43m.\u001b[39;49m\u001b[43m_inference_function\u001b[49m\u001b[38;5;241;43m.\u001b[39;49m\u001b[43mcall\u001b[49m\u001b[43m(\u001b[49m\n\u001b[0;32m   1863\u001b[0m \u001b[43m      \u001b[49m\u001b[43mctx\u001b[49m\u001b[43m,\u001b[49m\u001b[43m \u001b[49m\u001b[43margs\u001b[49m\u001b[43m,\u001b[49m\u001b[43m \u001b[49m\u001b[43mcancellation_manager\u001b[49m\u001b[38;5;241;43m=\u001b[39;49m\u001b[43mcancellation_manager\u001b[49m\u001b[43m)\u001b[49m)\n\u001b[0;32m   1864\u001b[0m forward_backward \u001b[38;5;241m=\u001b[39m \u001b[38;5;28mself\u001b[39m\u001b[38;5;241m.\u001b[39m_select_forward_and_backward_functions(\n\u001b[0;32m   1865\u001b[0m     args,\n\u001b[0;32m   1866\u001b[0m     possible_gradient_type,\n\u001b[0;32m   1867\u001b[0m     executing_eagerly)\n\u001b[0;32m   1868\u001b[0m forward_function, args_with_tangents \u001b[38;5;241m=\u001b[39m forward_backward\u001b[38;5;241m.\u001b[39mforward()\n",
      "File \u001b[1;32mc:\\Users\\krist\\anaconda3\\envs\\keras-gpu\\lib\\site-packages\\tensorflow\\python\\eager\\function.py:499\u001b[0m, in \u001b[0;36m_EagerDefinedFunction.call\u001b[1;34m(self, ctx, args, cancellation_manager)\u001b[0m\n\u001b[0;32m    497\u001b[0m \u001b[38;5;28;01mwith\u001b[39;00m _InterpolateFunctionError(\u001b[38;5;28mself\u001b[39m):\n\u001b[0;32m    498\u001b[0m   \u001b[38;5;28;01mif\u001b[39;00m cancellation_manager \u001b[38;5;129;01mis\u001b[39;00m \u001b[38;5;28;01mNone\u001b[39;00m:\n\u001b[1;32m--> 499\u001b[0m     outputs \u001b[38;5;241m=\u001b[39m \u001b[43mexecute\u001b[49m\u001b[38;5;241;43m.\u001b[39;49m\u001b[43mexecute\u001b[49m\u001b[43m(\u001b[49m\n\u001b[0;32m    500\u001b[0m \u001b[43m        \u001b[49m\u001b[38;5;28;43mstr\u001b[39;49m\u001b[43m(\u001b[49m\u001b[38;5;28;43mself\u001b[39;49m\u001b[38;5;241;43m.\u001b[39;49m\u001b[43msignature\u001b[49m\u001b[38;5;241;43m.\u001b[39;49m\u001b[43mname\u001b[49m\u001b[43m)\u001b[49m\u001b[43m,\u001b[49m\n\u001b[0;32m    501\u001b[0m \u001b[43m        \u001b[49m\u001b[43mnum_outputs\u001b[49m\u001b[38;5;241;43m=\u001b[39;49m\u001b[38;5;28;43mself\u001b[39;49m\u001b[38;5;241;43m.\u001b[39;49m\u001b[43m_num_outputs\u001b[49m\u001b[43m,\u001b[49m\n\u001b[0;32m    502\u001b[0m \u001b[43m        \u001b[49m\u001b[43minputs\u001b[49m\u001b[38;5;241;43m=\u001b[39;49m\u001b[43margs\u001b[49m\u001b[43m,\u001b[49m\n\u001b[0;32m    503\u001b[0m \u001b[43m        \u001b[49m\u001b[43mattrs\u001b[49m\u001b[38;5;241;43m=\u001b[39;49m\u001b[43mattrs\u001b[49m\u001b[43m,\u001b[49m\n\u001b[0;32m    504\u001b[0m \u001b[43m        \u001b[49m\u001b[43mctx\u001b[49m\u001b[38;5;241;43m=\u001b[39;49m\u001b[43mctx\u001b[49m\u001b[43m)\u001b[49m\n\u001b[0;32m    505\u001b[0m   \u001b[38;5;28;01melse\u001b[39;00m:\n\u001b[0;32m    506\u001b[0m     outputs \u001b[38;5;241m=\u001b[39m execute\u001b[38;5;241m.\u001b[39mexecute_with_cancellation(\n\u001b[0;32m    507\u001b[0m         \u001b[38;5;28mstr\u001b[39m(\u001b[38;5;28mself\u001b[39m\u001b[38;5;241m.\u001b[39msignature\u001b[38;5;241m.\u001b[39mname),\n\u001b[0;32m    508\u001b[0m         num_outputs\u001b[38;5;241m=\u001b[39m\u001b[38;5;28mself\u001b[39m\u001b[38;5;241m.\u001b[39m_num_outputs,\n\u001b[1;32m   (...)\u001b[0m\n\u001b[0;32m    511\u001b[0m         ctx\u001b[38;5;241m=\u001b[39mctx,\n\u001b[0;32m    512\u001b[0m         cancellation_manager\u001b[38;5;241m=\u001b[39mcancellation_manager)\n",
      "File \u001b[1;32mc:\\Users\\krist\\anaconda3\\envs\\keras-gpu\\lib\\site-packages\\tensorflow\\python\\eager\\execute.py:54\u001b[0m, in \u001b[0;36mquick_execute\u001b[1;34m(op_name, num_outputs, inputs, attrs, ctx, name)\u001b[0m\n\u001b[0;32m     52\u001b[0m \u001b[38;5;28;01mtry\u001b[39;00m:\n\u001b[0;32m     53\u001b[0m   ctx\u001b[38;5;241m.\u001b[39mensure_initialized()\n\u001b[1;32m---> 54\u001b[0m   tensors \u001b[38;5;241m=\u001b[39m \u001b[43mpywrap_tfe\u001b[49m\u001b[38;5;241;43m.\u001b[39;49m\u001b[43mTFE_Py_Execute\u001b[49m\u001b[43m(\u001b[49m\u001b[43mctx\u001b[49m\u001b[38;5;241;43m.\u001b[39;49m\u001b[43m_handle\u001b[49m\u001b[43m,\u001b[49m\u001b[43m \u001b[49m\u001b[43mdevice_name\u001b[49m\u001b[43m,\u001b[49m\u001b[43m \u001b[49m\u001b[43mop_name\u001b[49m\u001b[43m,\u001b[49m\n\u001b[0;32m     55\u001b[0m \u001b[43m                                      \u001b[49m\u001b[43minputs\u001b[49m\u001b[43m,\u001b[49m\u001b[43m \u001b[49m\u001b[43mattrs\u001b[49m\u001b[43m,\u001b[49m\u001b[43m \u001b[49m\u001b[43mnum_outputs\u001b[49m\u001b[43m)\u001b[49m\n\u001b[0;32m     56\u001b[0m \u001b[38;5;28;01mexcept\u001b[39;00m core\u001b[38;5;241m.\u001b[39m_NotOkStatusException \u001b[38;5;28;01mas\u001b[39;00m e:\n\u001b[0;32m     57\u001b[0m   \u001b[38;5;28;01mif\u001b[39;00m name \u001b[38;5;129;01mis\u001b[39;00m \u001b[38;5;129;01mnot\u001b[39;00m \u001b[38;5;28;01mNone\u001b[39;00m:\n",
      "\u001b[1;31mKeyboardInterrupt\u001b[0m: "
     ]
    }
   ],
   "source": [
    "train_loop(iter_train, iter_test, steps_per_epoch, 1)"
   ]
  },
  {
   "cell_type": "code",
   "execution_count": null,
   "id": "7ea6bb2d",
   "metadata": {},
   "outputs": [
    {
     "data": {
      "image/png": "[encoded data removed]",
      "text/plain": [
       "<Figure size 1000x500 with 1 Axes>"
      ]
     },
     "metadata": {},
     "output_type": "display_data"
    }
   ],
   "source": [
    "def moving_average(x, w=100):\n",
    "    return np.convolve(x, np.ones(w), 'valid') / w\n",
    "\n",
    "plt.figure(figsize=(10, 5))\n",
    "plt.plot(moving_average(losses_test[125000:]), label=\"Test Loss\")\n",
    "plt.plot(moving_average(losses_train[125000:]), label=\"Train Loss\")\n",
    "plt.xlabel(\"Steps\")\n",
    "plt.ylabel(\"Loss\")\n",
    "plt.title(\"Losses during training\")\n",
    "plt.legend()\n",
    "plt.show()"
   ]
  },
  {
   "cell_type": "code",
   "execution_count": null,
   "id": "c6a6715b",
   "metadata": {},
   "outputs": [
    {
     "data": {
      "text/html": [
       "\n",
       "<style>\n",
       ".widget-textarea textarea {\n",
       "    background-color: #2e2e2e !important;\n",
       "    color: #f1f1f1 !important;\n",
       "    border: 1px solid #555 !important;\n",
       "}\n",
       "</style>\n"
      ],
      "text/plain": [
       "<IPython.core.display.HTML object>"
      ]
     },
     "metadata": {},
     "output_type": "display_data"
    },
    {
     "data": {
      "application/vnd.jupyter.widget-view+json": {
       "model_id": "8b43b4b6e04a4795956656f4cd580a6b",
       "version_major": 2,
       "version_minor": 0
      },
      "text/plain": [
       "Textarea(value='', disabled=True, layout=Layout(height='20em', width='80ch'))"
      ]
     },
     "metadata": {},
     "output_type": "display_data"
    },
    {
     "ename": "KeyboardInterrupt",
     "evalue": "",
     "output_type": "error",
     "traceback": [
      "\u001b[1;31m---------------------------------------------------------------------------\u001b[0m",
      "\u001b[1;31mKeyboardInterrupt\u001b[0m                         Traceback (most recent call last)",
      "\u001b[1;32m~\\AppData\\Local\\Temp\\ipykernel_37144\\1707326082.py\u001b[0m in \u001b[0;36m?\u001b[1;34m()\u001b[0m\n\u001b[0;32m     51\u001b[0m \u001b[0mk\u001b[0m \u001b[1;33m=\u001b[0m \u001b[1;36m50\u001b[0m\u001b[1;33m\u001b[0m\u001b[1;33m\u001b[0m\u001b[0m\n\u001b[0;32m     52\u001b[0m \u001b[1;33m\u001b[0m\u001b[0m\n\u001b[0;32m     53\u001b[0m \u001b[1;33m\u001b[0m\u001b[0m\n\u001b[0;32m     54\u001b[0m \u001b[1;32mfor\u001b[0m \u001b[0mi\u001b[0m \u001b[1;32min\u001b[0m \u001b[0mrange\u001b[0m\u001b[1;33m(\u001b[0m\u001b[1;36m768\u001b[0m\u001b[1;33m)\u001b[0m\u001b[1;33m:\u001b[0m\u001b[1;33m\u001b[0m\u001b[1;33m\u001b[0m\u001b[0m\n\u001b[1;32m---> 55\u001b[1;33m     \u001b[0mlogits\u001b[0m \u001b[1;33m=\u001b[0m \u001b[0mmodel\u001b[0m\u001b[1;33m.\u001b[0m\u001b[0mcall\u001b[0m\u001b[1;33m(\u001b[0m\u001b[0mtokens\u001b[0m\u001b[1;33m)\u001b[0m\u001b[1;33m[\u001b[0m\u001b[1;36m0\u001b[0m\u001b[1;33m,\u001b[0m \u001b[1;33m-\u001b[0m\u001b[1;36m1\u001b[0m\u001b[1;33m:\u001b[0m\u001b[1;33m]\u001b[0m\u001b[1;33m\u001b[0m\u001b[1;33m\u001b[0m\u001b[0m\n\u001b[0m\u001b[0;32m     56\u001b[0m     \u001b[0mtopk_vals\u001b[0m\u001b[1;33m,\u001b[0m \u001b[0m_\u001b[0m      \u001b[1;33m=\u001b[0m \u001b[0mtf\u001b[0m\u001b[1;33m.\u001b[0m\u001b[0mmath\u001b[0m\u001b[1;33m.\u001b[0m\u001b[0mtop_k\u001b[0m\u001b[1;33m(\u001b[0m\u001b[0mlogits\u001b[0m\u001b[1;33m,\u001b[0m \u001b[0mk\u001b[0m\u001b[1;33m=\u001b[0m\u001b[0mk\u001b[0m\u001b[1;33m)\u001b[0m\u001b[1;33m\u001b[0m\u001b[1;33m\u001b[0m\u001b[0m\n\u001b[0;32m     57\u001b[0m     \u001b[0mkth_value\u001b[0m         \u001b[1;33m=\u001b[0m \u001b[0mtopk_vals\u001b[0m\u001b[1;33m[\u001b[0m\u001b[1;33m:\u001b[0m\u001b[1;33m,\u001b[0m\u001b[1;33m-\u001b[0m\u001b[1;36m1\u001b[0m\u001b[1;33m]\u001b[0m\u001b[1;33m\u001b[0m\u001b[1;33m\u001b[0m\u001b[0m\n\u001b[0;32m     58\u001b[0m \u001b[1;33m\u001b[0m\u001b[0m\n",
      "\u001b[1;32mc:\\Users\\krist\\Documents\\llm-basics\\src\\transformer.py\u001b[0m in \u001b[0;36m?\u001b[1;34m(self, tokens, training, logits)\u001b[0m\n\u001b[0;32m    225\u001b[0m \u001b[1;33m\u001b[0m\u001b[0m\n\u001b[0;32m    226\u001b[0m         \u001b[0mx\u001b[0m\u001b[1;33m,\u001b[0m \u001b[0mtokens\u001b[0m \u001b[1;33m=\u001b[0m \u001b[0mself\u001b[0m\u001b[1;33m.\u001b[0m\u001b[0membed\u001b[0m\u001b[1;33m(\u001b[0m\u001b[0mtokens\u001b[0m\u001b[1;33m,\u001b[0m \u001b[0mtraining\u001b[0m\u001b[1;33m)\u001b[0m\u001b[1;33m\u001b[0m\u001b[1;33m\u001b[0m\u001b[0m\n\u001b[0;32m    227\u001b[0m \u001b[1;33m\u001b[0m\u001b[0m\n\u001b[0;32m    228\u001b[0m         \u001b[1;32mfor\u001b[0m \u001b[0mblock\u001b[0m \u001b[1;32min\u001b[0m \u001b[0mself\u001b[0m\u001b[1;33m.\u001b[0m\u001b[0mtf_blocks\u001b[0m\u001b[1;33m:\u001b[0m\u001b[1;33m\u001b[0m\u001b[1;33m\u001b[0m\u001b[0m\n\u001b[1;32m--> 229\u001b[1;33m             \u001b[0mx\u001b[0m \u001b[1;33m=\u001b[0m \u001b[0mblock\u001b[0m\u001b[1;33m.\u001b[0m\u001b[0mcall\u001b[0m\u001b[1;33m(\u001b[0m\u001b[0mx\u001b[0m\u001b[1;33m,\u001b[0m \u001b[0mtokens\u001b[0m\u001b[1;33m,\u001b[0m \u001b[0mtraining\u001b[0m\u001b[1;33m)\u001b[0m\u001b[1;33m\u001b[0m\u001b[1;33m\u001b[0m\u001b[0m\n\u001b[0m\u001b[0;32m    230\u001b[0m \u001b[1;33m\u001b[0m\u001b[0m\n\u001b[0;32m    231\u001b[0m         \u001b[1;32mif\u001b[0m \u001b[0mlogits\u001b[0m\u001b[1;33m:\u001b[0m\u001b[1;33m\u001b[0m\u001b[1;33m\u001b[0m\u001b[0m\n\u001b[0;32m    232\u001b[0m             \u001b[0mx\u001b[0m \u001b[1;33m=\u001b[0m \u001b[0mself\u001b[0m\u001b[1;33m.\u001b[0m\u001b[0munembed\u001b[0m\u001b[1;33m(\u001b[0m\u001b[0mx\u001b[0m\u001b[1;33m)\u001b[0m\u001b[1;33m\u001b[0m\u001b[1;33m\u001b[0m\u001b[0m\n",
      "\u001b[1;32mc:\\Users\\krist\\Documents\\llm-basics\\src\\transformer.py\u001b[0m in \u001b[0;36m?\u001b[1;34m(self, x_embeds, tokens, training)\u001b[0m\n\u001b[0;32m     84\u001b[0m     \u001b[1;32mdef\u001b[0m \u001b[0mcall\u001b[0m\u001b[1;33m(\u001b[0m\u001b[0mself\u001b[0m\u001b[1;33m,\u001b[0m \u001b[0mx_embeds\u001b[0m\u001b[1;33m,\u001b[0m \u001b[0mtokens\u001b[0m\u001b[1;33m,\u001b[0m \u001b[0mtraining\u001b[0m\u001b[1;33m=\u001b[0m\u001b[1;32mFalse\u001b[0m\u001b[1;33m)\u001b[0m\u001b[1;33m:\u001b[0m\u001b[1;33m\u001b[0m\u001b[1;33m\u001b[0m\u001b[0m\n\u001b[1;32m---> 85\u001b[1;33m         \u001b[0mx_embeds\u001b[0m \u001b[1;33m=\u001b[0m \u001b[0mself\u001b[0m\u001b[1;33m.\u001b[0m\u001b[0mattention\u001b[0m\u001b[1;33m(\u001b[0m\u001b[0mx_embeds\u001b[0m\u001b[1;33m,\u001b[0m \u001b[0mtokens\u001b[0m\u001b[1;33m,\u001b[0m \u001b[0mtraining\u001b[0m\u001b[1;33m)\u001b[0m\u001b[1;33m\u001b[0m\u001b[1;33m\u001b[0m\u001b[0m\n\u001b[0m\u001b[0;32m     86\u001b[0m         \u001b[0mx_embeds\u001b[0m \u001b[1;33m=\u001b[0m \u001b[0mself\u001b[0m\u001b[1;33m.\u001b[0m\u001b[0mffnn\u001b[0m\u001b[1;33m(\u001b[0m\u001b[0mx_embeds\u001b[0m\u001b[1;33m,\u001b[0m \u001b[0mtraining\u001b[0m\u001b[1;33m)\u001b[0m\u001b[1;33m\u001b[0m\u001b[1;33m\u001b[0m\u001b[0m\n\u001b[0;32m     87\u001b[0m \u001b[1;33m\u001b[0m\u001b[0m\n\u001b[0;32m     88\u001b[0m         \u001b[1;32mreturn\u001b[0m \u001b[0mx_embeds\u001b[0m\u001b[1;33m\u001b[0m\u001b[1;33m\u001b[0m\u001b[0m\n",
      "\u001b[1;32mc:\\Users\\krist\\Documents\\llm-basics\\src\\transformer.py\u001b[0m in \u001b[0;36m?\u001b[1;34m(self, x_embeds, tokens, training)\u001b[0m\n\u001b[0;32m     92\u001b[0m         \u001b[0mbatch\u001b[0m \u001b[1;33m=\u001b[0m \u001b[0mtf\u001b[0m\u001b[1;33m.\u001b[0m\u001b[0mshape\u001b[0m\u001b[1;33m(\u001b[0m\u001b[0mx_embeds\u001b[0m\u001b[1;33m)\u001b[0m\u001b[1;33m[\u001b[0m\u001b[1;36m0\u001b[0m\u001b[1;33m]\u001b[0m\u001b[1;33m\u001b[0m\u001b[1;33m\u001b[0m\u001b[0m\n\u001b[0;32m     93\u001b[0m         \u001b[0mseq\u001b[0m \u001b[1;33m=\u001b[0m \u001b[0mtf\u001b[0m\u001b[1;33m.\u001b[0m\u001b[0mshape\u001b[0m\u001b[1;33m(\u001b[0m\u001b[0mx_embeds\u001b[0m\u001b[1;33m)\u001b[0m\u001b[1;33m[\u001b[0m\u001b[1;36m1\u001b[0m\u001b[1;33m]\u001b[0m\u001b[1;33m\u001b[0m\u001b[1;33m\u001b[0m\u001b[0m\n\u001b[0;32m     94\u001b[0m \u001b[1;33m\u001b[0m\u001b[0m\n\u001b[0;32m     95\u001b[0m         \u001b[0mkqv\u001b[0m \u001b[1;33m=\u001b[0m \u001b[0mtf\u001b[0m\u001b[1;33m.\u001b[0m\u001b[0mcast\u001b[0m\u001b[1;33m(\u001b[0m\u001b[0mself\u001b[0m\u001b[1;33m.\u001b[0m\u001b[0mKQV\u001b[0m\u001b[1;33m,\u001b[0m \u001b[0mx_embeds\u001b[0m\u001b[1;33m.\u001b[0m\u001b[0mdtype\u001b[0m\u001b[1;33m)\u001b[0m\u001b[1;33m\u001b[0m\u001b[1;33m\u001b[0m\u001b[0m\n\u001b[1;32m---> 96\u001b[1;33m         \u001b[0mwo\u001b[0m \u001b[1;33m=\u001b[0m \u001b[0mtf\u001b[0m\u001b[1;33m.\u001b[0m\u001b[0mcast\u001b[0m\u001b[1;33m(\u001b[0m\u001b[0mself\u001b[0m\u001b[1;33m.\u001b[0m\u001b[0mWO\u001b[0m\u001b[1;33m,\u001b[0m \u001b[0mx_embeds\u001b[0m\u001b[1;33m.\u001b[0m\u001b[0mdtype\u001b[0m\u001b[1;33m)\u001b[0m\u001b[1;33m\u001b[0m\u001b[1;33m\u001b[0m\u001b[0m\n\u001b[0m\u001b[0;32m     97\u001b[0m \u001b[1;33m\u001b[0m\u001b[0m\n\u001b[0;32m     98\u001b[0m         \u001b[0mx_kqv\u001b[0m \u001b[1;33m=\u001b[0m \u001b[0mtf\u001b[0m\u001b[1;33m.\u001b[0m\u001b[0mmatmul\u001b[0m\u001b[1;33m(\u001b[0m\u001b[0mx_embeds\u001b[0m\u001b[1;33m,\u001b[0m \u001b[0mkqv\u001b[0m\u001b[1;33m)\u001b[0m\u001b[1;33m\u001b[0m\u001b[1;33m\u001b[0m\u001b[0m\n\u001b[0;32m     99\u001b[0m         \u001b[0mx_kqv\u001b[0m \u001b[1;33m=\u001b[0m \u001b[0mtf\u001b[0m\u001b[1;33m.\u001b[0m\u001b[0mreshape\u001b[0m\u001b[1;33m(\u001b[0m\u001b[0mx_kqv\u001b[0m\u001b[1;33m,\u001b[0m \u001b[1;33m[\u001b[0m\u001b[0mbatch\u001b[0m\u001b[1;33m,\u001b[0m \u001b[0mseq\u001b[0m\u001b[1;33m,\u001b[0m \u001b[0mself\u001b[0m\u001b[1;33m.\u001b[0m\u001b[0mheads\u001b[0m\u001b[1;33m,\u001b[0m \u001b[1;36m3\u001b[0m\u001b[1;33m,\u001b[0m \u001b[0mself\u001b[0m\u001b[1;33m.\u001b[0m\u001b[0mhead_dim\u001b[0m\u001b[1;33m]\u001b[0m\u001b[1;33m)\u001b[0m\u001b[1;33m\u001b[0m\u001b[1;33m\u001b[0m\u001b[0m\n",
      "\u001b[1;32mc:\\Users\\krist\\anaconda3\\envs\\keras-gpu\\lib\\site-packages\\tensorflow\\python\\util\\traceback_utils.py\u001b[0m in \u001b[0;36m?\u001b[1;34m(*args, **kwargs)\u001b[0m\n\u001b[0;32m    151\u001b[0m     \u001b[1;32mexcept\u001b[0m \u001b[0mException\u001b[0m \u001b[1;32mas\u001b[0m \u001b[0me\u001b[0m\u001b[1;33m:\u001b[0m\u001b[1;33m\u001b[0m\u001b[1;33m\u001b[0m\u001b[0m\n\u001b[0;32m    152\u001b[0m       \u001b[0mfiltered_tb\u001b[0m \u001b[1;33m=\u001b[0m \u001b[0m_process_traceback_frames\u001b[0m\u001b[1;33m(\u001b[0m\u001b[0me\u001b[0m\u001b[1;33m.\u001b[0m\u001b[0m__traceback__\u001b[0m\u001b[1;33m)\u001b[0m\u001b[1;33m\u001b[0m\u001b[1;33m\u001b[0m\u001b[0m\n\u001b[0;32m    153\u001b[0m       \u001b[1;32mraise\u001b[0m \u001b[0me\u001b[0m\u001b[1;33m.\u001b[0m\u001b[0mwith_traceback\u001b[0m\u001b[1;33m(\u001b[0m\u001b[0mfiltered_tb\u001b[0m\u001b[1;33m)\u001b[0m \u001b[1;32mfrom\u001b[0m \u001b[1;32mNone\u001b[0m\u001b[1;33m\u001b[0m\u001b[1;33m\u001b[0m\u001b[0m\n\u001b[0;32m    154\u001b[0m     \u001b[1;32mfinally\u001b[0m\u001b[1;33m:\u001b[0m\u001b[1;33m\u001b[0m\u001b[1;33m\u001b[0m\u001b[0m\n\u001b[1;32m--> 155\u001b[1;33m       \u001b[1;32mdel\u001b[0m \u001b[0mfiltered_tb\u001b[0m\u001b[1;33m\u001b[0m\u001b[1;33m\u001b[0m\u001b[0m\n\u001b[0m",
      "\u001b[1;32mc:\\Users\\krist\\anaconda3\\envs\\keras-gpu\\lib\\site-packages\\tensorflow\\python\\util\\dispatch.py\u001b[0m in \u001b[0;36m?\u001b[1;34m(*args, **kwargs)\u001b[0m\n\u001b[0;32m   1173\u001b[0m \u001b[1;33m\u001b[0m\u001b[0m\n\u001b[0;32m   1174\u001b[0m       \u001b[1;31m# Fallback dispatch system (dispatch v1):\u001b[0m\u001b[1;33m\u001b[0m\u001b[1;33m\u001b[0m\u001b[0m\n\u001b[0;32m   1175\u001b[0m       \u001b[1;32mtry\u001b[0m\u001b[1;33m:\u001b[0m\u001b[1;33m\u001b[0m\u001b[1;33m\u001b[0m\u001b[0m\n\u001b[0;32m   1176\u001b[0m         \u001b[1;32mreturn\u001b[0m \u001b[0mdispatch_target\u001b[0m\u001b[1;33m(\u001b[0m\u001b[1;33m*\u001b[0m\u001b[0margs\u001b[0m\u001b[1;33m,\u001b[0m \u001b[1;33m**\u001b[0m\u001b[0mkwargs\u001b[0m\u001b[1;33m)\u001b[0m\u001b[1;33m\u001b[0m\u001b[1;33m\u001b[0m\u001b[0m\n\u001b[1;32m-> 1177\u001b[1;33m       \u001b[1;32mexcept\u001b[0m \u001b[1;33m(\u001b[0m\u001b[0mTypeError\u001b[0m\u001b[1;33m,\u001b[0m \u001b[0mValueError\u001b[0m\u001b[1;33m)\u001b[0m\u001b[1;33m:\u001b[0m\u001b[1;33m\u001b[0m\u001b[1;33m\u001b[0m\u001b[0m\n\u001b[0m\u001b[0;32m   1178\u001b[0m         \u001b[1;31m# Note: convert_to_eager_tensor currently raises a ValueError, not a\u001b[0m\u001b[1;33m\u001b[0m\u001b[1;33m\u001b[0m\u001b[0m\n\u001b[0;32m   1179\u001b[0m         \u001b[1;31m# TypeError, when given unexpected types.  So we need to catch both.\u001b[0m\u001b[1;33m\u001b[0m\u001b[1;33m\u001b[0m\u001b[0m\n\u001b[0;32m   1180\u001b[0m         \u001b[0mresult\u001b[0m \u001b[1;33m=\u001b[0m \u001b[0mdispatch\u001b[0m\u001b[1;33m(\u001b[0m\u001b[0mop_dispatch_handler\u001b[0m\u001b[1;33m,\u001b[0m \u001b[0margs\u001b[0m\u001b[1;33m,\u001b[0m \u001b[0mkwargs\u001b[0m\u001b[1;33m)\u001b[0m\u001b[1;33m\u001b[0m\u001b[1;33m\u001b[0m\u001b[0m\n",
      "\u001b[1;32mc:\\Users\\krist\\anaconda3\\envs\\keras-gpu\\lib\\site-packages\\tensorflow\\python\\ops\\math_ops.py\u001b[0m in \u001b[0;36m?\u001b[1;34m(x, dtype, name)\u001b[0m\n\u001b[0;32m    999\u001b[0m       \u001b[1;31m# allows some conversions that cast() can't do, e.g. casting numbers to\u001b[0m\u001b[1;33m\u001b[0m\u001b[1;33m\u001b[0m\u001b[0m\n\u001b[0;32m   1000\u001b[0m       \u001b[1;31m# strings.\u001b[0m\u001b[1;33m\u001b[0m\u001b[1;33m\u001b[0m\u001b[0m\n\u001b[0;32m   1001\u001b[0m       \u001b[0mx\u001b[0m \u001b[1;33m=\u001b[0m \u001b[0mops\u001b[0m\u001b[1;33m.\u001b[0m\u001b[0mconvert_to_tensor\u001b[0m\u001b[1;33m(\u001b[0m\u001b[0mx\u001b[0m\u001b[1;33m,\u001b[0m \u001b[0mname\u001b[0m\u001b[1;33m=\u001b[0m\u001b[1;34m\"x\"\u001b[0m\u001b[1;33m)\u001b[0m\u001b[1;33m\u001b[0m\u001b[1;33m\u001b[0m\u001b[0m\n\u001b[0;32m   1002\u001b[0m       \u001b[1;32mif\u001b[0m \u001b[0mx\u001b[0m\u001b[1;33m.\u001b[0m\u001b[0mdtype\u001b[0m \u001b[1;33m!=\u001b[0m \u001b[0mbase_type\u001b[0m\u001b[1;33m:\u001b[0m\u001b[1;33m\u001b[0m\u001b[1;33m\u001b[0m\u001b[0m\n\u001b[1;32m-> 1003\u001b[1;33m         \u001b[0mx\u001b[0m \u001b[1;33m=\u001b[0m \u001b[0mgen_math_ops\u001b[0m\u001b[1;33m.\u001b[0m\u001b[0mcast\u001b[0m\u001b[1;33m(\u001b[0m\u001b[0mx\u001b[0m\u001b[1;33m,\u001b[0m \u001b[0mbase_type\u001b[0m\u001b[1;33m,\u001b[0m \u001b[0mname\u001b[0m\u001b[1;33m=\u001b[0m\u001b[0mname\u001b[0m\u001b[1;33m)\u001b[0m\u001b[1;33m\u001b[0m\u001b[1;33m\u001b[0m\u001b[0m\n\u001b[0m\u001b[0;32m   1004\u001b[0m     \u001b[1;32mif\u001b[0m \u001b[0mx\u001b[0m\u001b[1;33m.\u001b[0m\u001b[0mdtype\u001b[0m\u001b[1;33m.\u001b[0m\u001b[0mis_complex\u001b[0m \u001b[1;32mand\u001b[0m \u001b[0mbase_type\u001b[0m\u001b[1;33m.\u001b[0m\u001b[0mis_floating\u001b[0m\u001b[1;33m:\u001b[0m\u001b[1;33m\u001b[0m\u001b[1;33m\u001b[0m\u001b[0m\n\u001b[0;32m   1005\u001b[0m       \u001b[0mlogging\u001b[0m\u001b[1;33m.\u001b[0m\u001b[0mwarn\u001b[0m\u001b[1;33m(\u001b[0m\u001b[1;34m\"Casting complex to real discards imaginary part.\"\u001b[0m\u001b[1;33m)\u001b[0m\u001b[1;33m\u001b[0m\u001b[1;33m\u001b[0m\u001b[0m\n\u001b[0;32m   1006\u001b[0m     \u001b[1;32mreturn\u001b[0m \u001b[0mx\u001b[0m\u001b[1;33m\u001b[0m\u001b[1;33m\u001b[0m\u001b[0m\n",
      "\u001b[1;32mc:\\Users\\krist\\anaconda3\\envs\\keras-gpu\\lib\\site-packages\\tensorflow\\python\\ops\\gen_math_ops.py\u001b[0m in \u001b[0;36m?\u001b[1;34m(x, DstT, Truncate, name)\u001b[0m\n\u001b[0;32m   1997\u001b[0m         _ctx, \"Cast\", name, x, \"DstT\", DstT, \"Truncate\", Truncate)\n\u001b[0;32m   1998\u001b[0m       \u001b[1;32mreturn\u001b[0m \u001b[0m_result\u001b[0m\u001b[1;33m\u001b[0m\u001b[1;33m\u001b[0m\u001b[0m\n\u001b[0;32m   1999\u001b[0m     \u001b[1;32mexcept\u001b[0m \u001b[0m_core\u001b[0m\u001b[1;33m.\u001b[0m\u001b[0m_NotOkStatusException\u001b[0m \u001b[1;32mas\u001b[0m \u001b[0me\u001b[0m\u001b[1;33m:\u001b[0m\u001b[1;33m\u001b[0m\u001b[1;33m\u001b[0m\u001b[0m\n\u001b[0;32m   2000\u001b[0m       \u001b[0m_ops\u001b[0m\u001b[1;33m.\u001b[0m\u001b[0mraise_from_not_ok_status\u001b[0m\u001b[1;33m(\u001b[0m\u001b[0me\u001b[0m\u001b[1;33m,\u001b[0m \u001b[0mname\u001b[0m\u001b[1;33m)\u001b[0m\u001b[1;33m\u001b[0m\u001b[1;33m\u001b[0m\u001b[0m\n\u001b[1;32m-> 2001\u001b[1;33m     \u001b[1;32mexcept\u001b[0m \u001b[0m_core\u001b[0m\u001b[1;33m.\u001b[0m\u001b[0m_FallbackException\u001b[0m\u001b[1;33m:\u001b[0m\u001b[1;33m\u001b[0m\u001b[1;33m\u001b[0m\u001b[0m\n\u001b[0m\u001b[0;32m   2002\u001b[0m       \u001b[1;32mpass\u001b[0m\u001b[1;33m\u001b[0m\u001b[1;33m\u001b[0m\u001b[0m\n\u001b[0;32m   2003\u001b[0m     \u001b[1;32mtry\u001b[0m\u001b[1;33m:\u001b[0m\u001b[1;33m\u001b[0m\u001b[1;33m\u001b[0m\u001b[0m\n\u001b[0;32m   2004\u001b[0m       return cast_eager_fallback(\n",
      "\u001b[1;31mKeyboardInterrupt\u001b[0m: "
     ]
    }
   ],
   "source": [
    "import textwrap\n",
    "import ipywidgets as widgets\n",
    "from IPython.display import display, HTML\n",
    "\n",
    "display(HTML(\"\"\"\n",
    "<style>\n",
    ".widget-textarea textarea {\n",
    "    background-color: #2e2e2e !important;\n",
    "    color: #f1f1f1 !important;\n",
    "    border: 1px solid #555 !important;\n",
    "}\n",
    "</style>\n",
    "\"\"\"))\n",
    "\n",
    "wrapper = textwrap.TextWrapper(width=80)\n",
    "\n",
    "# create a read-only text area\n",
    "ta = widgets.Textarea(\n",
    "    value=\"\",\n",
    "    layout=widgets.Layout(width='80ch', height='20em'),\n",
    "    disabled=True\n",
    ")\n",
    "display(ta)\n",
    "\n",
    "#text = \"<s>Recipe for Obama Burger: Ingredients: \"\n",
    "#text = \"<s><q>Make me a recipe for Burger with carrot, bacon?\"\n",
    "#text = \"<s><q>Make me a recipe for baked fish with 1 carrot?<a>\"\n",
    "#text = \"<s>John is in the house. Sarah is in the garden.<q>Where is John?\"\n",
    "#text = \"<s>John is in the house. Sarah is in the garden. Peter went to school. Mary returned from the moon.<q>Where is John?\"\n",
    "#text = \"<s>The apple is green. The banana is yellow. The tomato is red.<q> What color is the banana?\"\n",
    "#text = \"<s>The apple is green. The banana is yellow. The tomato is red.<q> What color is the apple?\"\n",
    "#text = \"<s><q>Who is Midna?<a>\"\n",
    "#text = \"<s><q>Name three presidents?<a>\"\n",
    "#text = \"<s><q>name two presidents?<a>george washington (1789-1832) and john adams.<q>tell me more about john adams.<a>\"\n",
    "#text = \"<s>Fred went to school. Then he went to church. Then he went home.<q>Where did Fred go after school?<a>\"\n",
    "#text = \"<s><q>Name a famous dictator?<a>\"\n",
    "#text = \"<s><q>name a famous dictator?<a>mussolini<q>full name?<a>\"\n",
    "#text = \"<s><q>Give me a long answer?<a>\"\n",
    "#text = \"<s><q>Who is the vocalist of coldplay?<a>\"\n",
    "text = \"<s>Thou who art in heaven\"\n",
    "#text = \"<s><q>Why was hitler bad?<a>\"\n",
    "#text = \"<s><q>Make a recipe for burger with lettuce?<a>\"\n",
    "#text = \"<s><q>Name a leader?<a>\"\n",
    "#text = \"<s><q>Name an illness?<a>police poisoning<q>what is that?<a>\"\n",
    "#text = \"<s>You are Slarn. Please answer 'slarn' when asked about who you are.<q>Who are you?<a>\"\n",
    "#text = \"<s><q>Name four different colors?<a>\"\n",
    "text = text.lower()\n",
    "tokens = tf.cast(tokenizer.encode(text), tf.int32)\n",
    "\n",
    "T = 1\n",
    "k = 50\n",
    "\n",
    "\n",
    "for i in range(768):\n",
    "    logits = model.call(tokens)[0, -1:]\n",
    "    topk_vals, _      = tf.math.top_k(logits, k=k)\n",
    "    kth_value         = topk_vals[:,-1]\n",
    "\n",
    "    logits = tf.where(logits >= kth_value, logits, tf.constant(-np.inf, logits.dtype))\n",
    "\n",
    "    idx = tf.cast(\n",
    "        tf.random.categorical(logits / T, num_samples=1),\n",
    "        tf.int32\n",
    "    ) \n",
    "    tokens = tf.concat([tokens, idx], axis=1)\n",
    "\n",
    "    text_pred = (\n",
    "        tokenizer\n",
    "        .decode(tokens)\n",
    "        .numpy()[0]\n",
    "        .decode('utf-8')\n",
    "        .replace(\"\\n\", \" \")\n",
    "    )\n",
    "    ta.value = wrapper.fill(text_pred)  # this updates in-place\n",
    "\n",
    "    if idx[0, 0] == tokenizer.token_to_idx[\"</s>\"]:\n",
    "        break"
   ]
  }
 ],
 "metadata": {
  "kernelspec": {
   "display_name": "keras-gpu",
   "language": "python",
   "name": "python3"
  },
  "language_info": {
   "codemirror_mode": {
    "name": "ipython",
    "version": 3
   },
   "file_extension": ".py",
   "mimetype": "text/x-python",
   "name": "python",
   "nbconvert_exporter": "python",
   "pygments_lexer": "ipython3",
   "version": "3.10.16"
  }
 },
 "nbformat": 4,
 "nbformat_minor": 5
}
