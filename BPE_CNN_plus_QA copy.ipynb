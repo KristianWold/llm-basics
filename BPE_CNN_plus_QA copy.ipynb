{
 "cells": [
  {
   "cell_type": "markdown",
   "id": "04010a08",
   "metadata": {},
   "source": [
    "## LLM"
   ]
  },
  {
   "cell_type": "code",
   "execution_count": 1,
   "id": "8fa3d166",
   "metadata": {},
   "outputs": [
    {
     "name": "stdout",
     "output_type": "stream",
     "text": [
      "Num GPUs Available:  1\n"
     ]
    }
   ],
   "source": [
    "import matplotlib.pyplot as plt\n",
    "import random\n",
    "from IPython.display import clear_output\n",
    "from src.tokenizer import TokenizerBPE, word_split, normalize_to_ascii, pair_freq\n",
    "from src.data_handling import read_first_n\n",
    "\n",
    "\n",
    "import os\n",
    "os.environ[\"CUDA_VISIBLE_DEVICES\"] = \"0\"\n",
    "import tensorflow as tf\n",
    "import numpy as np\n",
    "import pickle as pkl\n",
    "from tqdm.notebook import tqdm\n",
    "from src.data_handling import fused_qa\n",
    "import sys\n",
    "import random\n",
    "import json\n",
    "\n",
    "# disable gpu for testing purposes\n",
    "#os.environ[\"CUDA_VISIBLE_DEVICES\"] = \"-1\"\n",
    "\n",
    "print(\"Num GPUs Available: \", len(tf.config.list_physical_devices('GPU')))\n"
   ]
  },
  {
   "cell_type": "code",
   "execution_count": 62,
   "id": "54ace39b",
   "metadata": {},
   "outputs": [
    {
     "data": {
      "application/vnd.jupyter.widget-view+json": {
       "model_id": "fc5218b2461246b98ca882d30e18cb05",
       "version_major": 2,
       "version_minor": 0
      },
      "text/plain": [
       "  0%|          | 0/76496 [00:00<?, ?it/s]"
      ]
     },
     "metadata": {},
     "output_type": "display_data"
    }
   ],
   "source": [
    "with open('corpus/triviaqa-rc/qa/web-train.json', 'r', encoding='utf-8') as f:\n",
    "    squad = json.load(f)\n",
    "\n",
    "question_web_list = []\n",
    "answer_web_list = []\n",
    "evidence_web_list = []\n",
    "\n",
    "for qa in tqdm(squad['Data']):\n",
    "    question_web_list.append(qa['Question'])\n",
    "    answer_web_list.append(qa['Answer'][\"Value\"])\n",
    "    sr = qa['SearchResults']\n",
    "    if len(sr) > 0: \n",
    "        evidence_web_list.append(sr[0][\"Filename\"])\n",
    "    else:\n",
    "        evidence_web_list.append(None)\n",
    "    "
   ]
  },
  {
   "cell_type": "code",
   "execution_count": 87,
   "id": "1fb683af",
   "metadata": {},
   "outputs": [
    {
     "data": {
      "application/vnd.jupyter.widget-view+json": {
       "model_id": "aaa652a63ae24e16a4ba7ad52eddda0b",
       "version_major": 2,
       "version_minor": 0
      },
      "text/plain": [
       "  0%|          | 0/76496 [00:00<?, ?it/s]"
      ]
     },
     "metadata": {},
     "output_type": "display_data"
    }
   ],
   "source": [
    "path = \"corpus/triviaqa-rc/evidence/web/\"\n",
    "\n",
    "txt_list = []\n",
    "\n",
    "for evidence in tqdm(evidence_web_list):\n",
    "    if evidence is not None:\n",
    "        txt = open(path + evidence, 'r', encoding='utf-8').read()\n",
    "        txt_list.append(txt)\n",
    "    "
   ]
  },
  {
   "cell_type": "code",
   "execution_count": 88,
   "id": "e32a3e90",
   "metadata": {},
   "outputs": [
    {
     "name": "stdout",
     "output_type": "stream",
     "text": [
      "Length of txt:  1163223076\n"
     ]
    }
   ],
   "source": [
    "txt = \"\".join(txt_list)\n",
    "print(\"Length of txt: \", len(txt))"
   ]
  },
  {
   "cell_type": "code",
   "execution_count": 4,
   "id": "783c9eae",
   "metadata": {},
   "outputs": [
    {
     "data": {
      "application/vnd.jupyter.widget-view+json": {
       "model_id": "bd6d405ce62948779c7e085c147bcb0d",
       "version_major": 2,
       "version_minor": 0
      },
      "text/plain": [
       "  0%|          | 0/61888 [00:00<?, ?it/s]"
      ]
     },
     "metadata": {},
     "output_type": "display_data"
    }
   ],
   "source": [
    "with open('corpus/triviaqa-rc/qa/wikipedia-train.json', 'r', encoding='utf-8') as f:\n",
    "    squad = json.load(f)\n",
    "\n",
    "question_wiki_list = []\n",
    "answer_wiki_list = []\n",
    "evidence_wiki_list = []\n",
    "\n",
    "for qa in tqdm(squad['Data']):\n",
    "    question_wiki_list.append(qa['Question'])\n",
    "    answer_wiki_list.append(qa['Answer'][\"Value\"])\n",
    "    sr = qa[\"EntityPages\"]\n",
    "    if len(sr) > 0: \n",
    "        evidence_wiki_list.append(sr[0][\"Filename\"])\n",
    "    else:\n",
    "        evidence_wiki_list.append(None)\n",
    "    "
   ]
  },
  {
   "cell_type": "code",
   "execution_count": 27,
   "id": "3b73c48e",
   "metadata": {},
   "outputs": [
    {
     "data": {
      "application/vnd.jupyter.widget-view+json": {
       "model_id": "0da05426753d4be7949797f648422f14",
       "version_major": 2,
       "version_minor": 0
      },
      "text/plain": [
       "0it [00:00, ?it/s]"
      ]
     },
     "metadata": {},
     "output_type": "display_data"
    }
   ],
   "source": [
    "path = \"corpus/triviaqa-rc/evidence/wikipedia/\"\n",
    "\n",
    "evidence_raw_list = []\n",
    "\n",
    "seen = set([])\n",
    "\n",
    "for i, evidence in tqdm(enumerate(evidence_wiki_list)):\n",
    "    if evidence is not None:\n",
    "        evidence = evidence.replace(\":\", \"_\").replace(\"?\", \"_\").replace(\"*\", \"_\").replace('\"', \"_\")\n",
    "        if not evidence in seen:\n",
    "            seen.add(evidence)\n",
    "            try:\n",
    "                txt = open(path + evidence, 'r', encoding='utf-8').read()\n",
    "                evidence_raw_list.append(txt)\n",
    "            except:\n",
    "                print(\"Error reading file: \", evidence)\n",
    "                continue"
   ]
  },
  {
   "cell_type": "code",
   "execution_count": 32,
   "id": "b5f83213",
   "metadata": {},
   "outputs": [
    {
     "name": "stdout",
     "output_type": "stream",
     "text": [
      "28406\n"
     ]
    }
   ],
   "source": [
    "print(len(evidence_raw_list))"
   ]
  },
  {
   "cell_type": "code",
   "execution_count": 33,
   "id": "e4d186a4",
   "metadata": {},
   "outputs": [
    {
     "name": "stdout",
     "output_type": "stream",
     "text": [
      "Length of question_web_list:  529632069\n"
     ]
    }
   ],
   "source": [
    "text = \"\".join(evidence_raw_list)\n",
    "print(\"Length of question_web_list: \", len(text))"
   ]
  },
  {
   "cell_type": "code",
   "execution_count": 29,
   "id": "7f8529aa",
   "metadata": {},
   "outputs": [
    {
     "name": "stdout",
     "output_type": "stream",
     "text": [
      "Length of question_web_list:  5580683\n"
     ]
    }
   ],
   "source": [
    "text = \"\".join(question_wiki_list + answer_wiki_list)\n",
    "print(\"Length of question_web_list: \", len(text))"
   ]
  },
  {
   "cell_type": "code",
   "execution_count": 41,
   "id": "b49a44df",
   "metadata": {},
   "outputs": [
    {
     "name": "stdout",
     "output_type": "stream",
     "text": [
      "Lowercasing corpus\n"
     ]
    },
    {
     "data": {
      "application/vnd.jupyter.widget-view+json": {
       "model_id": "6de923d76d9546cda34d76cbf8b41618",
       "version_major": 2,
       "version_minor": 0
      },
      "text/plain": [
       "  0%|          | 0/3000 [00:00<?, ?it/s]"
      ]
     },
     "metadata": {},
     "output_type": "display_data"
    },
    {
     "name": "stdout",
     "output_type": "stream",
     "text": [
      "Merging tokens\n"
     ]
    },
    {
     "data": {
      "application/vnd.jupyter.widget-view+json": {
       "model_id": "39f71529691d40ffb001fff616cc440b",
       "version_major": 2,
       "version_minor": 0
      },
      "text/plain": [
       "  0%|          | 0/16000 [00:00<?, ?it/s]"
      ]
     },
     "metadata": {},
     "output_type": "display_data"
    },
    {
     "ename": "ValueError",
     "evalue": "'list' argument must have no negative elements",
     "output_type": "error",
     "traceback": [
      "\u001b[1;31m---------------------------------------------------------------------------\u001b[0m",
      "\u001b[1;31mValueError\u001b[0m                                Traceback (most recent call last)",
      "Cell \u001b[1;32mIn[41], line 3\u001b[0m\n\u001b[0;32m      1\u001b[0m random\u001b[38;5;241m.\u001b[39mseed(\u001b[38;5;241m42\u001b[39m)\n\u001b[1;32m----> 3\u001b[0m tokenizer \u001b[38;5;241m=\u001b[39m \u001b[43mTokenizerBPE\u001b[49m\u001b[43m(\u001b[49m\u001b[43mevidence_raw_list\u001b[49m\u001b[43m[\u001b[49m\u001b[43m:\u001b[49m\u001b[38;5;241;43m3000\u001b[39;49m\u001b[43m]\u001b[49m\u001b[43m,\u001b[49m\u001b[43m \u001b[49m\u001b[38;5;241;43m16000\u001b[39;49m\u001b[43m,\u001b[49m\u001b[43m \u001b[49m\u001b[43mlowercase\u001b[49m\u001b[38;5;241;43m=\u001b[39;49m\u001b[38;5;28;43;01mTrue\u001b[39;49;00m\u001b[43m)\u001b[49m\n\u001b[0;32m      4\u001b[0m tokenizer\u001b[38;5;241m.\u001b[39mdestroy_hash()\n\u001b[0;32m      6\u001b[0m pkl\u001b[38;5;241m.\u001b[39mdump(tokenizer, \u001b[38;5;28mopen\u001b[39m(\u001b[38;5;124m'\u001b[39m\u001b[38;5;124mtokenizers/trivia_16k.pkl\u001b[39m\u001b[38;5;124m'\u001b[39m, \u001b[38;5;124m'\u001b[39m\u001b[38;5;124mwb\u001b[39m\u001b[38;5;124m'\u001b[39m))\n",
      "File \u001b[1;32mc:\\Users\\krist\\Documents\\llm-basics\\src\\tokenizer.py:112\u001b[0m, in \u001b[0;36mTokenizerBPE.__init__\u001b[1;34m(self, corpus, num_merges, lowercase)\u001b[0m\n\u001b[0;32m    110\u001b[0m \u001b[38;5;28mself\u001b[39m\u001b[38;5;241m.\u001b[39mmerge_list \u001b[38;5;241m=\u001b[39m []\n\u001b[0;32m    111\u001b[0m \u001b[38;5;28;01mfor\u001b[39;00m i \u001b[38;5;129;01min\u001b[39;00m tqdm(\u001b[38;5;28mrange\u001b[39m(num_merges)):\n\u001b[1;32m--> 112\u001b[0m     corpus_indices \u001b[38;5;241m=\u001b[39m \u001b[38;5;28;43mself\u001b[39;49m\u001b[38;5;241;43m.\u001b[39;49m\u001b[43mmerge\u001b[49m\u001b[43m(\u001b[49m\u001b[43mcorpus_indices\u001b[49m\u001b[43m)\u001b[49m\n\u001b[0;32m    114\u001b[0m \u001b[38;5;28mself\u001b[39m\u001b[38;5;241m.\u001b[39mcreate_hash()\n\u001b[0;32m    115\u001b[0m \u001b[38;5;28mself\u001b[39m\u001b[38;5;241m.\u001b[39mword_list \u001b[38;5;241m=\u001b[39m \u001b[38;5;28;01mNone\u001b[39;00m\n",
      "File \u001b[1;32mc:\\Users\\krist\\Documents\\llm-basics\\src\\tokenizer.py:143\u001b[0m, in \u001b[0;36mTokenizerBPE.merge\u001b[1;34m(self, corpus_indices)\u001b[0m\n\u001b[0;32m    140\u001b[0m     corpus_indices \u001b[38;5;241m=\u001b[39m \u001b[38;5;28mself\u001b[39m\u001b[38;5;241m.\u001b[39mpre_merge(corpus_indices)    \n\u001b[0;32m    142\u001b[0m new_idx \u001b[38;5;241m=\u001b[39m \u001b[38;5;28mself\u001b[39m\u001b[38;5;241m.\u001b[39mvocab_size\n\u001b[1;32m--> 143\u001b[0m (idx1, idx2), counts \u001b[38;5;241m=\u001b[39m \u001b[43mpair_freq\u001b[49m\u001b[43m(\u001b[49m\u001b[43mcorpus_indices\u001b[49m\u001b[43m,\u001b[49m\u001b[43m \u001b[49m\u001b[38;5;28;43mself\u001b[39;49m\u001b[38;5;241;43m.\u001b[39;49m\u001b[43mstop_token\u001b[49m\u001b[43m,\u001b[49m\u001b[43m \u001b[49m\u001b[38;5;28;43mself\u001b[39;49m\u001b[38;5;241;43m.\u001b[39;49m\u001b[43mvocab_size\u001b[49m\u001b[43m)\u001b[49m\n\u001b[0;32m    144\u001b[0m \u001b[38;5;28mself\u001b[39m\u001b[38;5;241m.\u001b[39mmerge_list\u001b[38;5;241m.\u001b[39mappend([(idx1, idx2), \u001b[38;5;28mself\u001b[39m\u001b[38;5;241m.\u001b[39mvocab_size])\n\u001b[0;32m    147\u001b[0m token1 \u001b[38;5;241m=\u001b[39m \u001b[38;5;28mself\u001b[39m\u001b[38;5;241m.\u001b[39midx_to_token[idx1]\n",
      "File \u001b[1;32mc:\\Users\\krist\\Documents\\llm-basics\\src\\tokenizer.py:74\u001b[0m, in \u001b[0;36mpair_freq\u001b[1;34m(indices, stop_token, vocab_size)\u001b[0m\n\u001b[0;32m     71\u001b[0m indices_large \u001b[38;5;241m=\u001b[39m indices[:\u001b[38;5;241m-\u001b[39m\u001b[38;5;241m1\u001b[39m] \u001b[38;5;241m+\u001b[39m indices[\u001b[38;5;241m1\u001b[39m:]\u001b[38;5;241m*\u001b[39mvocab_size\n\u001b[0;32m     73\u001b[0m indices_large \u001b[38;5;241m=\u001b[39m indices_large[\u001b[38;5;241m~\u001b[39mmask]\n\u001b[1;32m---> 74\u001b[0m counts \u001b[38;5;241m=\u001b[39m \u001b[43mnp\u001b[49m\u001b[38;5;241;43m.\u001b[39;49m\u001b[43mbincount\u001b[49m\u001b[43m(\u001b[49m\u001b[43mindices_large\u001b[49m\u001b[43m)\u001b[49m\n\u001b[0;32m     75\u001b[0m temp \u001b[38;5;241m=\u001b[39m np\u001b[38;5;241m.\u001b[39margmax(counts)\n\u001b[0;32m     76\u001b[0m count \u001b[38;5;241m=\u001b[39m counts[temp]\n",
      "\u001b[1;31mValueError\u001b[0m: 'list' argument must have no negative elements"
     ]
    }
   ],
   "source": [
    "random.seed(42)\n",
    "\n",
    "tokenizer = TokenizerBPE(evidence_raw_list[:3000], 16000, lowercase=True)\n",
    "tokenizer.destroy_hash()\n",
    "\n",
    "pkl.dump(tokenizer, open('tokenizers/trivia_16k.pkl', 'wb'))"
   ]
  },
  {
   "cell_type": "code",
   "execution_count": 9,
   "id": "acba58c3",
   "metadata": {},
   "outputs": [],
   "source": [
    "def fused_qa(question_list, answer_list):\n",
    "    q =\"<q>\"\n",
    "    a = \"<a>\"\n",
    "    sos = \"<s>\"\n",
    "    eos = \"</s>\"\n",
    "\n",
    "    corpus_list = []\n",
    "    for question, answer in tqdm(list(zip(question_list, answer_list))):\n",
    "        qa = [sos, q, question, a, answer, eos]\n",
    "        corpus_list.extend(qa)\n",
    "    \n",
    "    return \"\".join(corpus_list)\n",
    "\n",
    "\n",
    "def fused_cnn(corpus_list):\n",
    "    sos = \"<s>\"\n",
    "    eos = \"</s>\"\n",
    "\n",
    "    corpus_padded_list = []\n",
    "    for line in corpus_list:\n",
    "        line = [sos, line, eos]\n",
    "        corpus_padded_list.extend(line)\n",
    "    \n",
    "    return \"\".join(corpus_padded_list)"
   ]
  },
  {
   "cell_type": "code",
   "execution_count": 10,
   "id": "9eb7b636",
   "metadata": {},
   "outputs": [],
   "source": [
    "tokenizer = pkl.load(open('tokenizers/CNN_QA8k_balanced.pkl', 'rb'))\n",
    "tokenizer.create_hash()\n",
    "\n",
    "tokenizer.add_special_tokens([\"<s>\", \"</s>\", \"<q>\", \"<a>\",])"
   ]
  },
  {
   "cell_type": "code",
   "execution_count": 11,
   "id": "772d78b6",
   "metadata": {},
   "outputs": [],
   "source": [
    "question_list = [line.lower() for line in question_list]\n",
    "answer_list = [line.lower() for line in answer_list]"
   ]
  },
  {
   "cell_type": "code",
   "execution_count": 12,
   "id": "851c5945",
   "metadata": {},
   "outputs": [
    {
     "data": {
      "application/vnd.jupyter.widget-view+json": {
       "model_id": "a84b448bde4f4a3c90018cb0b26c9d02",
       "version_major": 2,
       "version_minor": 0
      },
      "text/plain": [
       "  0%|          | 0/86820 [00:00<?, ?it/s]"
      ]
     },
     "metadata": {},
     "output_type": "display_data"
    },
    {
     "data": {
      "application/vnd.jupyter.widget-view+json": {
       "model_id": "361cdb61adfd40ed943613d24d7afb66",
       "version_major": 2,
       "version_minor": 0
      },
      "text/plain": [
       "  0%|          | 0/8000 [00:00<?, ?it/s]"
      ]
     },
     "metadata": {},
     "output_type": "display_data"
    }
   ],
   "source": [
    "corpus_qa_fused = fused_qa(question_list, answer_list)\n",
    "\n",
    "corpus_qa_encoded = tokenizer.encode(corpus_qa_fused)"
   ]
  },
  {
   "cell_type": "code",
   "execution_count": 13,
   "id": "6a1706ae",
   "metadata": {},
   "outputs": [
    {
     "data": {
      "application/vnd.jupyter.widget-view+json": {
       "model_id": "2d70046b0a8b439cbbedcb3030af5838",
       "version_major": 2,
       "version_minor": 0
      },
      "text/plain": [
       "  0%|          | 0/8000 [00:00<?, ?it/s]"
      ]
     },
     "metadata": {},
     "output_type": "display_data"
    }
   ],
   "source": [
    "corpus_cnn_fused = fused_cnn(corpus_cnn)\n",
    "\n",
    "corpus_cnn_encoded = tokenizer.encode(corpus_cnn_fused)"
   ]
  },
  {
   "cell_type": "code",
   "execution_count": 14,
   "id": "13b1a9b5",
   "metadata": {},
   "outputs": [],
   "source": [
    "corpus = tf.concat([corpus_cnn_encoded, corpus_qa_encoded], axis=1)\n",
    "pkl.dump(corpus, open('corpus/corpus_CNN_QA8k_balanced', 'wb'))"
   ]
  },
  {
   "cell_type": "markdown",
   "id": "52a5f20b",
   "metadata": {},
   "source": [
    "## "
   ]
  }
 ],
 "metadata": {
  "kernelspec": {
   "display_name": "keras-gpu",
   "language": "python",
   "name": "python3"
  },
  "language_info": {
   "codemirror_mode": {
    "name": "ipython",
    "version": 3
   },
   "file_extension": ".py",
   "mimetype": "text/x-python",
   "name": "python",
   "nbconvert_exporter": "python",
   "pygments_lexer": "ipython3",
   "version": "3.10.16"
  }
 },
 "nbformat": 4,
 "nbformat_minor": 5
}
