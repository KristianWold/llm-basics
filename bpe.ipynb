{
 "cells": [
  {
   "cell_type": "markdown",
   "id": "04010a08",
   "metadata": {},
   "source": [
    "## LLM"
   ]
  },
  {
   "cell_type": "code",
   "execution_count": 1,
   "id": "8fa3d166",
   "metadata": {},
   "outputs": [
    {
     "name": "stdout",
     "output_type": "stream",
     "text": [
      "Num GPUs Available:  1\n"
     ]
    }
   ],
   "source": [
    "import matplotlib.pyplot as plt\n",
    "from IPython.display import clear_output\n",
    "from src.tokenizer import TokenizerChar, word_split, normalize_to_ascii\n",
    "\n",
    "import os\n",
    "import time\n",
    "os.environ[\"CUDA_VISIBLE_DEVICES\"] = \"0\"\n",
    "import tensorflow as tf\n",
    "import numpy as np\n",
    "from tqdm.notebook import tqdm\n",
    "\n",
    "print(\"Num GPUs Available: \", len(tf.config.list_physical_devices('GPU')))"
   ]
  },
  {
   "cell_type": "code",
   "execution_count": 2,
   "id": "9cde139d",
   "metadata": {},
   "outputs": [],
   "source": [
    "import os\n",
    "\n",
    "def read_first_n(directory_path, n):\n",
    "    # List all entries in the directory\n",
    "    filenames = os.listdir(directory_path)\n",
    "    # Filter to only .txt files\n",
    "    txt_files = [f for f in filenames if f.lower().endswith('.story')]\n",
    "    # Sort alphabetically (or by any other criteria you like)\n",
    "    #txt_files.sort()\n",
    "    # Take the first n\n",
    "    first_n = txt_files[:n]\n",
    "    \n",
    "    contents = []\n",
    "    for fname in first_n:\n",
    "        full_path = os.path.join(directory_path, fname)\n",
    "        with open(full_path, 'r', encoding='utf-8') as f:\n",
    "            contents.append(normalize_to_ascii(f.read()))\n",
    "    return contents\n",
    "\n"
   ]
  },
  {
   "cell_type": "code",
   "execution_count": 3,
   "id": "0d4508a8",
   "metadata": {},
   "outputs": [],
   "source": [
    "corpus = read_first_n('corpus/stories', 1000)"
   ]
  },
  {
   "cell_type": "code",
   "execution_count": 4,
   "id": "6f2ee7ca",
   "metadata": {},
   "outputs": [],
   "source": [
    "def get_vocabulary(corpus):\n",
    "    \"\"\"Return a dict mapping words to their counts.\"\"\"\n",
    "    vocab = {}\n",
    "    for line in corpus:\n",
    "        for word in line.strip().split():\n",
    "            vocab[word] = vocab.get(word, 0) + 1\n",
    "    return vocab"
   ]
  },
  {
   "cell_type": "code",
   "execution_count": 5,
   "id": "c28c6f49",
   "metadata": {},
   "outputs": [],
   "source": [
    "def pair_freq(word_list):\n",
    "    \"\"\"Return a dict mapping pairs of words to their counts.\"\"\"\n",
    "    pairs = {}\n",
    "    for word in word_list:\n",
    "        for i in range(len(word) - 1):\n",
    "            pair = (word[i], word[i + 1])\n",
    "            pairs[pair] = pairs.get(pair, 0) + 1\n",
    "    return pairs"
   ]
  },
  {
   "cell_type": "code",
   "execution_count": 31,
   "id": "5613ca0a",
   "metadata": {},
   "outputs": [],
   "source": [
    "\n",
    "\n",
    "\n",
    "class TokenizerBPE:\n",
    "    def __init__(self, corpus, num_merges):\n",
    "        self.tokenizer = TokenizerChar(corpus)\n",
    "        self.token_to_idx = self.tokenizer.token_to_idx\n",
    "        self.vocab_size = self.tokenizer.vocab_size\n",
    "\n",
    "        self.word_list = []\n",
    "        for line in corpus:\n",
    "            self.word_list.extend(word_split(line))\n",
    "\n",
    "        self.merge_list = []\n",
    "        for i in tqdm(range(num_merges)):\n",
    "            self.merge()\n",
    "\n",
    "        vocab = list(self.token_to_idx.keys())\n",
    "        indicies = list(self.token_to_idx.values())\n",
    "\n",
    "        self.table_detokenize = tf.lookup.StaticHashTable(initializer=tf.lookup.KeyValueTensorInitializer(indicies, vocab), \n",
    "                                                          default_value=\"\")\n",
    "\n",
    "\n",
    "\n",
    "    def tokenize(self, text):\n",
    "        indicies = np.array(self.tokenizer.tokenize(text))\n",
    "        for (idx1, idx2), new_idx in self.merge_list:\n",
    "            for i in reversed(range(len(indicies) - 1)):\n",
    "                pair = (indicies[i], indicies[i + 1])\n",
    "                if pair == (idx1, idx2):\n",
    "                    indicies[i] = new_idx\n",
    "                    indicies = np.delete(indicies, i + 1)\n",
    "        \n",
    "        return indicies\n",
    "\n",
    "    def detokenize(self, indices):\n",
    "        text = self.table_detokenize.lookup(indices)\n",
    "        text = tf.strings.reduce_join(text, axis=-1, separator=\"\")\n",
    "        return text\n",
    "\n",
    "    def merge(self):\n",
    "        pf = pair_freq(self.word_list)\n",
    "        key_max = max(pf, key=pf.get)\n",
    "        token1, token2 = key_max\n",
    "        new_token = token1 + token2\n",
    "        self.token_to_idx[new_token] = self.vocab_size\n",
    "\n",
    "        idx1, idx2 = self.token_to_idx[token1], self.token_to_idx[token2]\n",
    "        self.merge_list.append([(idx1, idx2), self.vocab_size])\n",
    "\n",
    "        self.vocab_size += 1\n",
    "\n",
    "        for word in self.word_list:\n",
    "            for i in reversed(range(len(word) - 1)):\n",
    "                pair = (word[i], word[i + 1])\n",
    "                if pair == key_max:\n",
    "                    word[i] = new_token\n",
    "                    word.pop(i + 1)"
   ]
  },
  {
   "cell_type": "code",
   "execution_count": 32,
   "id": "e643c37e",
   "metadata": {},
   "outputs": [
    {
     "data": {
      "application/vnd.jupyter.widget-view+json": {
       "model_id": "8aab6d89d7734260a40b58b6057ead1f",
       "version_major": 2,
       "version_minor": 0
      },
      "text/plain": [
       "  0%|          | 0/150 [00:00<?, ?it/s]"
      ]
     },
     "metadata": {},
     "output_type": "display_data"
    }
   ],
   "source": [
    "tokenizer_bpe = TokenizerBPE(corpus[:10], num_merges=150)"
   ]
  },
  {
   "cell_type": "code",
   "execution_count": 33,
   "id": "254dbc44",
   "metadata": {},
   "outputs": [
    {
     "name": "stdout",
     "output_type": "stream",
     "text": [
      "[[(69, 57), 76], [(58, 63), 77], [(54, 67), 78], [(64, 63), 79], [(50, 63), 80], [(50, 69), 81], [(67, 54), 82], [(76, 54), 83], [(54, 63), 84], [(64, 67), 85], [(50, 61), 86], [(54, 53), 87], [(58, 68), 88], [(50, 68), 89], [(50, 67), 90], [(69, 64), 91], [(54, 68), 92], [(64, 70), 93], [(58, 69), 94], [(58, 52), 95], [(64, 55), 96], [(77, 56), 97], [(58, 79), 98], [(61, 54), 99], [(58, 53), 100], [(58, 56), 101], [(80, 53), 102], [(57, 54), 103], [(68, 69), 104], [(58, 61), 105], [(84, 69), 106], [(64, 62), 107], [(68, 50), 108], [(50, 62), 109], [(50, 52), 110], [(67, 58), 111], [(64, 61), 112], [(101, 57), 113], [(55, 85), 114], [(71, 54), 115], [(51, 54), 116], [(50, 53), 117], [(72, 57), 118], [(69, 78), 119], [(82, 68), 120], [(70, 67), 121], [(68, 54), 122], [(108, 100), 123], [(6, 68), 124], [(50, 74), 125], [(81, 98), 126], [(54, 62), 127], [(65, 54), 128], [(76, 81), 129], [(71, 78), 130], [(69, 67), 131], [(76, 78), 132], [(52, 79), 133], [(113, 69), 134], [(50, 56), 135], [(58, 62), 136], [(72, 89), 137], [(52, 57), 138], [(64, 69), 139], [(70, 63), 140], [(52, 54), 141], [(81, 54), 142], [(57, 88), 143], [(45, 103), 144], [(65, 67), 145], [(53, 54), 146], [(61, 64), 147], [(61, 74), 148], [(52, 69), 149], [(93, 67), 150], [(70, 69), 151], [(61, 53), 152], [(50, 65), 153], [(68, 70), 154], [(58, 67), 155], [(78, 68), 156], [(53, 125), 157], [(50, 82), 158], [(105, 61), 159], [(78, 54), 160], [(72, 58), 161], [(90, 69), 162], [(62, 106), 163], [(72, 54), 164], [(62, 80), 165], [(161, 76), 166], [(65, 64), 167], [(57, 89), 168], [(54, 65), 169], [(55, 67), 170], [(92, 69), 171], [(63, 54), 172], [(93, 63), 173], [(56, 54), 174], [(68, 11), 175], [(50, 115), 176], [(64, 82), 177], [(9, 2), 178], [(51, 74), 179], [(58, 86), 180], [(64, 130), 181], [(74, 54), 182], [(61, 50), 183], [(61, 58), 184], [(95, 80), 185], [(60, 54), 186], [(76, 88), 187], [(46, 11), 188], [(44, 74), 189], [(145, 64), 190], [(170, 107), 191], [(70, 68), 192], [(12, 12), 193], [(80, 69), 194], [(189, 111), 195], [(93, 69), 196], [(54, 73), 197], [(50, 77), 198], [(64, 132), 199], [(94, 74), 200], [(50, 51), 201], [(109, 50), 202], [(85, 69), 203], [(89, 69), 204], [(118, 64), 205], [(52, 107), 206], [(50, 55), 207], [(64, 72), 208], [(68, 9), 209], [(86, 61), 210], [(61, 134), 211], [(123, 11), 212], [(64, 65), 213], [(57, 113), 214], [(99, 56), 215], [(69, 54), 216], [(65, 203), 217], [(55, 95), 218], [(40, 51), 219], [(90, 74), 220], [(56, 67), 221], [(52, 67), 222], [(10, 10), 223], [(57, 176), 224], [(101, 63), 225]]\n"
     ]
    }
   ],
   "source": [
    "print(tokenizer_bpe.merge_list)"
   ]
  },
  {
   "cell_type": "code",
   "execution_count": 34,
   "id": "1acbbb31",
   "metadata": {},
   "outputs": [],
   "source": [
    "indicies = tf.cast(tokenizer_bpe.tokenize(corpus[0]), tf.int32)"
   ]
  },
  {
   "cell_type": "code",
   "execution_count": 35,
   "id": "1d8a4a41",
   "metadata": {},
   "outputs": [
    {
     "name": "stdout",
     "output_type": "stream",
     "text": [
      "tf.Tensor([ 34  69 124 ...  60  92 165], shape=(6153,), dtype=int32)\n"
     ]
    }
   ],
   "source": [
    "print(indicies)"
   ]
  },
  {
   "cell_type": "code",
   "execution_count": 36,
   "id": "f69f6ed4",
   "metadata": {},
   "outputs": [],
   "source": [
    "text = tokenizer_bpe.detokenize(indicies)"
   ]
  },
  {
   "cell_type": "code",
   "execution_count": 37,
   "id": "46d13662",
   "metadata": {},
   "outputs": [
    {
     "name": "stdout",
     "output_type": "stream",
     "text": [
      "It's official: U.S. President Barack Obama wants lawmakers to weigh in on whether to use military force in Syria.\n",
      "\n",
      "Obama sent a letter to the heads of the House and Senate on Saturday night, hours after announcing that he believes military action against Syrian targets is the right step to take over the alleged use of chemical weapons.\n",
      "\n",
      "The proposed legislation from Obama asks Congress to approve the use of military force \"to deter, disrupt, prevent and degrade the potential for future uses of chemical weapons or other weapons of mass destruction.\"\n",
      "\n",
      "It's a step that is set to turn an international crisis into a fierce domestic political battle.\n",
      "\n",
      "There are key questions looming over the debate: What did U.N. weapons inspectors find in Syria? What happens if Congress votes no? And how will the Syrian government react?\n",
      "\n",
      "In a televised address from the White House Rose Garden earlier Saturday, the president said he would take his case to Congress, not because he has to -- but because he wants to.\n",
      "\n",
      "\"While I believe I have the authority to carry out this military action without specific congressional authorization, I know that the country will be stronger if we take this course, and our actions will be even more effective,\" he said. \"We should have this debate, because the issues are too big for business as usual.\"\n",
      "\n",
      "Obama said top congressional leaders had agreed to schedule a debate when the body returns to Washington on September 9. The Senate Foreign Relations Committee will hold a hearing over the matter on Tuesday, Sen. Robert Menendez said.\n",
      "\n",
      "Transcript: Read Obama's full remarks\n",
      "\n",
      "Syrian crisis: Latest developments\n",
      "\n",
      "U.N. inspectors leave Syria\n",
      "\n",
      "Obama's remarks came shortly after U.N. inspectors left Syria, carrying evidence that will determine whether chemical weapons were used in an attack early last week in a Damascus suburb.\n",
      "\n",
      "\"The aim of the game here, the mandate, is very clear -- and that is to ascertain whether chemical weapons were used -- and not by whom,\" U.N. spokesman Martin Nesirky told reporters on Saturday.\n",
      "\n",
      "But who used the weapons in the reported toxic gas attack in a Damascus suburb on August 21 has been a key point of global debate over the Syrian crisis.\n",
      "\n",
      "Top U.S. officials have said there's no doubt that the Syrian government was behind it, while Syrian officials have denied responsibility and blamed jihadists fighting with the rebels.\n",
      "\n",
      "British and U.S. intelligence reports say the attack involved chemical weapons, but U.N. officials have stressed the importance of waiting for an official report from inspectors.\n",
      "\n",
      "The inspectors will share their findings with U.N. Secretary-General Ban Ki-moon Ban, who has said he wants to wait until the U.N. team's final report is completed before presenting it to the U.N. Security Council.\n",
      "\n",
      "The Organization for the Prohibition of Chemical Weapons, which nine of the inspectors belong to, said Saturday that it could take up to three weeks to analyze the evidence they collected.\n",
      "\n",
      "\"It needs time to be able to analyze the information and the samples,\" Nesirky said.\n",
      "\n",
      "He noted that Ban has repeatedly said there is no alternative to a political solution to the crisis in Syria, and that \"a military solution is not an option.\"\n",
      "\n",
      "Bergen:  Syria is a problem from hell for the U.S.\n",
      "\n",
      "Obama: 'This menace must be confronted'\n",
      "\n",
      "Obama's senior advisers have debated the next steps to take, and the president's comments Saturday came amid mounting political pressure over the situation in Syria. Some U.S. lawmakers have called for immediate action while others warn of stepping into what could become a quagmire.\n",
      "\n",
      "Some global leaders have expressed support, but the British Parliament's vote against military action earlier this week was a blow to Obama's hopes of getting strong backing from key NATO allies.\n",
      "\n",
      "On Saturday, Obama proposed what he said would be a limited military action against Syrian President Bashar al-Assad. Any military attack would not be open-ended or include U.S. ground forces, he said.\n",
      "\n",
      "Syria's alleged use of chemical weapons earlier this month \"is an assault on human dignity,\" the president said.\n",
      "\n",
      "A failure to respond with force, Obama argued,  \"could lead to escalating use of chemical weapons or their proliferation to terrorist groups who would do our people harm. In a world with many dangers, this menace must be confronted.\"\n",
      "\n",
      "Syria missile strike: What would happen next?\n",
      "\n",
      "Map: U.S. and allied assets around Syria\n",
      "\n",
      "Obama decision came Friday night\n",
      "\n",
      "On Friday night, the president made a last-minute decision to consult lawmakers.\n",
      "\n",
      "What will happen if they vote no?\n",
      "\n",
      "It's unclear. A senior administration official told CNN that Obama has the authority to act without Congress -- even if Congress rejects his request for authorization to use force.\n",
      "\n",
      "Obama on Saturday continued to shore up support for a strike on the al-Assad government.\n",
      "\n",
      "He spoke by phone with French President Francois Hollande before his Rose Garden speech.\n",
      "\n",
      "\"The two leaders agreed that the international community must deliver a resolute message to the Assad regime -- and others who would consider using chemical weapons -- that these crimes are unacceptable and those who violate this international norm will be held accountable by the world,\" the White House said.\n",
      "\n",
      "Meanwhile, as uncertainty loomed over how Congress would weigh in, U.S. military officials said they remained at the ready.\n",
      "\n",
      "5 key assertions: U.S. intelligence report on Syria\n",
      "\n",
      "Syria: Who wants what after chemical weapons horror\n",
      "\n",
      "Reactions mixed to Obama's speech\n",
      "\n",
      "A spokesman for the Syrian National Coalition said that the opposition group was disappointed by Obama's announcement.\n",
      "\n",
      "\"Our fear now is that the lack of action could embolden the regime and they repeat his attacks in a more serious way,\" said spokesman Louay Safi. \"So we are quite concerned.\"\n",
      "\n",
      "Some members of Congress applauded Obama's decision.\n",
      "\n",
      "House Speaker John Boehner, Majority Leader Eric Cantor, Majority Whip Kevin McCarthy and Conference Chair Cathy McMorris Rodgers issued a statement Saturday praising the president.\n",
      "\n",
      "\"Under the Constitution, the responsibility to declare war lies with Congress,\" the Republican lawmakers said. \"We are glad the president is seeking authorization for any military action in Syria in response to serious, substantive questions being raised.\"\n",
      "\n",
      "More than 160 legislators, including 63 of Obama's fellow Democrats, had signed letters calling for either a vote or at least a \"full debate\" before any U.S. action.\n",
      "\n",
      "British Prime Minister David Cameron, whose own attempt to get lawmakers in his country to support military action in Syria failed earlier this week, responded to Obama's speech in a Twitter post Saturday.\n",
      "\n",
      "\"I understand and support Barack Obama's position on Syria,\" Cameron said.\n",
      "\n",
      "An influential lawmaker in Russia -- which has stood by Syria and criticized the United States -- had his own theory.\n",
      "\n",
      "\"The main reason Obama is turning to the Congress:  the military operation did not get enough support either in the world, among allies of the US or in the United States itself,\" Alexei Pushkov, chairman of the international-affairs committee of the Russian State Duma, said in a Twitter post.\n",
      "\n",
      "In the United States, scattered groups of anti-war protesters around the country took to the streets Saturday.\n",
      "\n",
      "\"Like many other Americans...we're just tired of the United States getting involved and invading and bombing other countries,\" said Robin Rosecrans, who was among hundreds at a Los Angeles demonstration.\n",
      "\n",
      "What do Syria's neighbors think?\n",
      "\n",
      "Why Russia, China, Iran stand by Assad\n",
      "\n",
      "Syria's government unfazed\n",
      "\n",
      "After Obama's speech, a military and political analyst on Syrian state TV said Obama is \"embarrassed\" that Russia opposes military action against Syria, is \"crying for help\" for someone to come to his rescue and is facing two defeats -- on the political and military levels.\n",
      "\n",
      "Syria's prime minister appeared unfazed by the saber-rattling.\n",
      "\n",
      "\"The Syrian Army's status is on maximum readiness and fingers are on the trigger to confront all challenges,\" Wael Nader al-Halqi said during a meeting with a delegation of Syrian expatriates from Italy, according to a banner on Syria State TV that was broadcast prior to Obama's address.\n",
      "\n",
      "An anchor on Syrian state television said Obama \"appeared to be preparing for an aggression on Syria based on repeated lies.\"\n",
      "\n",
      "A top Syrian diplomat told the state television network that Obama was facing pressure to take military action from Israel, Turkey, some Arabs and right-wing extremists in the United States.\n",
      "\n",
      "\"I think he has done well by doing what Cameron did in terms of taking the issue to Parliament,\" said Bashar Jaafari, Syria's ambassador to the United Nations.\n",
      "\n",
      "Both Obama and Cameron, he said, \"climbed to the top of the tree and don't know how to get down.\"\n",
      "\n",
      "The Syrian government has denied that it used chemical weapons in the August 21 attack, saying that jihadists fighting with the rebels used them in an effort to turn global sentiments against it.\n",
      "\n",
      "British intelligence had put the number of people killed in the attack at more than 350.\n",
      "\n",
      "On Saturday, Obama said \"all told, well over 1,000 people were murdered.\" U.S. Secretary of State John Kerry on Friday cited a death toll of 1,429, more than 400 of them children. No explanation was offered for the discrepancy.\n",
      "\n",
      "Iran: U.S. military action in Syria would spark 'disaster'\n",
      "\n",
      "Opinion: Why strikes in Syria are a bad idea\n",
      "\n",
      "@highlight\n",
      "\n",
      "Syrian official: Obama climbed to the top of the tree, \"doesn't know how to get down\"\n",
      "\n",
      "@highlight\n",
      "\n",
      "Obama sends a letter to the heads of the House and Senate\n",
      "\n",
      "@highlight\n",
      "\n",
      "Obama to seek congressional approval on military action against Syria\n",
      "\n",
      "@highlight\n",
      "\n",
      "Aim is to determine whether CW were used, not by whom, says U.N. spokesman\n"
     ]
    }
   ],
   "source": [
    "print(text.numpy().decode(\"utf-8\"))"
   ]
  },
  {
   "cell_type": "markdown",
   "id": "52a5f20b",
   "metadata": {},
   "source": [
    "## "
   ]
  }
 ],
 "metadata": {
  "kernelspec": {
   "display_name": "keras-gpu",
   "language": "python",
   "name": "python3"
  },
  "language_info": {
   "codemirror_mode": {
    "name": "ipython",
    "version": 3
   },
   "file_extension": ".py",
   "mimetype": "text/x-python",
   "name": "python",
   "nbconvert_exporter": "python",
   "pygments_lexer": "ipython3",
   "version": "3.10.16"
  }
 },
 "nbformat": 4,
 "nbformat_minor": 5
}
