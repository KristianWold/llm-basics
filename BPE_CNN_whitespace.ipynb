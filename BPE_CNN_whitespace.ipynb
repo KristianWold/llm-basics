{
 "cells": [
  {
   "cell_type": "markdown",
   "id": "04010a08",
   "metadata": {},
   "source": [
    "## LLM"
   ]
  },
  {
   "cell_type": "code",
   "execution_count": 2,
   "id": "8fa3d166",
   "metadata": {},
   "outputs": [
    {
     "name": "stdout",
     "output_type": "stream",
     "text": [
      "Num GPUs Available:  0\n"
     ]
    }
   ],
   "source": [
    "import matplotlib.pyplot as plt\n",
    "import random\n",
    "from IPython.display import clear_output\n",
    "from src.tokenizer import TokenizerBPE, TokenizerChar, word_split, normalize_to_ascii, pair_freq\n",
    "\n",
    "\n",
    "import os, re\n",
    "os.environ[\"CUDA_VISIBLE_DEVICES\"] = \"0\"\n",
    "import tensorflow as tf\n",
    "import numpy as np\n",
    "import pickle as pkl\n",
    "from tqdm.notebook import tqdm\n",
    "from src.data_handling import read_first_n\n",
    "import re\n",
    "\n",
    "# disable gpu for testing purposes\n",
    "os.environ[\"CUDA_VISIBLE_DEVICES\"] = \"-1\"\n",
    "\n",
    "print(\"Num GPUs Available: \", len(tf.config.list_physical_devices('GPU')))\n"
   ]
  },
  {
   "cell_type": "code",
   "execution_count": null,
   "id": "65fd114b",
   "metadata": {},
   "outputs": [
    {
     "name": "stdout",
     "output_type": "stream",
     "text": [
      "['this', 'is', 'a', 'test']\n",
      "this<sep>is<sep>a<sep>test\n"
     ]
    }
   ],
   "source": [
    "corpus_flatten = re.findall(r\"\\s*[\\w']+|[^\\w]\", \"this  is a test\")\n",
    "print(corpus_flatten)\n",
    "corpus_flatten = \"<sep>\".join(corpus_flatten)\n",
    "print(corpus_flatten)\n"
   ]
  },
  {
   "cell_type": "code",
   "execution_count": 29,
   "id": "8d3f6ad7",
   "metadata": {},
   "outputs": [],
   "source": [
    "corpus = read_first_n('corpus/stories', 100000)"
   ]
  },
  {
   "cell_type": "code",
   "execution_count": null,
   "id": "f1461d1d",
   "metadata": {},
   "outputs": [
    {
     "name": "stdout",
     "output_type": "stream",
     "text": [
      "Lowercasing corpus\n"
     ]
    },
    {
     "data": {
      "application/vnd.jupyter.widget-view+json": {
       "model_id": "d46fd4f778784b7aace052ae65c15ca2",
       "version_major": 2,
       "version_minor": 0
      },
      "text/plain": [
       "  0%|          | 0/92579 [00:00<?, ?it/s]"
      ]
     },
     "metadata": {},
     "output_type": "display_data"
    }
   ],
   "source": [
    "tokenizer = TokenizerBPE(corpus, 24000, lowercase=True)"
   ]
  },
  {
   "cell_type": "code",
   "execution_count": null,
   "id": "0b7008ba",
   "metadata": {},
   "outputs": [],
   "source": [
    "tokenizer.destroy_hash()\n",
    "pkl.dump(tokenizer, open(\"tokenizer_CNN_24k_whitespace.pkl\", \"wb\")) "
   ]
  },
  {
   "cell_type": "markdown",
   "id": "b7868d2f",
   "metadata": {},
   "source": [
    "## Tokenize Corpus"
   ]
  },
  {
   "cell_type": "code",
   "execution_count": null,
   "id": "0f494d31",
   "metadata": {},
   "outputs": [],
   "source": [
    "def fused_cnn(corpus_list):\n",
    "    sos = \"<s>\"\n",
    "    eos = \"</s>\"\n",
    "\n",
    "    corpus_padded_list = []\n",
    "    for line in corpus_list:\n",
    "        line = [sos, line, eos]\n",
    "        corpus_padded_list.extend(line)\n",
    "    \n",
    "    return \"\".join(corpus_padded_list)"
   ]
  },
  {
   "cell_type": "code",
   "execution_count": null,
   "id": "830d0a11",
   "metadata": {},
   "outputs": [
    {
     "data": {
      "application/vnd.jupyter.widget-view+json": {
       "model_id": "7523474c97a1425bb95dcd611af24798",
       "version_major": 2,
       "version_minor": 0
      },
      "text/plain": [
       "  0%|          | 0/92579 [00:00<?, ?it/s]"
      ]
     },
     "metadata": {},
     "output_type": "display_data"
    }
   ],
   "source": [
    "tokenizer = pkl.load(open(\"tokenizer_CNN16000_lowercase.pkl\", \"rb\"))\n",
    "tokenizer.create_hash()\n",
    "tokenizer.add_special_tokens([\"<s>\", \"</s>\"])"
   ]
  },
  {
   "cell_type": "code",
   "execution_count": null,
   "id": "3ae45dcf",
   "metadata": {},
   "outputs": [],
   "source": [
    "corpus_cnn_fused = fused_cnn(corpus)\n",
    "corpus_cnn_encoded = tokenizer.encode(corpus_cnn_fused)\n",
    "\n",
    "pkl.dump(corpus_cnn_encoded, open('corpus/corpus_CNN_24k_whitespace', 'wb'))"
   ]
  },
  {
   "cell_type": "markdown",
   "id": "52a5f20b",
   "metadata": {},
   "source": [
    "## "
   ]
  }
 ],
 "metadata": {
  "kernelspec": {
   "display_name": "keras-gpu",
   "language": "python",
   "name": "python3"
  },
  "language_info": {
   "codemirror_mode": {
    "name": "ipython",
    "version": 3
   },
   "file_extension": ".py",
   "mimetype": "text/x-python",
   "name": "python",
   "nbconvert_exporter": "python",
   "pygments_lexer": "ipython3",
   "version": "3.10.16"
  }
 },
 "nbformat": 4,
 "nbformat_minor": 5
}
