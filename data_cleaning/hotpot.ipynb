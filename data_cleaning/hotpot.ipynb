{
 "cells": [
  {
   "cell_type": "markdown",
   "id": "04010a08",
   "metadata": {},
   "source": [
    "## LLM"
   ]
  },
  {
   "cell_type": "code",
   "execution_count": 1,
   "id": "8fa3d166",
   "metadata": {},
   "outputs": [
    {
     "name": "stderr",
     "output_type": "stream",
     "text": [
      "c:\\Users\\krist\\anaconda3\\envs\\keras-gpu\\lib\\site-packages\\requests\\__init__.py:86: RequestsDependencyWarning: Unable to find acceptable character detection dependency (chardet or charset_normalizer).\n",
      "  warnings.warn(\n"
     ]
    },
    {
     "ename": "RuntimeError",
     "evalue": "CPU dispatcher tracer already initlized",
     "output_type": "error",
     "traceback": [
      "\u001b[1;31m---------------------------------------------------------------------------\u001b[0m",
      "\u001b[1;31mRuntimeError\u001b[0m                              Traceback (most recent call last)",
      "\u001b[1;31mRuntimeError\u001b[0m: CPU dispatcher tracer already initlized"
     ]
    },
    {
     "ename": "RuntimeError",
     "evalue": "CPU dispatcher tracer already initlized",
     "output_type": "error",
     "traceback": [
      "\u001b[1;31m---------------------------------------------------------------------------\u001b[0m",
      "\u001b[1;31mRuntimeError\u001b[0m                              Traceback (most recent call last)",
      "\u001b[1;31mRuntimeError\u001b[0m: CPU dispatcher tracer already initlized"
     ]
    },
    {
     "ename": "RuntimeError",
     "evalue": "CPU dispatcher tracer already initlized",
     "output_type": "error",
     "traceback": [
      "\u001b[1;31m---------------------------------------------------------------------------\u001b[0m",
      "\u001b[1;31mRuntimeError\u001b[0m                              Traceback (most recent call last)",
      "\u001b[1;31mRuntimeError\u001b[0m: CPU dispatcher tracer already initlized"
     ]
    },
    {
     "ename": "RuntimeError",
     "evalue": "CPU dispatcher tracer already initlized",
     "output_type": "error",
     "traceback": [
      "\u001b[1;31m---------------------------------------------------------------------------\u001b[0m",
      "\u001b[1;31mRuntimeError\u001b[0m                              Traceback (most recent call last)",
      "\u001b[1;31mRuntimeError\u001b[0m: CPU dispatcher tracer already initlized"
     ]
    },
    {
     "ename": "RuntimeError",
     "evalue": "CPU dispatcher tracer already initlized",
     "output_type": "error",
     "traceback": [
      "\u001b[1;31m---------------------------------------------------------------------------\u001b[0m",
      "\u001b[1;31mRuntimeError\u001b[0m                              Traceback (most recent call last)",
      "\u001b[1;31mRuntimeError\u001b[0m: CPU dispatcher tracer already initlized"
     ]
    },
    {
     "ename": "RuntimeError",
     "evalue": "CPU dispatcher tracer already initlized",
     "output_type": "error",
     "traceback": [
      "\u001b[1;31m---------------------------------------------------------------------------\u001b[0m",
      "\u001b[1;31mRuntimeError\u001b[0m                              Traceback (most recent call last)",
      "\u001b[1;31mRuntimeError\u001b[0m: CPU dispatcher tracer already initlized"
     ]
    },
    {
     "name": "stdout",
     "output_type": "stream",
     "text": [
      "Num GPUs Available:  0\n"
     ]
    }
   ],
   "source": [
    "import sys\n",
    "sys.path.insert(0, '../src/')\n",
    "\n",
    "import matplotlib.pyplot as plt\n",
    "from tokenizer import TokenizerBPE\n",
    "from data_handling import normalize_to_ascii\n",
    "import numpy as np\n",
    "import re\n",
    "\n",
    "import os\n",
    "import tensorflow as tf\n",
    "import pickle as pkl\n",
    "from tqdm.notebook import tqdm\n",
    "import json\n",
    "\n",
    "# disable gpu for testing purposes\n",
    "os.environ[\"CUDA_VISIBLE_DEVICES\"] = \"-1\"\n",
    "\n",
    "print(\"Num GPUs Available: \", len(tf.config.list_physical_devices('GPU')))\n"
   ]
  },
  {
   "cell_type": "markdown",
   "id": "1f199c71",
   "metadata": {},
   "source": [
    "## CoQA"
   ]
  },
  {
   "cell_type": "code",
   "execution_count": 2,
   "id": "8d3f6ad7",
   "metadata": {},
   "outputs": [],
   "source": [
    "with open('../corpus/hotpot_train_v1.1.json', 'r', encoding='utf-8') as f:\n",
    "    data = json.load(f)"
   ]
  },
  {
   "cell_type": "code",
   "execution_count": 3,
   "id": "9016b478",
   "metadata": {},
   "outputs": [],
   "source": [
    "length = len(data)"
   ]
  },
  {
   "cell_type": "code",
   "execution_count": 4,
   "id": "c6692b3c",
   "metadata": {},
   "outputs": [
    {
     "data": {
      "text/plain": [
       "\"Which magazine was started first Arthur's Magazine or First for Women?\""
      ]
     },
     "execution_count": 4,
     "metadata": {},
     "output_type": "execute_result"
    }
   ],
   "source": [
    "data[0]['question']"
   ]
  },
  {
   "cell_type": "code",
   "execution_count": 5,
   "id": "c5d32024",
   "metadata": {},
   "outputs": [
    {
     "data": {
      "text/plain": [
       "\"Arthur's Magazine\""
      ]
     },
     "execution_count": 5,
     "metadata": {},
     "output_type": "execute_result"
    }
   ],
   "source": [
    "data[0]['answer']"
   ]
  },
  {
   "cell_type": "code",
   "execution_count": 6,
   "id": "71fee4b0",
   "metadata": {},
   "outputs": [
    {
     "data": {
      "text/plain": [
       "[['Radio City (Indian radio station)',\n",
       "  [\"Radio City is India's first private FM radio station and was started on 3 July 2001.\",\n",
       "   ' It broadcasts on 91.1 (earlier 91.0 in most cities) megahertz from Mumbai (where it was started in 2004), Bengaluru (started first in 2001), Lucknow and New Delhi (since 2003).',\n",
       "   ' It plays Hindi, English and regional songs.',\n",
       "   ' It was launched in Hyderabad in March 2006, in Chennai on 7 July 2006 and in Visakhapatnam October 2007.',\n",
       "   ' Radio City recently forayed into New Media in May 2008 with the launch of a music portal - PlanetRadiocity.com that offers music related news, videos, songs, and other music-related features.',\n",
       "   ' The Radio station currently plays a mix of Hindi and Regional music.',\n",
       "   ' Abraham Thomas is the CEO of the company.']],\n",
       " ['History of Albanian football',\n",
       "  ['Football in Albania existed before the Albanian Football Federation (FSHF) was created.',\n",
       "   \" This was evidenced by the team's registration at the Balkan Cup tournament during 1929-1931, which started in 1929 (although Albania eventually had pressure from the teams because of competition, competition started first and was strong enough in the duels) .\",\n",
       "   ' Albanian National Team was founded on June 6, 1930, but Albania had to wait 16 years to play its first international match and then defeated Yugoslavia in 1946.',\n",
       "   ' In 1932, Albania joined FIFA (during the 12–16 June convention ) And in 1954 she was one of the founding members of UEFA.']],\n",
       " ['Echosmith',\n",
       "  ['Echosmith is an American, Corporate indie pop band formed in February 2009 in Chino, California.',\n",
       "   ' Originally formed as a quartet of siblings, the band currently consists of Sydney, Noah and Graham Sierota, following the departure of eldest sibling Jamie in late 2016.',\n",
       "   ' Echosmith started first as \"Ready Set Go!\"',\n",
       "   ' until they signed to Warner Bros.',\n",
       "   ' Records in May 2012.',\n",
       "   ' They are best known for their hit song \"Cool Kids\", which reached number 13 on the \"Billboard\" Hot 100 and was certified double platinum by the RIAA with over 1,200,000 sales in the United States and also double platinum by ARIA in Australia.',\n",
       "   ' The song was Warner Bros.',\n",
       "   \" Records' fifth-biggest-selling-digital song of 2014, with 1.3 million downloads sold.\",\n",
       "   ' The band\\'s debut album, \"Talking Dreams\", was released on October 8, 2013.']],\n",
       " [\"Women's colleges in the Southern United States\",\n",
       "  [\"Women's colleges in the Southern United States refers to undergraduate, bachelor's degree–granting institutions, often liberal arts colleges, whose student populations consist exclusively or almost exclusively of women, located in the Southern United States.\",\n",
       "   \" Many started first as girls' seminaries or academies.\",\n",
       "   ' Salem College is the oldest female educational institution in the South and Wesleyan College is the first that was established specifically as a college for women.',\n",
       "   ' Some schools, such as Mary Baldwin University and Salem College, offer coeducational courses at the graduate level.']],\n",
       " ['First Arthur County Courthouse and Jail',\n",
       "  ['The First Arthur County Courthouse and Jail, was perhaps the smallest court house in the United States, and serves now as a museum.']],\n",
       " [\"Arthur's Magazine\",\n",
       "  [\"Arthur's Magazine (1844–1846) was an American literary periodical published in Philadelphia in the 19th century.\",\n",
       "   ' Edited by T.S. Arthur, it featured work by Edgar A. Poe, J.H. Ingraham, Sarah Josepha Hale, Thomas G. Spear, and others.',\n",
       "   ' In May 1846 it was merged into \"Godey\\'s Lady\\'s Book\".']],\n",
       " ['2014–15 Ukrainian Hockey Championship',\n",
       "  ['The 2014–15 Ukrainian Hockey Championship was the 23rd season of the Ukrainian Hockey Championship.',\n",
       "   ' Only four teams participated in the league this season, because of the instability in Ukraine and that most of the clubs had economical issues.',\n",
       "   ' Generals Kiev was the only team that participated in the league the previous season, and the season started first after the year-end of 2014.',\n",
       "   ' The regular season included just 12 rounds, where all the teams went to the semifinals.',\n",
       "   ' In the final, ATEK Kiev defeated the regular season winner HK Kremenchuk.']],\n",
       " ['First for Women',\n",
       "  [\"First for Women is a woman's magazine published by Bauer Media Group in the USA.\",\n",
       "   ' The magazine was started in 1989.',\n",
       "   ' It is based in Englewood Cliffs, New Jersey.',\n",
       "   ' In 2011 the circulation of the magazine was 1,310,696 copies.']],\n",
       " ['Freeway Complex Fire',\n",
       "  ['The Freeway Complex Fire was a 2008 wildfire in the Santa Ana Canyon area of Orange County, California.',\n",
       "   ' The fire started as two separate fires on November 15, 2008.',\n",
       "   ' The \"Freeway Fire\" started first shortly after 9am with the \"Landfill Fire\" igniting approximately 2 hours later.',\n",
       "   ' These two separate fires merged a day later and ultimately destroyed 314 residences in Anaheim Hills and Yorba Linda.']],\n",
       " ['William Rast',\n",
       "  ['William Rast is an American clothing line founded by Justin Timberlake and Trace Ayala.',\n",
       "   ' It is most known for their premium jeans.',\n",
       "   ' On October 17, 2006, Justin Timberlake and Trace Ayala put on their first fashion show to launch their new William Rast clothing line.',\n",
       "   ' The label also produces other clothing items such as jackets and tops.',\n",
       "   ' The company started first as a denim line, later evolving into a men’s and women’s clothing line.']]]"
      ]
     },
     "execution_count": 6,
     "metadata": {},
     "output_type": "execute_result"
    }
   ],
   "source": [
    "data[0]['context']"
   ]
  },
  {
   "cell_type": "code",
   "execution_count": 7,
   "id": "6b1a7ba9",
   "metadata": {},
   "outputs": [
    {
     "data": {
      "text/plain": [
       "{'supporting_facts': [['Allie Goertz', 0],\n",
       "  ['Allie Goertz', 1],\n",
       "  ['Allie Goertz', 2],\n",
       "  ['Milhouse Van Houten', 0]],\n",
       " 'level': 'hard',\n",
       " 'question': 'Musician and satirist Allie Goertz wrote a song about the \"The Simpsons\" character Milhouse, who Matt Groening named after who?',\n",
       " 'context': [['Lisa Simpson',\n",
       "   ['Lisa Marie Simpson is a fictional character in the animated television series \"The Simpsons\".',\n",
       "    ' She is the middle child and most intelligent of the Simpson family.',\n",
       "    ' Voiced by Yeardley Smith, Lisa first appeared on television in \"The Tracey Ullman Show\" short \"Good Night\" on April 19, 1987.',\n",
       "    ' Cartoonist Matt Groening created and designed her while waiting to meet James L. Brooks.',\n",
       "    ' Groening had been invited to pitch a series of shorts based on his comic \"Life in Hell\", but instead decided to create a new set of characters.',\n",
       "    ' He named the elder Simpson daughter after his younger sister Lisa Groening.',\n",
       "    ' After appearing on \"The Tracey Ullman Show\" for three years, the Simpson family were moved to their own series on Fox, which debuted on December 17, 1989.']],\n",
       "  ['Marge Simpson',\n",
       "   ['Marjorie Jacqueline \"Marge\" Simpson (née Bouvier) is a fictional character in the American animated sitcom \"The Simpsons\" and part of the eponymous family.',\n",
       "    ' She is voiced by Julie Kavner and first appeared on television in \"The Tracey Ullman Show\" short \"Good Night\" on April 19, 1987.',\n",
       "    \" Marge was created and designed by cartoonist Matt Groening while he was waiting in the lobby of James L. Brooks' office.\",\n",
       "    ' Groening had been called to pitch a series of shorts based on \"Life in Hell\" but instead decided to create a new set of characters.',\n",
       "    ' He named the character after his mother Margaret Groening.',\n",
       "    ' After appearing on \"The Tracey Ullman Show\" for three seasons, the Simpson family received their own series on Fox, which debuted December 17, 1989.']],\n",
       "  ['Bart Simpson',\n",
       "   ['Bartholomew JoJo \"Bart\" Simpson is a fictional character in the American animated television series \"The Simpsons\" and part of the Simpson family.',\n",
       "    ' He is voiced by Nancy Cartwright and first appeared on television in \"The Tracey Ullman Show\" short \"Good Night\" on April 19, 1987.',\n",
       "    \" Cartoonist Matt Groening created and designed Bart while waiting in the lobby of James L. Brooks' office.\",\n",
       "    ' Groening had been called to pitch a series of shorts based on his comic strip, \"Life in Hell\", but instead decided to create a new set of characters.',\n",
       "    ' While the rest of the characters were named after Groening\\'s family members, Bart\\'s name is an anagram of the word \"brat\".',\n",
       "    ' After appearing on \"The Tracey Ullman Show\" for three years, the Simpson family received its own series on Fox, which debuted December 17, 1989.']],\n",
       "  ['Allie Goertz',\n",
       "   ['Allison Beth \"Allie\" Goertz (born March 2, 1991) is an American musician.',\n",
       "    ' Goertz is known for her satirical songs based on various pop culture topics.',\n",
       "    ' Her videos are posted on YouTube under the name of Cossbysweater.',\n",
       "    ' Subjects of her songs have included the film \"The Room\", the character Milhouse from the television show \"The Simpsons\", and the game Dungeons & Dragons.',\n",
       "    ' Her style has been compared to that of Bo Burnham.',\n",
       "    ' In December 2015, Goertz released a concept album based on the Adult Swim series \"Rick and Morty\", \"Sad Dance Songs\", with the album\\'s cover emulating the animation and logo of the series.',\n",
       "    ' The album was made possible through Kickstarter.',\n",
       "    \" She is co-host of Everything's Coming Up Podcast, a Simpsons-focused podcast along with Julia Prescott.\"]],\n",
       "  ['Milhouse Van Houten',\n",
       "   ['Milhouse Mussolini van Houten is a fictional character featured in the animated television series \"The Simpsons\", voiced by Pamela Hayden, and created by Matt Groening who named the character after President Richard Nixon\\'s middle name.',\n",
       "    ' Later in the series, it is revealed that Milhouse\\'s middle name is \"Mussolini.\"']],\n",
       "  ['Los Angeles Reader',\n",
       "   ['Los Angeles Reader was a weekly paper established in 1978 and distributed in Los Angeles, United States.',\n",
       "    ' It followed the format of the (still active) Chicago Reader.',\n",
       "    ' The paper was known for having lengthy, thoughtful reviews of movies, plays and concerts in the LA area.',\n",
       "    ' James Vowell was its founding editor.',\n",
       "    \" Among its writers were Keith Fitzgerald, Nigey Lennon, Lionel Rolfe, Lawrence Wechsler, Mick Farren, Richard Meltzer, Heidi Dvorak, Chris Morris, Jerry Stahl, Steven Kane, Andy Klein, Allen Levy, Jim Goad, Kirk Silsbee, Henry Sheehan, Samantha Dunn, Natalie Nichols, Steve Appleford, Eric Mankin (also editor), Paul Birchall, Eddie Rivera (who wrote the paper's first cover story), Amy Steinberg, Harry Sheehan, Dan Sallit, Myron Meisel, David Ehrenstein.\",\n",
       "    ' Tom Davis, Bruce Bebb, Stuart Goldman, Ernest Hardy, Kevin Uhrich, Erik Himmelsbach and David L. Ulin.',\n",
       "    \" It is famous for being the first newspaper to publish Matt Groening's cartoon strip, Life in Hell on April 25, 1980.\",\n",
       "    ' James Vowell hired Matt Groening as his assistant editor in 1979.',\n",
       "    ' Groening was also originally a Reader music critic.',\n",
       "    ' It also ran a cartoon strip by David Lynch (director of Blue Velvet) called The Angriest Dog in the World, a strip notable for having exactly the same drawing panels for its entire run.',\n",
       "    ' James Vowell and his wife Codette Wallace bought the Reader from the Chicago Reader in February 1989.',\n",
       "    ' They sold \"The Reader\" to New Times Media in 1996, which merged it with the \"Los Angeles View\" to form \"New Times LA\".']],\n",
       "  ['Homer Simpson',\n",
       "   ['Homer Jay Simpson is a fictional character and the main protagonist of the American animated television series \"The Simpsons\" as the patriarch of the eponymous family.',\n",
       "    ' He is voiced by Dan Castellaneta and first appeared on television, along with the rest of his family, in \"The Tracey Ullman Show\" short \"Good Night\" on April 19, 1987.',\n",
       "    \" Homer was created and designed by cartoonist Matt Groening while he was waiting in the lobby of James L. Brooks' office.\",\n",
       "    ' Groening had been called to pitch a series of shorts based on his comic strip \"Life in Hell\" but instead decided to create a new set of characters.',\n",
       "    ' He named the character after his father, Homer Groening.',\n",
       "    ' After appearing for three seasons on \"The Tracey Ullman Show\", the Simpson family got their own series on Fox that debuted December 17, 1989.']],\n",
       "  ['List of The Simpsons video games',\n",
       "   ['\"The Simpsons\" is an American animated television sitcom created by Matt Groening for the Fox Broadcasting Company.',\n",
       "    ' The series is a satirical parody of a middle class American lifestyle epitomized by its eponymous family, which consists of Homer, Marge, Bart, Lisa and Maggie.',\n",
       "    ' It is set in the fictional town of Springfield, and lampoons American culture, society and television, and many aspects of the human condition.',\n",
       "    ' The family was conceived by Groening shortly before a pitch for a series of animated shorts with producer James L.\\xa0Brooks.',\n",
       "    ' Groening created a dysfunctional family and named the characters after members of his own family, substituting Bart for his own name.',\n",
       "    ' The shorts became a part of \"The Tracey Ullman Show\" on April 19, 1987 and after a three-season run, the sketch was developed into a half-hour prime time show and became a hit series for Fox.',\n",
       "    ' The growing popularity of the series motivated video game developers to create video games based on the series.',\n",
       "    ' Two pinball machines have also been produced; one self-titled, that was only made available for a limited time after the first season finale (1990) and \"The Simpsons Pinball Party\" (2003).',\n",
       "    ' Additionally, several handheld device games have been released, such as \"Bartman: Avenger of Evil\" (1990) and \"Bart Simpson\\'s Cupcake Crisis\" (1991).']],\n",
       "  ['The Simpsons: An Uncensored, Unauthorized History',\n",
       "   ['The Simpsons: An Uncensored, Unauthorized History is a non-fiction book about the American animated television series \"The Simpsons\".',\n",
       "    ' It was written by John Ortved, and first published in October 2009 by Faber and Faber.',\n",
       "    \" In the United Kingdom, the book is called Simpsons Confidential: The uncensored, totally unauthorised history of the world's greatest TV show by the people that made it.\",\n",
       "    ' The book is an oral history of the show, and concentrates particularly on the writers and producers of the show.',\n",
       "    ' The book includes entire chapters devoted to key figures such as creator Matt Groening and James L. Brooks and Sam Simon, who helped develop the series.',\n",
       "    ' According to National Public Radio reviewer Linda Holmes, \"Ortved\\'s thesis, essentially, is that lots of people are responsible for the success of \"The Simpsons\", and their creator, Matt Groening, has too often been viewed as the sole source to the detriment of others who also deserve to be praised.\"']],\n",
       "  ['List of The Simpsons guest stars',\n",
       "   ['In addition to the show\\'s regular cast of voice actors, celebrity guest stars have been a staple of \"The Simpsons\", an American animated television sitcom created by Matt Groening for the Fox Broadcasting Company, since its first season.',\n",
       "    ' \"The Simpsons\" focuses on the eponymous family, which consists of Homer, Marge, Bart, Lisa and Maggie.',\n",
       "    ' The family was initially conceived by Groening for a series of animated shorts, which originally aired as a part of \"The Tracey Ullman Show\" between 1987 and 1989.',\n",
       "    ' The shorts were developed into a half-hour prime time series which began in December 1989.',\n",
       "    ' The series\\' 27th season began in September 2015 and episodes of \"The Simpsons\" have aired.',\n",
       "    ' A feature film adaptation of the series called \"The Simpsons Movie\", was released in 2007.']]],\n",
       " 'answer': 'President Richard Nixon',\n",
       " '_id': '5a8d7341554299441c6b9fe5',\n",
       " 'type': 'bridge'}"
      ]
     },
     "execution_count": 7,
     "metadata": {},
     "output_type": "execute_result"
    }
   ],
   "source": [
    "data[2]"
   ]
  },
  {
   "cell_type": "code",
   "execution_count": 20,
   "id": "aa0f3fe4",
   "metadata": {},
   "outputs": [
    {
     "data": {
      "application/vnd.jupyter.widget-view+json": {
       "model_id": "da016cd34e024947932ce708deafb2c9",
       "version_major": 2,
       "version_minor": 0
      },
      "text/plain": [
       "  0%|          | 0/90447 [00:00<?, ?it/s]"
      ]
     },
     "metadata": {},
     "output_type": "display_data"
    }
   ],
   "source": [
    "context_list = []\n",
    "question_list = []\n",
    "answer_list = []\n",
    "\n",
    "\n",
    "for i, sample in tqdm(enumerate(data), total=length):\n",
    "    \n",
    "    supporting_facts = sample[\"supporting_facts\"]\n",
    "    supporting_facts = set([fact[0] for fact in supporting_facts])\n",
    "    context = sample[\"context\"]\n",
    "    context_accum = []\n",
    "    for fact in supporting_facts:\n",
    "        for paragraph in context:\n",
    "            if fact == paragraph[0]:\n",
    "                context_accum.extend(paragraph[1])\n",
    "        \n",
    "    context_list.append(\" \".join(context_accum))\n",
    "                                    \n",
    "    q = sample[\"question\"]\n",
    "    a = sample[\"answer\"]\n",
    "    question_list.append(q)\n",
    "    answer_list.append(a)"
   ]
  },
  {
   "cell_type": "code",
   "execution_count": 23,
   "id": "56a62caa",
   "metadata": {},
   "outputs": [
    {
     "name": "stdout",
     "output_type": "stream",
     "text": [
      "First for Women is a woman's magazine published by Bauer Media Group in the USA.  The magazine was started in 1989.  It is based in Englewood Cliffs, New Jersey.  In 2011 the circulation of the magazine was 1,310,696 copies. Arthur's Magazine (1844–1846) was an American literary periodical published in Philadelphia in the 19th century.  Edited by T.S. Arthur, it featured work by Edgar A. Poe, J.H. Ingraham, Sarah Josepha Hale, Thomas G. Spear, and others.  In May 1846 it was merged into \"Godey's Lady's Book\". Which magazine was started first Arthur's Magazine or First for Women? Arthur's Magazine\n"
     ]
    }
   ],
   "source": [
    "j= 0\n",
    "print(context_list[j], question_list[j], answer_list[j])"
   ]
  },
  {
   "cell_type": "code",
   "execution_count": 17,
   "id": "27e078e5",
   "metadata": {},
   "outputs": [],
   "source": [
    "sys.path.insert(0, '../')\n",
    "tokenizer = pkl.load(open(\"../tokenizers/tokenizer_superQA_24k.pkl\", \"rb\"))\n",
    "tokenizer.create_hash()\n",
    "tokenizer.add_special_tokens([\"<s>\", \"</s>\", \"<q>\", \"<a>\", \"<pad>\"])"
   ]
  },
  {
   "cell_type": "code",
   "execution_count": 18,
   "id": "a3d8bb59",
   "metadata": {},
   "outputs": [],
   "source": [
    "def fused_sqa(context_list, question_grouped_list, answer_grouped_list):\n",
    "    q =\"<q>\"\n",
    "    a = \"<a>\"\n",
    "    sos = \"<s>\"\n",
    "    eos = \"</s>\"\n",
    "\n",
    "    rcw = re.compile(r\"\\s+\")\n",
    "\n",
    "    corpus_list = []\n",
    "    for context, question, answer in tqdm(list(zip(context_list, question_list, answer_list))):\n",
    "        context = context.replace(\"\\n\", \" \").replace(\"\\r\", \" \")\n",
    "        context = rcw.sub(\" \", context).strip()\n",
    "        context = normalize_to_ascii(context).lower()\n",
    "\n",
    "        question = question.replace(\"\\n\", \" \").replace(\"\\r\", \" \")\n",
    "        question = rcw.sub(\" \", question).strip()\n",
    "        question = normalize_to_ascii(question).lower()\n",
    "\n",
    "        answer = answer.replace(\"\\n\", \" \").replace(\"\\r\", \" \")\n",
    "        answer = rcw.sub(\" \", answer).strip()\n",
    "        answer = normalize_to_ascii(answer).lower()\n",
    "\n",
    "        sqa = [sos, context, q, question, a, answer, \".\", eos]\n",
    "        corpus_list.append(\"\".join(sqa))\n",
    "        \n",
    "        \n",
    "    return corpus_list"
   ]
  },
  {
   "cell_type": "code",
   "execution_count": 32,
   "id": "1a4530e6",
   "metadata": {},
   "outputs": [
    {
     "data": {
      "application/vnd.jupyter.widget-view+json": {
       "model_id": "a30731c1fe6d4ad4b5b933c1df49ff56",
       "version_major": 2,
       "version_minor": 0
      },
      "text/plain": [
       "  0%|          | 0/90447 [00:00<?, ?it/s]"
      ]
     },
     "metadata": {},
     "output_type": "display_data"
    }
   ],
   "source": [
    "fused = fused_sqa(context_list, question_list, answer_list)"
   ]
  },
  {
   "cell_type": "code",
   "execution_count": null,
   "id": "5aae26b2",
   "metadata": {},
   "outputs": [
    {
     "data": {
      "image/png": "[encoded data removed]",
      "text/plain": [
       "<Figure size 640x480 with 1 Axes>"
      ]
     },
     "metadata": {},
     "output_type": "display_data"
    }
   ],
   "source": [
    "len_list = [len(x) for x in context_list]\n",
    "\n",
    "plt.hist(len_list, bins=100)\n",
    "plt.show()"
   ]
  },
  {
   "cell_type": "code",
   "execution_count": 2,
   "id": "9eb868ac",
   "metadata": {},
   "outputs": [],
   "source": [
    "sys.path.insert(0, '../')\n",
    "tokenizer = pkl.load(open(\"../tokenizers/tokenizer_superQA_24k.pkl\", \"rb\"))\n",
    "tokenizer.create_hash()\n",
    "tokenizer.add_special_tokens([\"<s>\", \"</s>\", \"<q>\", \"<a>\", \"<pad>\"])"
   ]
  },
  {
   "cell_type": "code",
   "execution_count": 46,
   "id": "ac9fa3d7",
   "metadata": {},
   "outputs": [
    {
     "name": "stdout",
     "output_type": "stream",
     "text": [
      "<s>prince george of denmark and norway, duke of cumberland (danish: \"jrgen\" ; 2 april 165328 october 1708), was the husband of queen anne, who reigned over great britain from 1702. prince william, duke of gloucester (24 july 1689  30 july 1700 ) was the son of princess anne, later queen of england, ireland and scotland from 1702, and her husband, prince george, duke of cumberland. he was their only child to survive infancy. styled duke of gloucester, he was viewed by contemporaries as a protestant champion because his birth seemed to cement the protestant succession established in the \"glorious revolution\" that had deposed his catholic grandfather james ii the previous year.<q>prince william, duke of gloucester and prince george of denmark, were eventually monarchs of which kingdom?<a>great britain.</s>\n"
     ]
    }
   ],
   "source": [
    "print(fused[100])"
   ]
  },
  {
   "cell_type": "code",
   "execution_count": 47,
   "id": "9e7cfd97",
   "metadata": {},
   "outputs": [
    {
     "data": {
      "application/vnd.jupyter.widget-view+json": {
       "model_id": "8399197c8fd44ca6a9bdc6989a8b5c0c",
       "version_major": 2,
       "version_minor": 0
      },
      "text/plain": [
       "  0%|          | 0/90447 [00:00<?, ?it/s]"
      ]
     },
     "metadata": {},
     "output_type": "display_data"
    }
   ],
   "source": [
    "corpus_encoded = [tokenizer.encode(line.lower()) for line in tqdm(fused)]\n",
    "\n",
    "pkl.dump(corpus_encoded, open('../corpus/corpus_clean/corpus_hotpot_sqa_24k', 'wb'))"
   ]
  },
  {
   "cell_type": "markdown",
   "id": "04b1f01a",
   "metadata": {},
   "source": [
    "## Padding"
   ]
  },
  {
   "cell_type": "code",
   "execution_count": 22,
   "id": "ebb373a9",
   "metadata": {},
   "outputs": [],
   "source": [
    "def pack_and_pad_corpus(corpus, max_length, tokenizer):\n",
    "    pad_token = tokenizer.token_to_idx[\"<pad>\"]\n",
    "    packed_corpus = []\n",
    "    current_block = []\n",
    "    current_length = 0\n",
    "\n",
    "    for line in tqdm(corpus):\n",
    "        line_len = line.shape[1]\n",
    "\n",
    "        if line_len > max_length:\n",
    "            # Truncate long lines\n",
    "            line = line[:, :max_length]\n",
    "            line_len = max_length\n",
    "\n",
    "        if current_length + line_len > max_length:\n",
    "            # Finalize current block with padding\n",
    "            combined = tf.concat(current_block, axis=1)\n",
    "            padding_needed = max_length - combined.shape[1]\n",
    "            if padding_needed > 0:\n",
    "                pad = tf.repeat(tf.constant([[pad_token]]), padding_needed, axis=1)\n",
    "                combined = tf.concat([combined, pad], axis=1)\n",
    "            packed_corpus.append(combined)\n",
    "            current_block = [line]\n",
    "            current_length = line_len\n",
    "        else:\n",
    "            current_block.append(line)\n",
    "            current_length += line_len\n",
    "\n",
    "    # Handle any remaining block\n",
    "    if current_block:\n",
    "        combined = tf.concat(current_block, axis=1)\n",
    "        padding_needed = max_length - combined.shape[1]\n",
    "        if padding_needed > 0:\n",
    "            pad = tf.repeat(tf.constant([[pad_token]]), padding_needed, axis=1)\n",
    "            combined = tf.concat([combined, pad], axis=1)\n",
    "        packed_corpus.append(combined)\n",
    "\n",
    "    return tf.concat(packed_corpus, axis=0)"
   ]
  },
  {
   "cell_type": "code",
   "execution_count": 7,
   "id": "9ae2643a",
   "metadata": {},
   "outputs": [
    {
     "data": {
      "application/vnd.jupyter.widget-view+json": {
       "model_id": "25033d962e924d499c49fed2b67ec1e7",
       "version_major": 2,
       "version_minor": 0
      },
      "text/plain": [
       "  0%|          | 0/90447 [00:00<?, ?it/s]"
      ]
     },
     "metadata": {},
     "output_type": "display_data"
    }
   ],
   "source": [
    "corpus_encoded = pkl.load(open('../corpus/corpus_clean/corpus_hotpot_sqa_24k', 'rb'))\n",
    "corpus_padded = pack_and_pad_corpus(corpus_encoded, 768, tokenizer)\n",
    "pkl.dump(corpus_padded, open('../corpus/corpus_clean/corpus_hotpot_sqa_24k_padded', 'wb'))"
   ]
  },
  {
   "cell_type": "code",
   "execution_count": 8,
   "id": "5822535d",
   "metadata": {},
   "outputs": [
    {
     "data": {
      "text/plain": [
       "TensorShape([32256, 768])"
      ]
     },
     "execution_count": 8,
     "metadata": {},
     "output_type": "execute_result"
    }
   ],
   "source": [
    "corpus_padded.shape"
   ]
  },
  {
   "cell_type": "code",
   "execution_count": 51,
   "id": "bcaf0693",
   "metadata": {},
   "outputs": [
    {
     "data": {
      "image/png": "[encoded data removed]",
      "text/plain": [
       "<Figure size 640x480 with 1 Axes>"
      ]
     },
     "metadata": {},
     "output_type": "display_data"
    }
   ],
   "source": [
    "len_list = [x.shape[1] for x in corpus_encoded]\n",
    "\n",
    "plt.hist(len_list, bins=100)\n",
    "plt.show()"
   ]
  },
  {
   "cell_type": "markdown",
   "id": "76b52bbc",
   "metadata": {},
   "source": [
    "## No Redundancy"
   ]
  },
  {
   "cell_type": "code",
   "execution_count": 14,
   "id": "d8664657",
   "metadata": {},
   "outputs": [
    {
     "data": {
      "application/vnd.jupyter.widget-view+json": {
       "model_id": "6c86c076a75946589ad50f71d3bbf0cf",
       "version_major": 2,
       "version_minor": 0
      },
      "text/plain": [
       "  0%|          | 0/90447 [00:00<?, ?it/s]"
      ]
     },
     "metadata": {},
     "output_type": "display_data"
    },
    {
     "name": "stdout",
     "output_type": "stream",
     "text": [
      "IndexError for fact Minoru Suzuki at index 2 in paragraph Minoru Suzuki\n",
      "IndexError for fact Jonathan Taylor Thomas at index 20 in paragraph Jonathan Taylor Thomas\n",
      "IndexError for fact Francis Poulenc at index 3 in paragraph Francis Poulenc\n",
      "IndexError for fact Pan's Labyrinth at index 2 in paragraph Pan's Labyrinth\n",
      "IndexError for fact Rupert Grint at index 4 in paragraph Rupert Grint\n",
      "IndexError for fact Walkerville, South Australia at index 52 in paragraph Walkerville, South Australia\n",
      "IndexError for fact Khady Sylla at index 2 in paragraph Khady Sylla\n",
      "IndexError for fact Robbie Rist at index 52 in paragraph Robbie Rist\n",
      "IndexError for fact Harry Styles at index 4 in paragraph Harry Styles\n",
      "IndexError for fact William T. Anderson at index 2 in paragraph William T. Anderson\n",
      "IndexError for fact South Park (season 12) at index 20 in paragraph South Park (season 12)\n",
      "IndexError for fact Hutterite at index 40 in paragraph Hutterite\n",
      "IndexError for fact 2013 Moore tornado at index 2 in paragraph 2013 Moore tornado\n",
      "IndexError for fact Savannah cat at index 2 in paragraph Savannah cat\n",
      "IndexError for fact Albany and Schenectady Railroad at index 30 in paragraph Albany and Schenectady Railroad\n",
      "IndexError for fact Buprenorphine at index 7 in paragraph Buprenorphine\n",
      "IndexError for fact Jan Hooks at index 8 in paragraph Jan Hooks\n",
      "IndexError for fact Drop Dead Fred at index 2 in paragraph Drop Dead Fred\n",
      "IndexError for fact Minister of Defence (India) at index 11 in paragraph Minister of Defence (India)\n",
      "IndexError for fact Rochester Hills, Michigan at index 2 in paragraph Rochester Hills, Michigan\n",
      "IndexError for fact Iowa State Cyclones football at index 4 in paragraph Iowa State Cyclones football\n",
      "IndexError for fact Jodie Whittaker at index 3 in paragraph Jodie Whittaker\n"
     ]
    }
   ],
   "source": [
    "context_list = []\n",
    "question_list = []\n",
    "answer_list = []\n",
    "\n",
    "\n",
    "for i, sample in tqdm(enumerate(data), total=length):\n",
    "    \n",
    "    supporting_facts = sample[\"supporting_facts\"]\n",
    "    context = sample[\"context\"]\n",
    "    context_accum = []\n",
    "    for fact, idx in supporting_facts:\n",
    "        for paragraph in context:\n",
    "            if fact == paragraph[0]:\n",
    "                try:\n",
    "                    context_accum.append(paragraph[1][idx])\n",
    "                except IndexError:\n",
    "                    print(f\"IndexError for fact {fact} at index {idx} in paragraph {paragraph[0]}\")\n",
    "                    continue\n",
    "        \n",
    "    context_list.append(\" \".join(context_accum))\n",
    "                                    \n",
    "    q = sample[\"question\"]\n",
    "    a = sample[\"answer\"]\n",
    "    question_list.append(q)\n",
    "    answer_list.append(a)"
   ]
  },
  {
   "cell_type": "code",
   "execution_count": 16,
   "id": "36ba5c2d",
   "metadata": {},
   "outputs": [
    {
     "name": "stdout",
     "output_type": "stream",
     "text": [
      "The Oberoi family is an Indian family that is famous for its involvement in hotels, namely through The Oberoi Group. The Oberoi Group is a hotel company with its head office in Delhi. The Oberoi family is part of a hotel company that has a head office in what city? Delhi\n"
     ]
    }
   ],
   "source": [
    "print(context_list[1], question_list[1], answer_list[1])"
   ]
  },
  {
   "cell_type": "code",
   "execution_count": 19,
   "id": "4d6c1f81",
   "metadata": {},
   "outputs": [
    {
     "data": {
      "application/vnd.jupyter.widget-view+json": {
       "model_id": "3374810179ee403c89a43ac738e33311",
       "version_major": 2,
       "version_minor": 0
      },
      "text/plain": [
       "  0%|          | 0/90447 [00:00<?, ?it/s]"
      ]
     },
     "metadata": {},
     "output_type": "display_data"
    }
   ],
   "source": [
    "fused = fused_sqa(context_list, question_list, answer_list)"
   ]
  },
  {
   "cell_type": "code",
   "execution_count": 20,
   "id": "26428d5d",
   "metadata": {},
   "outputs": [
    {
     "data": {
      "image/png": "[encoded data removed]",
      "text/plain": [
       "<Figure size 640x480 with 1 Axes>"
      ]
     },
     "metadata": {},
     "output_type": "display_data"
    }
   ],
   "source": [
    "len_list = [len(x) for x in context_list]\n",
    "\n",
    "plt.hist(len_list, bins=100)\n",
    "plt.show()"
   ]
  },
  {
   "cell_type": "code",
   "execution_count": 21,
   "id": "b0abd902",
   "metadata": {},
   "outputs": [
    {
     "data": {
      "application/vnd.jupyter.widget-view+json": {
       "model_id": "5595943fbd4546a8a3f873a788a1a0fb",
       "version_major": 2,
       "version_minor": 0
      },
      "text/plain": [
       "  0%|          | 0/90447 [00:00<?, ?it/s]"
      ]
     },
     "metadata": {},
     "output_type": "display_data"
    }
   ],
   "source": [
    "corpus_encoded = [tokenizer.encode(line.lower()) for line in tqdm(fused)]\n",
    "\n",
    "pkl.dump(corpus_encoded, open('../corpus/corpus_clean/corpus_hotpot_sqa_noRed_24k', 'wb'))"
   ]
  },
  {
   "cell_type": "code",
   "execution_count": 23,
   "id": "c15fb835",
   "metadata": {},
   "outputs": [
    {
     "data": {
      "application/vnd.jupyter.widget-view+json": {
       "model_id": "626e07b0c69a41b1b3a2558d526bf7b4",
       "version_major": 2,
       "version_minor": 0
      },
      "text/plain": [
       "  0%|          | 0/90447 [00:00<?, ?it/s]"
      ]
     },
     "metadata": {},
     "output_type": "display_data"
    }
   ],
   "source": [
    "corpus_encoded = pkl.load(open('../corpus/corpus_clean/corpus_hotpot_sqa_noRed_24k', 'rb'))\n",
    "corpus_padded = pack_and_pad_corpus(corpus_encoded, 768, tokenizer)\n",
    "pkl.dump(corpus_padded, open('../corpus/corpus_clean/corpus_hotpot_sqa_noRed_24k_padded', 'wb'))"
   ]
  },
  {
   "cell_type": "code",
   "execution_count": 24,
   "id": "bebeb399",
   "metadata": {},
   "outputs": [
    {
     "data": {
      "text/plain": [
       "TensorShape([14710, 768])"
      ]
     },
     "execution_count": 24,
     "metadata": {},
     "output_type": "execute_result"
    }
   ],
   "source": [
    "corpus_padded.shape"
   ]
  },
  {
   "cell_type": "markdown",
   "id": "52a5f20b",
   "metadata": {},
   "source": [
    "## "
   ]
  }
 ],
 "metadata": {
  "kernelspec": {
   "display_name": "keras-gpu",
   "language": "python",
   "name": "python3"
  },
  "language_info": {
   "codemirror_mode": {
    "name": "ipython",
    "version": 3
   },
   "file_extension": ".py",
   "mimetype": "text/x-python",
   "name": "python",
   "nbconvert_exporter": "python",
   "pygments_lexer": "ipython3",
   "version": "3.10.16"
  }
 },
 "nbformat": 4,
 "nbformat_minor": 5
}
