{
 "cells": [
  {
   "cell_type": "markdown",
   "id": "04010a08",
   "metadata": {},
   "source": [
    "## LLM"
   ]
  },
  {
   "cell_type": "code",
   "execution_count": 1,
   "id": "8fa3d166",
   "metadata": {},
   "outputs": [
    {
<<<<<<< HEAD
     "name": "stderr",
     "output_type": "stream",
     "text": [
      "c:\\Users\\krist\\anaconda3\\envs\\keras-gpu\\lib\\site-packages\\requests\\__init__.py:86: RequestsDependencyWarning: Unable to find acceptable character detection dependency (chardet or charset_normalizer).\n",
      "  warnings.warn(\n"
     ]
    },
    {
     "ename": "RuntimeError",
     "evalue": "CPU dispatcher tracer already initlized",
     "output_type": "error",
     "traceback": [
      "\u001b[1;31m---------------------------------------------------------------------------\u001b[0m",
      "\u001b[1;31mRuntimeError\u001b[0m                              Traceback (most recent call last)",
      "\u001b[1;31mRuntimeError\u001b[0m: CPU dispatcher tracer already initlized"
     ]
    },
    {
     "ename": "RuntimeError",
     "evalue": "CPU dispatcher tracer already initlized",
     "output_type": "error",
     "traceback": [
      "\u001b[1;31m---------------------------------------------------------------------------\u001b[0m",
      "\u001b[1;31mRuntimeError\u001b[0m                              Traceback (most recent call last)",
      "\u001b[1;31mRuntimeError\u001b[0m: CPU dispatcher tracer already initlized"
     ]
    },
    {
     "ename": "RuntimeError",
     "evalue": "CPU dispatcher tracer already initlized",
     "output_type": "error",
     "traceback": [
      "\u001b[1;31m---------------------------------------------------------------------------\u001b[0m",
      "\u001b[1;31mRuntimeError\u001b[0m                              Traceback (most recent call last)",
      "\u001b[1;31mRuntimeError\u001b[0m: CPU dispatcher tracer already initlized"
     ]
    },
    {
     "ename": "RuntimeError",
     "evalue": "CPU dispatcher tracer already initlized",
     "output_type": "error",
     "traceback": [
      "\u001b[1;31m---------------------------------------------------------------------------\u001b[0m",
      "\u001b[1;31mRuntimeError\u001b[0m                              Traceback (most recent call last)",
      "\u001b[1;31mRuntimeError\u001b[0m: CPU dispatcher tracer already initlized"
     ]
    },
    {
     "ename": "RuntimeError",
     "evalue": "CPU dispatcher tracer already initlized",
     "output_type": "error",
     "traceback": [
      "\u001b[1;31m---------------------------------------------------------------------------\u001b[0m",
      "\u001b[1;31mRuntimeError\u001b[0m                              Traceback (most recent call last)",
      "\u001b[1;31mRuntimeError\u001b[0m: CPU dispatcher tracer already initlized"
     ]
    },
    {
     "ename": "RuntimeError",
     "evalue": "CPU dispatcher tracer already initlized",
     "output_type": "error",
     "traceback": [
      "\u001b[1;31m---------------------------------------------------------------------------\u001b[0m",
      "\u001b[1;31mRuntimeError\u001b[0m                              Traceback (most recent call last)",
      "\u001b[1;31mRuntimeError\u001b[0m: CPU dispatcher tracer already initlized"
     ]
    },
    {
=======
>>>>>>> aef88b59a6a34beeebfdb2d5837ab3168a9e2f71
     "name": "stdout",
     "output_type": "stream",
     "text": [
      "Num GPUs Available:  0\n"
     ]
    }
   ],
   "source": [
    "import sys\n",
    "sys.path.insert(0, '../src/')\n",
    "\n",
    "import matplotlib.pyplot as plt\n",
    "from tokenizer import TokenizerBPE\n",
    "from data_handling import normalize_to_ascii\n",
    "import numpy as np\n",
    "import re\n",
    "\n",
    "import os\n",
    "import tensorflow as tf\n",
    "import pickle as pkl\n",
    "from tqdm.notebook import tqdm\n",
    "import json\n",
    "\n",
    "# disable gpu for testing purposes\n",
    "os.environ[\"CUDA_VISIBLE_DEVICES\"] = \"-1\"\n",
    "\n",
    "print(\"Num GPUs Available: \", len(tf.config.list_physical_devices('GPU')))\n"
   ]
  },
  {
   "cell_type": "markdown",
   "id": "aca6c651",
   "metadata": {},
   "source": [
    "## Trivia Wiki"
   ]
  },
  {
   "cell_type": "code",
   "execution_count": 2,
   "id": "c91c971a",
   "metadata": {},
   "outputs": [],
   "source": [
    "def get_top_n_evidence(n, rank, evidence_article):\n",
    "    top_n = []\n",
    "    for i in range(n):\n",
    "        article = evidence_article[rank[i][0]]\n",
    "        top_n.append(article)\n",
    "    return top_n"
   ]
  },
  {
   "cell_type": "code",
   "execution_count": 3,
   "id": "1013ca07",
   "metadata": {},
   "outputs": [
    {
     "data": {
      "application/vnd.jupyter.widget-view+json": {
<<<<<<< HEAD
       "model_id": "c5466b3ac9e14d2c935eac02ea198cb5",
=======
       "model_id": "11370f183d3b42f5994da5b1c9cd4662",
>>>>>>> aef88b59a6a34beeebfdb2d5837ab3168a9e2f71
       "version_major": 2,
       "version_minor": 0
      },
      "text/plain": [
       "  0%|          | 0/61888 [00:00<?, ?it/s]"
      ]
     },
     "metadata": {},
     "output_type": "display_data"
    }
   ],
   "source": [
    "with open('../corpus/triviaqa-rc/qa/wikipedia-train.json', 'r', encoding='utf-8') as f:\n",
    "    squad = json.load(f)\n",
    "\n",
    "question_list = []\n",
    "answer_list = []\n",
    "evidence_list = []\n",
    "\n",
    "for qa in tqdm(squad['Data']):\n",
    "    question_list.append(qa['Question'])\n",
    "    answer_list.append(qa['Answer'][\"Value\"])\n",
    "    sr = qa[\"EntityPages\"]\n",
    "    if len(sr) > 0: \n",
    "        evidence_list.append(sr[0][\"Filename\"])\n",
    "    else:\n",
    "        evidence_list.append(None)"
   ]
  },
  {
   "cell_type": "code",
   "execution_count": 4,
   "id": "b135b5f7",
   "metadata": {},
   "outputs": [
    {
     "data": {
      "application/vnd.jupyter.widget-view+json": {
<<<<<<< HEAD
       "model_id": "3ad0b9235ae9435e96d7a97f904050de",
=======
       "model_id": "7e5c3ac0476f42639e39f7e8b93de83a",
>>>>>>> aef88b59a6a34beeebfdb2d5837ab3168a9e2f71
       "version_major": 2,
       "version_minor": 0
      },
      "text/plain": [
       "  0%|          | 0/61888 [00:00<?, ?it/s]"
      ]
     },
     "metadata": {},
     "output_type": "display_data"
    }
   ],
   "source": [
    "path = \"../corpus/triviaqa-rc/evidence/wikipedia/\"\n",
    "\n",
    "evidence_article = {}\n",
    "seen = {}\n",
    "\n",
    "for i, evidence in tqdm(list(enumerate(evidence_list))):\n",
    "    if evidence is not None:\n",
    "        evidence = evidence.replace(\":\", \"_\").replace(\"?\", \"_\").replace(\"*\", \"_\").replace('\"', \"_\")\n",
    "        if not evidence in seen:\n",
    "            seen[evidence] = 1\n",
    "            try:\n",
    "                txt = open(path + evidence, 'r', encoding='utf-8').read()\n",
    "                evidence_article[evidence] = txt\n",
    "            except:\n",
    "                print(\"Error reading file: \", evidence)\n",
    "                continue\n",
    "        else:\n",
    "            seen[evidence] += 1"
   ]
  },
  {
   "cell_type": "code",
<<<<<<< HEAD
   "execution_count": 5,
=======
   "execution_count": 7,
>>>>>>> aef88b59a6a34beeebfdb2d5837ab3168a9e2f71
   "id": "37165b01",
   "metadata": {},
   "outputs": [
    {
     "name": "stdout",
     "output_type": "stream",
     "text": [
<<<<<<< HEAD
      "529632069\n",
=======
      "228263290\n",
>>>>>>> aef88b59a6a34beeebfdb2d5837ab3168a9e2f71
      "28406\n"
     ]
    }
   ],
   "source": [
    "rank = [[evidence, freq] for freq, evidence in sorted(zip(seen.values(), seen.keys()), reverse=True)]\n",
    "\n",
<<<<<<< HEAD
    "article_list = get_top_n_evidence(len(rank), rank, evidence_article)\n",
=======
    "article_list = get_top_n_evidence(8500, rank, evidence_article)\n",
>>>>>>> aef88b59a6a34beeebfdb2d5837ab3168a9e2f71
    "\n",
    "print(len(\"\".join(article_list)))\n",
    "print(len(rank))"
   ]
  },
  {
   "cell_type": "code",
<<<<<<< HEAD
   "execution_count": 6,
=======
   "execution_count": 8,
>>>>>>> aef88b59a6a34beeebfdb2d5837ab3168a9e2f71
   "id": "3a97d861",
   "metadata": {},
   "outputs": [],
   "source": [
    "sys.path.insert(0, '../')\n",
    "tokenizer = pkl.load(open(\"../tokenizers/tokenizer_superQA_24k.pkl\", \"rb\"))\n",
    "tokenizer.create_hash()\n",
    "tokenizer.add_special_tokens([\"<s>\", \"</s>\", \"<q>\", \"<a>\", \"<pad>\"])"
   ]
  },
  {
   "cell_type": "code",
<<<<<<< HEAD
   "execution_count": 7,
=======
   "execution_count": 10,
>>>>>>> aef88b59a6a34beeebfdb2d5837ab3168a9e2f71
   "id": "a70e84c8",
   "metadata": {},
   "outputs": [],
   "source": [
    "def fused_article(corpus_list):\n",
    "    sos = \"<s>\"\n",
    "    eos = \"</s>\"\n",
    "\n",
    "    rcw = re.compile(r\"\\s+\")\n",
    "\n",
    "    corpus_padded_list = []\n",
    "    for line in corpus_list:\n",
    "        line = line.replace(\"\\n\", \" \").replace(\"\\r\", \" \")\n",
    "        line = rcw.sub(\" \", line).strip()\n",
    "        line = [sos, normalize_to_ascii(line).lower(), eos]\n",
    "        corpus_padded_list.extend(line)\n",
    "    \n",
    "    return \"\".join(corpus_padded_list)"
   ]
  },
  {
   "cell_type": "code",
<<<<<<< HEAD
   "execution_count": 8,
=======
   "execution_count": 11,
>>>>>>> aef88b59a6a34beeebfdb2d5837ab3168a9e2f71
   "id": "652f30c8",
   "metadata": {},
   "outputs": [
    {
     "data": {
      "application/vnd.jupyter.widget-view+json": {
<<<<<<< HEAD
       "model_id": "ba8353ae4eda4bd3aa909588b4239d18",
=======
       "model_id": "6b6186baaeb44bba90aa5d0c6382eb21",
>>>>>>> aef88b59a6a34beeebfdb2d5837ab3168a9e2f71
       "version_major": 2,
       "version_minor": 0
      },
      "text/plain": [
       "  0%|          | 0/24000 [00:00<?, ?it/s]"
      ]
     },
     "metadata": {},
     "output_type": "display_data"
    }
   ],
   "source": [
    "fused = fused_article(article_list)\n",
<<<<<<< HEAD
    "corpus_encoded = tokenizer.encode(fused.lower(), verbose=True)\n",
    "\n",
=======
    "corpus_encoded = tokenizer.encode(fused.lower(), verbose=True)"
   ]
  },
  {
   "cell_type": "code",
   "execution_count": 12,
   "id": "b8d190b7",
   "metadata": {},
   "outputs": [],
   "source": [
>>>>>>> aef88b59a6a34beeebfdb2d5837ab3168a9e2f71
    "pkl.dump(corpus_encoded, open('../corpus/corpus_clean/corpus_wiki_article_24k', 'wb'))"
   ]
  },
  {
   "cell_type": "markdown",
   "id": "467e6494",
   "metadata": {},
   "source": [
    "## QA"
   ]
  },
  {
   "cell_type": "code",
   "execution_count": 13,
   "id": "45dfab1f",
   "metadata": {},
   "outputs": [],
   "source": [
    "def fused_qa(question_list, answer_list):\n",
    "    q =\"<q>\"\n",
    "    a = \"<a>\"\n",
    "    sos = \"<s>\"\n",
    "    eos = \"</s>\"\n",
    "    rcw = re.compile(r\"\\s+\")\n",
    "\n",
    "    corpus_list = []\n",
    "    for question, answer in tqdm(list(zip(question_list, answer_list))):\n",
    "        question = question.replace(\"\\n\", \" \").replace(\"\\r\", \" \")\n",
    "        question = rcw.sub(\" \", question).strip()\n",
    "        answer = answer.replace(\"\\n\", \" \").replace(\"\\r\", \" \")\n",
    "        answer = rcw.sub(\" \", answer).strip()\n",
    "        qa = [sos, q, normalize_to_ascii(question), a, normalize_to_ascii(answer), eos]\n",
    "        corpus_list.extend(qa)\n",
    "        \n",
    "    return \"\".join(corpus_list).lower()"
   ]
  },
  {
   "cell_type": "code",
   "execution_count": 17,
   "id": "c8759719",
   "metadata": {},
   "outputs": [
    {
     "data": {
      "application/vnd.jupyter.widget-view+json": {
       "model_id": "ab1b65d7685f4daa9272494d04d8eaae",
       "version_major": 2,
       "version_minor": 0
      },
      "text/plain": [
       "  0%|          | 0/61888 [00:00<?, ?it/s]"
      ]
     },
     "metadata": {},
     "output_type": "display_data"
    },
    {
     "data": {
      "application/vnd.jupyter.widget-view+json": {
       "model_id": "34a11a858d4d4bc996b63d8ee7a4010c",
       "version_major": 2,
       "version_minor": 0
      },
      "text/plain": [
       "  0%|          | 0/24000 [00:00<?, ?it/s]"
      ]
     },
     "metadata": {},
     "output_type": "display_data"
    }
   ],
   "source": [
    "fused = fused_qa(question_list, answer_list)\n",
    "corpus_encoded = tokenizer.encode(fused, verbose=True)\n",
    "\n",
    "pkl.dump(corpus_encoded, open('../corpus/corpus_clean/corpus_wiki_qa_24k', 'wb'))"
   ]
  },
  {
   "cell_type": "markdown",
   "id": "52a5f20b",
   "metadata": {},
   "source": [
    "## "
   ]
  }
 ],
 "metadata": {
  "kernelspec": {
   "display_name": "keras-gpu",
   "language": "python",
   "name": "python3"
  },
  "language_info": {
   "codemirror_mode": {
    "name": "ipython",
    "version": 3
   },
   "file_extension": ".py",
   "mimetype": "text/x-python",
   "name": "python",
   "nbconvert_exporter": "python",
   "pygments_lexer": "ipython3",
   "version": "3.10.16"
  }
 },
 "nbformat": 4,
 "nbformat_minor": 5
}
