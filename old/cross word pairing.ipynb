{
 "cells": [
  {
   "cell_type": "markdown",
   "id": "04010a08",
   "metadata": {},
   "source": [
    "## LLM"
   ]
  },
  {
   "cell_type": "code",
   "execution_count": 1,
   "id": "8fa3d166",
   "metadata": {},
   "outputs": [],
   "source": [
    "import matplotlib.pyplot as plt\n",
    "from IPython.display import clear_output"
   ]
  },
  {
   "cell_type": "code",
   "execution_count": 2,
   "id": "55a8a0ec",
   "metadata": {},
   "outputs": [
    {
     "name": "stdout",
     "output_type": "stream",
     "text": [
      "Num GPUs Available:  1\n"
     ]
    }
   ],
   "source": [
    "import os\n",
    "import time\n",
    "os.environ[\"CUDA_VISIBLE_DEVICES\"] = \"0\"\n",
    "import tensorflow as tf\n",
    "print(\"Num GPUs Available: \", len(tf.config.list_physical_devices('GPU')))"
   ]
  },
  {
   "cell_type": "code",
   "execution_count": 3,
   "id": "581905ec",
   "metadata": {},
   "outputs": [
    {
     "name": "stdout",
     "output_type": "stream",
     "text": [
      "Physical devices: [PhysicalDevice(name='/physical_device:CPU:0', device_type='CPU'), PhysicalDevice(name='/physical_device:GPU:0', device_type='GPU')]\n",
      "GPUs: [PhysicalDevice(name='/physical_device:GPU:0', device_type='GPU')]\n"
     ]
    }
   ],
   "source": [
    "import tensorflow as tf\n",
    "import numpy as np\n",
    "from tqdm.notebook import tqdm\n",
    "\n",
    "print(\"Physical devices:\", tf.config.list_physical_devices())\n",
    "print(\"GPUs:\", tf.config.list_physical_devices('GPU'))\n"
   ]
  },
  {
   "cell_type": "code",
   "execution_count": 4,
   "id": "9cde139d",
   "metadata": {},
   "outputs": [],
   "source": [
    "import os\n",
    "from src.tokenizer import TokenizerChar\n",
    "\n",
    "def read_first_n(directory_path, n):\n",
    "    # List all entries in the directory\n",
    "    filenames = os.listdir(directory_path)\n",
    "    # Filter to only .txt files\n",
    "    txt_files = [f for f in filenames if f.lower().endswith('.story')]\n",
    "    # Sort alphabetically (or by any other criteria you like)\n",
    "    #txt_files.sort()\n",
    "    # Take the first n\n",
    "    first_n = txt_files[:n]\n",
    "    \n",
    "    contents = []\n",
    "    for fname in first_n:\n",
    "        full_path = os.path.join(directory_path, fname)\n",
    "        with open(full_path, 'r', encoding='utf-8') as f:\n",
    "            contents.append(f.read())\n",
    "    return contents"
   ]
  },
  {
   "cell_type": "code",
   "execution_count": 26,
   "id": "0d4508a8",
   "metadata": {},
   "outputs": [],
   "source": [
    "contents = read_first_n('stories', 1000)"
   ]
  },
  {
   "cell_type": "code",
   "execution_count": null,
   "id": "f15a2360",
   "metadata": {},
   "outputs": [],
   "source": [
    "import unicodedata\n",
    "\n",
    "def normalize_to_ascii(s: str) -> str:\n",
    "    # 1) Decompose Unicode characters (e.g. é → e +  ́)\n",
    "    # 2) Drop the non-ASCII combining marks in the encode step\n",
    "    normalized = unicodedata.normalize('NFKD', s)\n",
    "    ascii_bytes = normalized.encode('ascii', 'ignore')\n",
    "    return ascii_bytes.decode('ascii')"
   ]
  },
  {
   "cell_type": "code",
   "execution_count": null,
   "id": "42a79662",
   "metadata": {},
   "outputs": [
    {
     "ename": "NameError",
     "evalue": "name 'b' is not defined",
     "output_type": "error",
     "traceback": [
      "\u001b[1;31m---------------------------------------------------------------------------\u001b[0m",
      "\u001b[1;31mNameError\u001b[0m                                 Traceback (most recent call last)",
      "Cell \u001b[1;32mIn[39], line 16\u001b[0m\n\u001b[0;32m     13\u001b[0m     text \u001b[38;5;241m=\u001b[39m [i \u001b[38;5;28;01mfor\u001b[39;00m i \u001b[38;5;129;01min\u001b[39;00m text]\n\u001b[0;32m     14\u001b[0m     text_list\u001b[38;5;241m.\u001b[39mappend(text)\n\u001b[1;32m---> 16\u001b[0m tokens \u001b[38;5;241m=\u001b[39m \u001b[38;5;28msorted\u001b[39m(\u001b[38;5;28mset\u001b[39m(a \u001b[38;5;28;01mfor\u001b[39;00m a \u001b[38;5;129;01min\u001b[39;00m \u001b[43mb\u001b[49m \u001b[38;5;28;01mfor\u001b[39;00m b \u001b[38;5;129;01min\u001b[39;00m text_list))\n\u001b[0;32m     17\u001b[0m \u001b[38;5;28mprint\u001b[39m(\u001b[38;5;124m\"\u001b[39m\u001b[38;5;124mNumber of unique tokens:\u001b[39m\u001b[38;5;124m\"\u001b[39m, \u001b[38;5;28mlen\u001b[39m(tokens))\n\u001b[0;32m     18\u001b[0m \u001b[38;5;28mprint\u001b[39m(\u001b[38;5;124m\"\u001b[39m\u001b[38;5;124mTokens:\u001b[39m\u001b[38;5;124m\"\u001b[39m, tokens)\n",
      "\u001b[1;31mNameError\u001b[0m: name 'b' is not defined"
     ]
    }
   ],
   "source": [
    "import unicodedata\n",
    "\n",
    "def normalize_to_ascii(s: str) -> str:\n",
    "    # 1) Decompose Unicode characters (e.g. é → e +  ́)\n",
    "    # 2) Drop the non-ASCII combining marks in the encode step\n",
    "    normalized = unicodedata.normalize('NFKD', s)\n",
    "    ascii_bytes = normalized.encode('ascii', 'ignore')\n",
    "    return ascii_bytes.decode('ascii')\n",
    "\n",
    "text_list = []\n",
    "for i in range(100):\n",
    "    text = normalize_to_ascii(contents[i])\n",
    "    text = [i for i in text]\n",
    "    text_list.append(text)\n",
    "\n",
    "text_flatten = [i for text in text_list for i in text]\n",
    "\n",
    "tokens = sorted(set(text_flatten))\n",
    "print(\"Number of unique tokens:\", len(tokens))\n",
    "print(\"Tokens:\", tokens)  # Print first 10 tokens for brevity"
   ]
  },
  {
   "cell_type": "code",
   "execution_count": 25,
   "id": "ab6d6aa7",
   "metadata": {},
   "outputs": [
    {
     "name": "stdout",
     "output_type": "stream",
     "text": [
      "('e', ' ') 115465\n",
      "74\n",
      "(' ', 't') 80087\n"
     ]
    },
    {
     "ename": "KeyboardInterrupt",
     "evalue": "",
     "output_type": "error",
     "traceback": [
      "\u001b[1;31m---------------------------------------------------------------------------\u001b[0m",
      "\u001b[1;31mKeyboardInterrupt\u001b[0m                         Traceback (most recent call last)",
      "Cell \u001b[1;32mIn[25], line 25\u001b[0m\n\u001b[0;32m     22\u001b[0m             text[i] \u001b[38;5;241m=\u001b[39m max_key[\u001b[38;5;241m0\u001b[39m] \u001b[38;5;241m+\u001b[39m max_key[\u001b[38;5;241m1\u001b[39m]\n\u001b[0;32m     23\u001b[0m             text\u001b[38;5;241m.\u001b[39mpop(i\u001b[38;5;241m+\u001b[39m\u001b[38;5;241m1\u001b[39m) \n\u001b[1;32m---> 25\u001b[0m text_concat \u001b[38;5;241m=\u001b[39m [i \u001b[38;5;28;01mfor\u001b[39;00m i \u001b[38;5;129;01min\u001b[39;00m text \u001b[38;5;28;01mfor\u001b[39;00m text \u001b[38;5;129;01min\u001b[39;00m text_list]\n\u001b[0;32m     26\u001b[0m \u001b[38;5;28mprint\u001b[39m(\u001b[38;5;28mlen\u001b[39m(\u001b[38;5;28mset\u001b[39m(text_concat)))\n",
      "Cell \u001b[1;32mIn[25], line 25\u001b[0m, in \u001b[0;36m<listcomp>\u001b[1;34m(.0)\u001b[0m\n\u001b[0;32m     22\u001b[0m             text[i] \u001b[38;5;241m=\u001b[39m max_key[\u001b[38;5;241m0\u001b[39m] \u001b[38;5;241m+\u001b[39m max_key[\u001b[38;5;241m1\u001b[39m]\n\u001b[0;32m     23\u001b[0m             text\u001b[38;5;241m.\u001b[39mpop(i\u001b[38;5;241m+\u001b[39m\u001b[38;5;241m1\u001b[39m) \n\u001b[1;32m---> 25\u001b[0m text_concat \u001b[38;5;241m=\u001b[39m [i \u001b[38;5;28;01mfor\u001b[39;00m i \u001b[38;5;129;01min\u001b[39;00m text \u001b[38;5;28;01mfor\u001b[39;00m text \u001b[38;5;129;01min\u001b[39;00m text_list]\n\u001b[0;32m     26\u001b[0m \u001b[38;5;28mprint\u001b[39m(\u001b[38;5;28mlen\u001b[39m(\u001b[38;5;28mset\u001b[39m(text_concat)))\n",
      "\u001b[1;31mKeyboardInterrupt\u001b[0m: "
     ]
    }
   ],
   "source": [
    "merge_list = []\n",
    "\n",
    "for _ in range(20):\n",
    "\n",
    "    pairs = {}\n",
    "    for text in text_list:\n",
    "        for i in range(len(text)-1):\n",
    "            pair = (text[i], text[i+1])\n",
    "            if pair in pairs:\n",
    "                pairs[pair] += 1\n",
    "            else:\n",
    "                pairs[pair] = 1\n",
    "\n",
    "    max_key = max(pairs, key=pairs.get)\n",
    "    merge_list.append(max_key)\n",
    "    print(max_key, pairs[max_key])\n",
    "\n",
    "    for text in text_list:\n",
    "        for i in range(len(text)-2, -1, -1):\n",
    "            pair = (text[i], text[i+1])\n",
    "            if pair == max_key:\n",
    "                text[i] = max_key[0] + max_key[1]\n",
    "                text.pop(i+1) \n",
    "\n",
    "    text_concat = [i for i in text for text in text_list]\n",
    "    print(len(set(text_concat)))"
   ]
  },
  {
   "cell_type": "markdown",
   "id": "52a5f20b",
   "metadata": {},
   "source": [
    "## "
   ]
  }
 ],
 "metadata": {
  "kernelspec": {
   "display_name": "keras-gpu",
   "language": "python",
   "name": "python3"
  },
  "language_info": {
   "codemirror_mode": {
    "name": "ipython",
    "version": 3
   },
   "file_extension": ".py",
   "mimetype": "text/x-python",
   "name": "python",
   "nbconvert_exporter": "python",
   "pygments_lexer": "ipython3",
   "version": "3.10.16"
  }
 },
 "nbformat": 4,
 "nbformat_minor": 5
}
