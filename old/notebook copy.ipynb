{
 "cells": [
  {
   "cell_type": "markdown",
   "id": "04010a08",
   "metadata": {},
   "source": [
    "## LLM"
   ]
  },
  {
   "cell_type": "code",
   "execution_count": 1,
   "id": "8fa3d166",
   "metadata": {},
   "outputs": [],
   "source": [
    "import matplotlib.pyplot as plt\n",
    "from IPython.display import clear_output"
   ]
  },
  {
   "cell_type": "code",
   "execution_count": 2,
   "id": "55a8a0ec",
   "metadata": {},
   "outputs": [
    {
     "name": "stdout",
     "output_type": "stream",
     "text": [
      "Num GPUs Available:  1\n"
     ]
    }
   ],
   "source": [
    "import os\n",
    "import time\n",
    "os.environ[\"CUDA_VISIBLE_DEVICES\"] = \"0\"\n",
    "import tensorflow as tf\n",
    "print(\"Num GPUs Available: \", len(tf.config.list_physical_devices('GPU')))"
   ]
  },
  {
   "cell_type": "code",
   "execution_count": 3,
   "id": "581905ec",
   "metadata": {},
   "outputs": [
    {
     "name": "stdout",
     "output_type": "stream",
     "text": [
      "Physical devices: [PhysicalDevice(name='/physical_device:CPU:0', device_type='CPU'), PhysicalDevice(name='/physical_device:GPU:0', device_type='GPU')]\n",
      "GPUs: [PhysicalDevice(name='/physical_device:GPU:0', device_type='GPU')]\n"
     ]
    }
   ],
   "source": [
    "import tensorflow as tf\n",
    "import numpy as np\n",
    "from tqdm.notebook import tqdm\n",
    "\n",
    "print(\"Physical devices:\", tf.config.list_physical_devices())\n",
    "print(\"GPUs:\", tf.config.list_physical_devices('GPU'))\n"
   ]
  },
  {
   "cell_type": "code",
   "execution_count": 4,
   "id": "966c4506",
   "metadata": {},
   "outputs": [],
   "source": [
    "from datasets import load_dataset\n",
    "\n",
    "ds = load_dataset(\"roneneldan/TinyStories\")"
   ]
  },
  {
   "cell_type": "code",
   "execution_count": 243,
   "id": "2a3db34f",
   "metadata": {},
   "outputs": [],
   "source": [
    "class TokenizerChar:\n",
    "    def __init__(self, text):\n",
    "        self.vocab = sorted(list(set(text)))\n",
    "        self.vocab_size = len(self.vocab)\n",
    "        char_to_idx = {ch: i for i, ch in enumerate(self.vocab)}\n",
    "\n",
    "        vocab = list(char_to_idx.keys())\n",
    "        indicies = list(char_to_idx.values())\n",
    "\n",
    "        default_value = -1\n",
    "\n",
    "        self.table_tokenize = tf.lookup.StaticHashTable(initializer=tf.lookup.KeyValueTensorInitializer(vocab, indicies), \n",
    "                                                        default_value=default_value)\n",
    "        self.table_detokenize = tf.lookup.StaticHashTable(initializer=tf.lookup.KeyValueTensorInitializer(indicies, vocab), \n",
    "                                                          default_value=\"\")\n",
    "\n",
    "    \n",
    "    def tokenize(self, text):\n",
    "        text = tf.strings.unicode_split(text, input_encoding=\"UTF-8\")\n",
    "        indices = self.table_tokenize.lookup(text)\n",
    "        return indices\n",
    "    \n",
    "    def detokenize(self, indices):\n",
    "        text = self.table_detokenize.lookup(indices)\n",
    "        text = tf.strings.reduce_join(text, axis=-1, separator=\"\")\n",
    "        return text\n",
    "    \n",
    "\n",
    "class DenseLayer():\n",
    "    def __init__(self, input_dim, output_dim):\n",
    "        d = tf.sqrt(tf.cast(input_dim, tf.float32))\n",
    "        self.W = tf.Variable(tf.random.uniform([input_dim, output_dim], -1/d, 1/d))\n",
    "        self.b = tf.Variable(tf.zeros([output_dim]))\n",
    "\n",
    "        self.parameter_list = [self.W, self.b]\n",
    "\n",
    "    def __call__(self, x):\n",
    "        return tf.linalg.matmul(x, self.W) + self.b\n",
    "\n",
    "    \n",
    "class Transformer:\n",
    "    def __init__(self, \n",
    "                 vocab_size, \n",
    "                 max_seq_len,\n",
    "                 heads,\n",
    "                 embed_dim,\n",
    "                 key_dim,\n",
    "                 ffnn_dims,\n",
    "                 unembed_dims): \n",
    "        self.vocab_size = vocab_size\n",
    "        self.embed_dim = embed_dim\n",
    "        self.heads = heads\n",
    "        self.max_seq_len = max_seq_len\n",
    "        self.key_dim = key_dim\n",
    "        self.ffnn_dims = ffnn_dims\n",
    "        self.unembed_dims = unembed_dims\n",
    "\n",
    "        self.head_dim = embed_dim // heads\n",
    "\n",
    "        d = tf.sqrt(tf.cast(self.embed_dim, tf.float32))\n",
    "\n",
    "        self.word_embed = tf.Variable(tf.random.uniform([vocab_size, embed_dim], -1/d, 1/d))\n",
    "        self.pos_embed = tf.Variable(tf.random.uniform([max_seq_len, embed_dim], -1/d, 1/d))\n",
    "\n",
    "        self.WK =  tf.Variable(tf.random.uniform([heads, key_dim, embed_dim], -1/d, 1/d))\n",
    "        self.WQ =  tf.Variable(tf.random.uniform([heads, key_dim, embed_dim], -1/d, 1/d))\n",
    "        self.WV =  tf.Variable(tf.random.uniform([heads, self.head_dim, embed_dim], -1/d, 1/d))\n",
    "\n",
    "\n",
    "        self.ffnn_dims.insert(0, embed_dim)\n",
    "        self.ffnn_dims.append(embed_dim)\n",
    "        self.ffnn_layers = []\n",
    "        for i in range(len(ffnn_dims)-1):\n",
    "             self.ffnn_layers.append(DenseLayer(ffnn_dims[i], ffnn_dims[i+1]))\n",
    "\n",
    "        self.unembed_dims.insert(0, embed_dim)\n",
    "        self.unembed_dims.append(vocab_size)   \n",
    "        self.unembed_layers = []\n",
    "        for i in range(len(unembed_dims)-1):\n",
    "            self.unembed_layers.append(DenseLayer(unembed_dims[i], unembed_dims[i+1]))\n",
    "        \n",
    "        self.parameter_list = [self.word_embed, self.pos_embed, \n",
    "                               self.WK, self.WQ, self.WV]\n",
    "        for layer in self.ffnn_layers:\n",
    "            self.parameter_list += layer.parameter_list\n",
    "        for layer in self.unembed_layers:\n",
    "            self.parameter_list += layer.parameter_list\n",
    "        \n",
    "        self.optimizer = tf.compat.v1.train.AdamOptimizer(learning_rate=0.001)\n",
    "\n",
    "    def pred(self, x):\n",
    "\n",
    "        x_embeds = self.embed(x)\n",
    "        x_embeds = self.attention(x_embeds)\n",
    "        x_embeds = self.ffnn(x_embeds)\n",
    "        y_pred = self.unembed(x_embeds)\n",
    "\n",
    "        return y_pred\n",
    "    \n",
    "    \n",
    "    def embed(self, x):\n",
    "        length = tf.shape(x)[0]\n",
    "        if length > self.max_seq_len:\n",
    "            x = x[-self.max_seq_len:]\n",
    "            length = self.max_seq_len\n",
    "        x_embeds = tf.nn.embedding_lookup(self.word_embed, x)\n",
    "        x_embeds = x_embeds + self.pos_embed[:length, :]\n",
    "\n",
    "        return x_embeds\n",
    "    \n",
    "\n",
    "    def attention(self, x_embeds):\n",
    "        length = tf.shape(x_embeds)[0]\n",
    "\n",
    "        x_k = tf.einsum('ikl, jl -> ijk', self.WK, x_embeds)\n",
    "        x_q = tf.einsum('ikl, jl -> ijk', self.WQ, x_embeds)\n",
    "        x_v = tf.einsum('ikl, jl -> ijk', self.WV, x_embeds)\n",
    "\n",
    "        inner = tf.einsum('ijl,ikl -> ijk', x_k, x_q)\n",
    "        mask = tf.linalg.band_part(tf.ones((1, length, length), dtype = tf.bool), -1, 0)\n",
    "        mask = tf.repeat(mask, self.heads, axis=0)\n",
    "\n",
    "        inner_masked = tf.where(mask, inner, tf.constant(-np.inf))\n",
    "\n",
    "        dk = tf.sqrt(tf.cast(self.key_dim, tf.float32))\n",
    "        WA = tf.nn.softmax(inner_masked/dk, axis=-1)\n",
    "\n",
    "\n",
    "        head_outs = WA @ x_v\n",
    "        concat   = tf.transpose(head_outs, [1,0,2])  # [seq, heads, head_dim]\n",
    "        out   = tf.reshape(concat, [length, self.embed_dim])\n",
    "     \n",
    "        x_embeds = x_embeds + out\n",
    "\n",
    "        return x_embeds\n",
    "    \n",
    "\n",
    "    def ffnn(self, x_embeds):\n",
    "        x_up = x_embeds\n",
    "        for layer in self.ffnn_layers[:-1]:\n",
    "            x_up = layer(x_up)\n",
    "            x_up = tf.nn.relu(x_up)\n",
    "        x_down = self.ffnn_layers[-1](x_up)\n",
    "\n",
    "        x_embeds = x_embeds + x_down\n",
    "        return x_embeds\n",
    "        \n",
    "    \n",
    "    def unembed(self, x_embeds):\n",
    "        for layer in self.unembed_layers[:-1]:\n",
    "            x_embeds = layer(x_embeds)\n",
    "            x_embeds = tf.nn.relu(x_embeds)\n",
    "        \n",
    "        x_embeds = self.unembed_layers[-1](x_embeds)\n",
    "        y_pred = tf.nn.softmax(x_embeds, axis=-1)\n",
    "        return y_pred\n",
    "\n",
    "    \n",
    "    @tf.function\n",
    "    def train_step(self, indices_list, y_true_list, update=True):\n",
    "        \n",
    "        if update:\n",
    "            with tf.GradientTape() as tape:\n",
    "                loss_total = 0\n",
    "                for indices, y_true in zip(indices_list, y_true_list):\n",
    "                    y_true = y_true[1:]\n",
    "                    y_pred = self.pred(indices)[:-1]\n",
    "                    loss = CrossEntropyLoss(y_true, y_pred)\n",
    "                    loss_total += loss\n",
    "                loss = loss_total / len(indices_list)\n",
    "\n",
    "            grads = tape.gradient(loss, self.parameter_list)\n",
    "            self.optimizer.apply_gradients(zip(grads, self.parameter_list))\n",
    "            return loss\n",
    "        else:\n",
    "            loss_total = 0\n",
    "            for indices, y_true in zip(indices_list, y_true_list):\n",
    "                y_true = y_true[1:]\n",
    "                y_pred = self.pred(indices)[:-1]\n",
    "                loss = CrossEntropyLoss(y_true, y_pred)\n",
    "                loss_total += loss\n",
    "            loss = loss_total / len(indices_list)\n",
    "            return loss\n",
    "\n",
    "    \n",
    "def CrossEntropyLoss(y_true, y_pred):\n",
    "    loss = -tf.reduce_mean(y_true * tf.math.log(y_pred + 1e-10))\n",
    "    return loss\n"
   ]
  },
  {
   "cell_type": "code",
   "execution_count": 251,
   "id": "06b11ac8",
   "metadata": {},
   "outputs": [
    {
     "name": "stdout",
     "output_type": "stream",
     "text": [
      "75\n",
      "['\\n', ' ', '!', '\"', '$', \"'\", ',', '-', '.', '0', '1', '2', '3', '8', ':', ';', '?', 'A', 'B', 'C', 'D', 'E', 'F', 'G', 'H', 'I', 'J', 'K', 'L', 'M', 'N', 'O', 'P', 'Q', 'R', 'S', 'T', 'U', 'V', 'W', 'X', 'Y', 'Z', 'a', 'b', 'c', 'd', 'e', 'f', 'g', 'h', 'i', 'j', 'k', 'l', 'm', 'n', 'o', 'p', 'q', 'r', 's', 't', 'u', 'v', 'w', 'x', 'y', 'z', 'â', 'œ', '“', '”', '€', '™']\n"
     ]
    }
   ],
   "source": [
    "text = \"\"\n",
    "\n",
    "for i in range(1000):\n",
    "    text += ds[\"train\"][i][\"text\"]\n",
    "\n",
    "tokenizer = TokenizerChar(text)\n",
    "print(tokenizer.vocab_size)\n",
    "print(tokenizer.vocab)"
   ]
  },
  {
   "cell_type": "markdown",
   "id": "f830d881",
   "metadata": {},
   "source": [
    "## Define Model"
   ]
  },
  {
   "cell_type": "code",
   "execution_count": 253,
   "id": "0a5a33ab",
   "metadata": {},
   "outputs": [],
   "source": [
    "np.random.seed(42)\n",
    "tf.random.set_seed(42)\n",
    "\n",
    "embed_dim = 1500\n",
    "heads = 4\n",
    "max_seq_len = 150\n",
    "\n",
    "key_dim = 64\n",
    "\n",
    "ffnn_dims = [3000, 2000]\n",
    "unembed_dims = [500]\n",
    "\n",
    "transformer = Transformer(vocab_size=tokenizer.vocab_size,\n",
    "                          max_seq_len=max_seq_len,\n",
    "                          embed_dim=embed_dim,\n",
    "                          heads=heads,\n",
    "                          key_dim=key_dim,\n",
    "                          ffnn_dims=ffnn_dims,\n",
    "                          unembed_dims=unembed_dims)\n",
    "\n",
    "losses_train = []\n",
    "losses_test = []\n"
   ]
  },
  {
   "cell_type": "code",
   "execution_count": 254,
   "id": "55e05f82",
   "metadata": {},
   "outputs": [
    {
     "data": {
      "text/plain": [
       "<tf.Tensor: shape=(80, 75), dtype=float32, numpy=\n",
       "array([[0.01349917, 0.01334976, 0.01343588, ..., 0.01335506, 0.01354789,\n",
       "        0.01322998],\n",
       "       [0.01336743, 0.01334427, 0.01339518, ..., 0.01328779, 0.01351445,\n",
       "        0.01319504],\n",
       "       [0.01348369, 0.01342247, 0.01342192, ..., 0.01343749, 0.01331194,\n",
       "        0.013384  ],\n",
       "       ...,\n",
       "       [0.01340654, 0.01329166, 0.01332777, ..., 0.01333314, 0.01347785,\n",
       "        0.01327398],\n",
       "       [0.01348492, 0.01332771, 0.01341241, ..., 0.01335249, 0.01340509,\n",
       "        0.01329198],\n",
       "       [0.01333616, 0.01341336, 0.01333982, ..., 0.01336429, 0.01348256,\n",
       "        0.01331042]], dtype=float32)>"
      ]
     },
     "execution_count": 254,
     "metadata": {},
     "output_type": "execute_result"
    }
   ],
   "source": [
    "text = \"ezs livurn hzlsen uvrhlzs keu rhvzls kevurhnlez skuvh rnzsl ekuh rvn zls ezs lezs livurn hzlsen uvrhlzs keu rhvzls kevurhnlez skuvh rnzsl ekuh rvn zls ezs livurn hzlsen uvrhlzs keu rhvzls kevurhnlez skuvh rnzsl ekuh rvn zlseu rhvzls kevurhnlez skuvh rnzsl ekuh rvn zlseu rhvzls kevurhnlez skuvh rnzsl ekuh rvn zls\"\n",
    "text = text[:80]\n",
    "indices = tokenizer.tokenize(text)\n",
    "transformer.pred(indices)"
   ]
  },
  {
   "cell_type": "code",
   "execution_count": 272,
   "id": "93977cd2",
   "metadata": {},
   "outputs": [
    {
     "data": {
      "image/png": "[encoded data removed]",
      "text/plain": [
       "<Figure size 640x480 with 1 Axes>"
      ]
     },
     "metadata": {},
     "output_type": "display_data"
    }
   ],
   "source": [
    "batch_size = 8\n",
    "\n",
    "for i in tqdm(range(1000)):\n",
    "    indices_train_list = []\n",
    "    y_true_train_list = []\n",
    "    indices_test_list = []\n",
    "    y_true_test_list = []\n",
    "    for b in range(batch_size):\n",
    "        idx = np.random.randint(0, 900)\n",
    "        text = ds[\"train\"][idx][\"text\"]\n",
    "        length = len(text)\n",
    "        start = np.random.randint(0, length - max_seq_len)\n",
    "        chunk = text[start:start + max_seq_len]\n",
    "        indices = tokenizer.tokenize(chunk)\n",
    "\n",
    "        y_true = tf.one_hot(indices, depth=tokenizer.vocab_size)\n",
    "        y_true = tf.cast(y_true, tf.float32)\n",
    "\n",
    "        indices_train_list.append(indices)\n",
    "        y_true_train_list.append(y_true)\n",
    "\n",
    "        idx = np.random.randint(900, 1000)\n",
    "        text = ds[\"train\"][idx][\"text\"]\n",
    "        length = len(text)\n",
    "        start = np.random.randint(0, length - max_seq_len)\n",
    "        chunk = text[start:start + max_seq_len]\n",
    "        indices = tokenizer.tokenize(chunk)\n",
    "\n",
    "        y_true = tf.one_hot(indices, depth=tokenizer.vocab_size)\n",
    "        y_true = tf.cast(y_true, tf.float32)\n",
    "\n",
    "        indices_test_list.append(indices)\n",
    "        y_true_test_list.append(y_true)\n",
    "    \n",
    "    \n",
    "    loss_train = transformer.train_step(indices_train_list, y_true_train_list)\n",
    "    loss_test = transformer.train_step(indices_test_list, y_true_test_list, update = False)\n",
    "    \n",
    "    losses_train.append(loss_train)\n",
    "    losses_test.append(loss_test)\n",
    "\n",
    "    clear_output(wait=True)\n",
    "    x = np.arange(max(0, len(losses_train)-400), len(losses_train))\n",
    "    plt.plot(x, losses_train[-400:], label=\"Train Loss\")\n",
    "    plt.plot(x, losses_test[-400:], label=\"Test Loss\")\n",
    "\n",
    "    plt.ylim(0.9*np.min(losses_train[-400:] + losses_test[-400:]), 1.1*np.max(losses_train[-400:] + losses_test[-400:]))\n",
    "    plt.title(\"Training Loss\")\n",
    "    plt.xlabel(\"Step\")\n",
    "    plt.ylabel(\"Loss\")\n",
    "    plt.legend()\n",
    "    plt.show()\n",
    "    "
   ]
  },
  {
   "cell_type": "code",
   "execution_count": 273,
   "id": "17f017b1",
   "metadata": {},
   "outputs": [
    {
     "name": "stdout",
     "output_type": "stream",
     "text": [
      "One day, a little girl named Lily found a needle in her room. She knew it was difficult to play with it because it was sharp. Lily wanted to share the needle with her mom, so she could sew a button on her shirt.\n",
      "\n",
      "Lily went to her mom and said, \"Mom, I found this needle. Can you share it with me and sew my shirt?\" Her mom smiled and said, \"Yes, Lily, we can share the needle and fix your shirt.\"\n",
      "\n",
      "Together, they shared the needle and sewed the button on Lily's shirt. It was not difficult for them because they were sharing and helping each other. After they finished, Lily thanked her mom for sharing the needle and fixing her shirt. They both felt happy because they had shared and worked together.\n"
     ]
    }
   ],
   "source": [
    "idx = np.random.randint(0, 1)\n",
    "text = ds[\"train\"][idx][\"text\"]\n",
    "\n",
    "print(text)"
   ]
  },
  {
   "cell_type": "code",
   "execution_count": 274,
   "id": "e216ce01",
   "metadata": {},
   "outputs": [
    {
     "name": "stdout",
     "output_type": "stream",
     "text": [
      "[31 56 47  1 46 43 67  6  1]\n"
     ]
    }
   ],
   "source": [
    "text = 'One day, '\n",
    "indices = tokenizer.tokenize(text)\n",
    "print(indices.numpy())"
   ]
  },
  {
   "cell_type": "code",
   "execution_count": 275,
   "id": "74a017b3",
   "metadata": {},
   "outputs": [
    {
     "name": "stdout",
     "output_type": "stream",
     "text": [
      "One day, Timmy went to the store and started to started to stay awake and shouted and show the beep. The witch a big boy was so happy. Th\r"
     ]
    }
   ],
   "source": [
    "for i in range(128):\n",
    "    y_pred = transformer.pred(indices)\n",
    "    argmax = tf.cast(tf.argmax(y_pred[-1], axis=-1), dtype=tf.int32)\n",
    "    indices = tf.concat([indices, [argmax]], axis=0)\n",
    "    #print(indices)\n",
    "    text_pred = tokenizer.detokenize(indices)\n",
    "    print(text_pred.numpy().decode(\"utf-8\"), end='\\r', flush=True)\n",
    "    time.sleep(0.05)\n"
   ]
  },
  {
   "cell_type": "code",
   "execution_count": 199,
   "id": "60ac7e99",
   "metadata": {},
   "outputs": [
    {
     "name": "stdout",
     "output_type": "stream",
     "text": [
      "['\\n', ' ', '!', '\"', '$', \"'\", ',', '-', '.', '0', '1', '3', '8', ':', ';', '?', 'A', 'B', 'C', 'D', 'E', 'F', 'G', 'H', 'I', 'J', 'K', 'L', 'M', 'N', 'O', 'P', 'Q', 'R', 'S', 'T', 'U', 'V', 'W', 'Y', 'Z', 'a', 'b', 'c', 'd', 'e', 'f', 'g', 'h', 'i', 'j', 'k', 'l', 'm', 'n', 'o', 'p', 'q', 'r', 's', 't', 'u', 'v', 'w', 'x', 'y', 'z', 'â', 'œ', '“', '”', '€', '™']\n",
      "73\n"
     ]
    }
   ],
   "source": [
    "print(tokenizer.vocab)\n",
    "print(len(tokenizer.vocab))"
   ]
  },
  {
   "cell_type": "markdown",
   "id": "52a5f20b",
   "metadata": {},
   "source": [
    "## "
   ]
  }
 ],
 "metadata": {
  "kernelspec": {
   "display_name": "tf-gpu",
   "language": "python",
   "name": "python3"
  },
  "language_info": {
   "codemirror_mode": {
    "name": "ipython",
    "version": 3
   },
   "file_extension": ".py",
   "mimetype": "text/x-python",
   "name": "python",
   "nbconvert_exporter": "python",
   "pygments_lexer": "ipython3",
   "version": "3.9.18"
  }
 },
 "nbformat": 4,
 "nbformat_minor": 5
}
