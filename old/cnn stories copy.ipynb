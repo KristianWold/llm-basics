{
 "cells": [
  {
   "cell_type": "markdown",
   "id": "04010a08",
   "metadata": {},
   "source": [
    "## LLM"
   ]
  },
  {
   "cell_type": "code",
   "execution_count": 1,
   "id": "8fa3d166",
   "metadata": {},
   "outputs": [],
   "source": [
    "import matplotlib.pyplot as plt\n",
    "from IPython.display import clear_output"
   ]
  },
  {
   "cell_type": "code",
   "execution_count": 2,
   "id": "55a8a0ec",
   "metadata": {},
   "outputs": [
    {
     "name": "stdout",
     "output_type": "stream",
     "text": [
      "Num GPUs Available:  1\n"
     ]
    }
   ],
   "source": [
    "import os\n",
    "import time\n",
    "os.environ[\"CUDA_VISIBLE_DEVICES\"] = \"0\"\n",
    "import tensorflow as tf\n",
    "print(\"Num GPUs Available: \", len(tf.config.list_physical_devices('GPU')))"
   ]
  },
  {
   "cell_type": "code",
   "execution_count": 3,
   "id": "581905ec",
   "metadata": {},
   "outputs": [
    {
     "name": "stdout",
     "output_type": "stream",
     "text": [
      "Physical devices: [PhysicalDevice(name='/physical_device:CPU:0', device_type='CPU'), PhysicalDevice(name='/physical_device:GPU:0', device_type='GPU')]\n",
      "GPUs: [PhysicalDevice(name='/physical_device:GPU:0', device_type='GPU')]\n"
     ]
    }
   ],
   "source": [
    "import tensorflow as tf\n",
    "import numpy as np\n",
    "from tqdm.notebook import tqdm\n",
    "\n",
    "print(\"Physical devices:\", tf.config.list_physical_devices())\n",
    "print(\"GPUs:\", tf.config.list_physical_devices('GPU'))\n"
   ]
  },
  {
   "cell_type": "code",
   "execution_count": 7,
   "id": "2a3db34f",
   "metadata": {},
   "outputs": [],
   "source": [
    "class TokenizerChar:\n",
    "    def __init__(self, text):\n",
    "        self.vocab = sorted(list(set(text)))\n",
    "        self.vocab_size = len(self.vocab)\n",
    "        char_to_idx = {ch: i for i, ch in enumerate(self.vocab)}\n",
    "\n",
    "        vocab = list(char_to_idx.keys())\n",
    "        indicies = list(char_to_idx.values())\n",
    "\n",
    "        default_value = -1\n",
    "\n",
    "        self.table_tokenize = tf.lookup.StaticHashTable(initializer=tf.lookup.KeyValueTensorInitializer(vocab, indicies), \n",
    "                                                        default_value=default_value)\n",
    "        self.table_detokenize = tf.lookup.StaticHashTable(initializer=tf.lookup.KeyValueTensorInitializer(indicies, vocab), \n",
    "                                                          default_value=\"\")\n",
    "\n",
    "    \n",
    "    def tokenize(self, text):\n",
    "        text = tf.strings.unicode_split(text, input_encoding=\"UTF-8\")\n",
    "        indices = self.table_tokenize.lookup(text)\n",
    "        return indices\n",
    "    \n",
    "    def detokenize(self, indices):\n",
    "        text = self.table_detokenize.lookup(indices)\n",
    "        text = tf.strings.reduce_join(text, axis=-1, separator=\"\")\n",
    "        return text\n",
    "    \n",
    "\n",
    "class DenseLayer():\n",
    "    def __init__(self, input_dim, output_dim):\n",
    "        d = tf.sqrt(tf.cast(input_dim, tf.float32))\n",
    "        self.W = tf.Variable(tf.random.uniform([input_dim, output_dim], -1/d, 1/d))\n",
    "        self.b = tf.Variable(tf.zeros([output_dim]))\n",
    "\n",
    "        self.parameter_list = [self.W, self.b]\n",
    "\n",
    "    def __call__(self, x):\n",
    "        return tf.linalg.matmul(x, self.W) + self.b\n",
    "\n",
    "    \n",
    "class Transformer:\n",
    "    def __init__(self, \n",
    "                 vocab_size, \n",
    "                 max_seq_len,\n",
    "                 heads,\n",
    "                 embed_dim,\n",
    "                 key_dim,\n",
    "                 ffnn_dims,\n",
    "                 unembed_dims): \n",
    "        self.vocab_size = vocab_size\n",
    "        self.embed_dim = embed_dim\n",
    "        self.heads = heads\n",
    "        self.max_seq_len = max_seq_len\n",
    "        self.key_dim = key_dim\n",
    "        self.ffnn_dims = ffnn_dims\n",
    "        self.unembed_dims = unembed_dims\n",
    "\n",
    "        self.head_dim = embed_dim // heads\n",
    "\n",
    "        d = tf.sqrt(tf.cast(self.embed_dim, tf.float32))\n",
    "\n",
    "        self.word_embed = tf.Variable(tf.random.uniform([vocab_size, embed_dim], -1/d, 1/d))\n",
    "        self.pos_embed = tf.Variable(tf.random.uniform([max_seq_len, embed_dim], -1/d, 1/d))\n",
    "\n",
    "        self.WK =  tf.Variable(tf.random.uniform([heads, key_dim, embed_dim], -1/d, 1/d))\n",
    "        self.WQ =  tf.Variable(tf.random.uniform([heads, key_dim, embed_dim], -1/d, 1/d))\n",
    "        self.WV =  tf.Variable(tf.random.uniform([heads, self.head_dim, embed_dim], -1/d, 1/d))\n",
    "\n",
    "\n",
    "        self.ffnn_dims.insert(0, embed_dim)\n",
    "        self.ffnn_dims.append(embed_dim)\n",
    "        self.ffnn_layers = []\n",
    "        for i in range(len(ffnn_dims)-1):\n",
    "             self.ffnn_layers.append(DenseLayer(ffnn_dims[i], ffnn_dims[i+1]))\n",
    "\n",
    "        self.unembed_dims.insert(0, embed_dim)\n",
    "        self.unembed_dims.append(vocab_size)   \n",
    "        self.unembed_layers = []\n",
    "        for i in range(len(unembed_dims)-1):\n",
    "            self.unembed_layers.append(DenseLayer(unembed_dims[i], unembed_dims[i+1]))\n",
    "        \n",
    "        self.ln1 = tf.keras.layers.LayerNormalization(axis=-1,\n",
    "                                              epsilon=1e-5,\n",
    "                                              center=True,  # makes β\n",
    "                                              scale=True)   # makes γ\n",
    "        self.ln2 = tf.keras.layers.LayerNormalization(axis=-1,\n",
    "                                              epsilon=1e-5,\n",
    "                                              center=True,  # makes β\n",
    "                                              scale=True)   # makes γ\n",
    "\n",
    "\n",
    "\n",
    "        self.parameter_list = [self.word_embed, self.pos_embed, \n",
    "                               self.WK, self.WQ, self.WV]\n",
    "        for layer in self.ffnn_layers:\n",
    "            self.parameter_list += layer.parameter_list\n",
    "        for layer in self.unembed_layers:\n",
    "            self.parameter_list += layer.parameter_list\n",
    "\n",
    "        self.parameter_list += self.ln1.trainable_variables\n",
    "        self.parameter_list += self.ln2.trainable_variables\n",
    "        \n",
    "        self.optimizer = tf.keras.optimizers.Adam(learning_rate=1e-3)\n",
    "\n",
    "    def pred(self, x):\n",
    "\n",
    "        x_embeds = self.embed(x)\n",
    "        x_embeds = self.attention(x_embeds)\n",
    "        x_embeds = self.ffnn(x_embeds)\n",
    "        y_pred = self.unembed(x_embeds)\n",
    "\n",
    "        return y_pred\n",
    "    \n",
    "    \n",
    "    def embed(self, x):\n",
    "        length = tf.shape(x)[0]\n",
    "        if length > self.max_seq_len:\n",
    "            x = x[-self.max_seq_len:]\n",
    "            length = self.max_seq_len\n",
    "        x_embeds = tf.nn.embedding_lookup(self.word_embed, x)\n",
    "        x_embeds = x_embeds + self.pos_embed[:length, :]\n",
    "\n",
    "        return x_embeds\n",
    "    \n",
    "\n",
    "    def attention(self, x_embeds):\n",
    "        length = tf.shape(x_embeds)[0]\n",
    "\n",
    "        x_k = tf.einsum('ikl, jl -> ijk', self.WK, x_embeds)\n",
    "        x_q = tf.einsum('ikl, jl -> ijk', self.WQ, x_embeds)\n",
    "        x_v = tf.einsum('ikl, jl -> ijk', self.WV, x_embeds)\n",
    "\n",
    "        inner = tf.einsum('ijl,ikl -> ijk', x_k, x_q)\n",
    "        mask = tf.linalg.band_part(tf.ones((1, length, length), dtype = tf.bool), -1, 0)\n",
    "        mask = tf.repeat(mask, self.heads, axis=0)\n",
    "\n",
    "        inner_masked = tf.where(mask, inner, tf.constant(-np.inf))\n",
    "\n",
    "        dk = tf.sqrt(tf.cast(self.key_dim, tf.float32))\n",
    "        WA = tf.nn.softmax(inner_masked/dk, axis=-1)\n",
    "\n",
    "\n",
    "        head_outs = WA @ x_v\n",
    "        concat   = tf.transpose(head_outs, [1,0,2])  # [seq, heads, head_dim]\n",
    "        out   = tf.reshape(concat, [length, self.embed_dim])\n",
    "     \n",
    "        x_embeds = x_embeds + out\n",
    "        x_embeds = self.ln1(x_embeds)\n",
    "\n",
    "        return x_embeds\n",
    "    \n",
    "\n",
    "    def ffnn(self, x_embeds):\n",
    "        x_up = x_embeds\n",
    "        for layer in self.ffnn_layers[:-1]:\n",
    "            x_up = layer(x_up)\n",
    "            x_up = tf.nn.relu(x_up)\n",
    "        x_down = self.ffnn_layers[-1](x_up)\n",
    "\n",
    "        x_embeds = x_embeds + x_down\n",
    "        x_embeds = self.ln2(x_embeds)\n",
    "        return x_embeds\n",
    "        \n",
    "    \n",
    "    def unembed(self, x_embeds):\n",
    "        for layer in self.unembed_layers[:-1]:\n",
    "            x_embeds = layer(x_embeds)\n",
    "            x_embeds = tf.nn.relu(x_embeds)\n",
    "        \n",
    "        x_embeds = self.unembed_layers[-1](x_embeds)\n",
    "        y_pred = tf.nn.softmax(x_embeds, axis=-1)\n",
    "        return y_pred\n",
    "\n",
    "    \n",
    "    @tf.function\n",
    "    def train_step(self, indices_list, y_true_list, update=True):\n",
    "        \n",
    "        if update:\n",
    "            with tf.GradientTape() as tape:\n",
    "                loss_total = 0\n",
    "                for indices, y_true in zip(indices_list, y_true_list):\n",
    "                    y_true = y_true[1:]\n",
    "                    y_pred = self.pred(indices)[:-1]\n",
    "                    loss = CrossEntropyLoss(y_true, y_pred)\n",
    "                    loss_total += loss\n",
    "                loss = loss_total / len(indices_list)\n",
    "\n",
    "            grads = tape.gradient(loss, self.parameter_list)\n",
    "            self.optimizer.apply_gradients(zip(grads, self.parameter_list))\n",
    "            return loss\n",
    "        else:\n",
    "            loss_total = 0\n",
    "            for indices, y_true in zip(indices_list, y_true_list):\n",
    "                y_true = y_true[1:]\n",
    "                y_pred = self.pred(indices)[:-1]\n",
    "                loss = CrossEntropyLoss(y_true, y_pred)\n",
    "                loss_total += loss\n",
    "            loss = loss_total / len(indices_list)\n",
    "            return loss\n",
    "\n",
    "    \n",
    "def CrossEntropyLoss(y_true, y_pred):\n",
    "    loss = -tf.reduce_mean(y_true * tf.math.log(y_pred + 1e-10))\n",
    "    return loss\n"
   ]
  },
  {
   "cell_type": "code",
   "execution_count": 8,
   "id": "9cde139d",
   "metadata": {},
   "outputs": [],
   "source": [
    "import os\n",
    "\n",
    "def read_first_n(directory_path, n):\n",
    "    # List all entries in the directory\n",
    "    filenames = os.listdir(directory_path)\n",
    "    # Filter to only .txt files\n",
    "    txt_files = [f for f in filenames if f.lower().endswith('.story')]\n",
    "    # Sort alphabetically (or by any other criteria you like)\n",
    "    #txt_files.sort()\n",
    "    # Take the first n\n",
    "    first_n = txt_files[:n]\n",
    "    \n",
    "    contents = []\n",
    "    for fname in first_n:\n",
    "        full_path = os.path.join(directory_path, fname)\n",
    "        with open(full_path, 'r', encoding='utf-8') as f:\n",
    "            contents.append(f.read())\n",
    "    return contents"
   ]
  },
  {
   "cell_type": "code",
   "execution_count": 9,
   "id": "0d4508a8",
   "metadata": {},
   "outputs": [],
   "source": [
    "contents = read_first_n('stories', 1000)"
   ]
  },
  {
   "cell_type": "code",
   "execution_count": 10,
   "id": "06b11ac8",
   "metadata": {},
   "outputs": [
    {
     "name": "stdout",
     "output_type": "stream",
     "text": [
      "137\n",
      "['\\n', ' ', '!', '\"', '#', '$', '%', '&', \"'\", '(', ')', '*', '+', ',', '-', '.', '/', '0', '1', '2', '3', '4', '5', '6', '7', '8', '9', ':', ';', '=', '?', '@', 'A', 'B', 'C', 'D', 'E', 'F', 'G', 'H', 'I', 'J', 'K', 'L', 'M', 'N', 'O', 'P', 'Q', 'R', 'S', 'T', 'U', 'V', 'W', 'X', 'Y', 'Z', '[', ']', '_', 'a', 'b', 'c', 'd', 'e', 'f', 'g', 'h', 'i', 'j', 'k', 'l', 'm', 'n', 'o', 'p', 'q', 'r', 's', 't', 'u', 'v', 'w', 'x', 'y', 'z', '|', '\\xa0', '¢', '£', '§', '©', '«', '¬', '\\xad', '¯', '°', '±', '¹', 'º', '»', '¼', '½', 'Â', 'Ã', 'Ä', 'Å', 'á', 'â', 'ç', 'è', 'é', 'ê', 'ë', 'í', 'ñ', 'ö', 'ø', 'ú', 'ü', 'ć', 'ł', 'š', 'Ÿ', 'ž', '˚', '̄', '\\u200b', '—', '‚', '”', '„', '•', '′', '₩', '€']\n"
     ]
    }
   ],
   "source": [
    "text = \"\"\n",
    "\n",
    "for i in range(1000):\n",
    "    text += contents[i]\n",
    "\n",
    "tokenizer = TokenizerChar(text)\n",
    "print(tokenizer.vocab_size)\n",
    "print(tokenizer.vocab)"
   ]
  },
  {
   "cell_type": "code",
   "execution_count": 14,
   "id": "36acf093",
   "metadata": {},
   "outputs": [
    {
     "name": "stdout",
     "output_type": "stream",
     "text": [
      "Kansas City, Missouri (CNN) -- The General Services Administration, already under investigation for lavish spending, allowed an employee to telecommute from Hawaii even though he is based at the GSA's Kansas City, Missouri, office, a CNN investigation has found.\n",
      "\n",
      "It cost more than $24,000 for the business development specialist to travel to and from the mainland United States over the past year.\n",
      "\n",
      "He is among several hundred GSA \"virtual\" workers who also travel to various conferences and their home offices, costing the agency millions of dollars over the past three years.\n",
      "\n",
      "Under the program, employees work from home and may live in another state from the region in which they're actually assigned.\n",
      "\n",
      "The Kansas City employee, who started his job in January 2011, is paid $84,440 and works from his home in Honolulu, a GSA representative confirmed.\n",
      "\n",
      "In the past year, according to GSA travel records, the employee has flown back to the mainland nine times for conferences and meetings. Four of those trips were to St. Louis; four were to Washington, with a side trip to Cincinnati; and one was to San Diego. The total cost to taxpayers was $24,221.\n",
      "\n",
      "Jason Klumb, the GSA's regional administrator for Kansas City, defended the hire.\n",
      "\n",
      "\"The cost of that travel was included in the consideration of his candidacy as an employee as compared with the other applicants,\" Klumb said. \"And when factoring all of those in, it was determined that he was the best candidate, even in light of the cost that would be incurred.\"\n",
      "\n",
      "Klumb called the GSA's teleworking program \"a successful program that's going to lead to cost savings for taxpayers.\"\n",
      "\n",
      "But a GSA spokeswoman said, \"We are not going to defend this type of travel.\"\n",
      "\n",
      "And a GSA employee in Kansas City, who requested anonymity, said that hiring someone in Hawaii to work for the Kansas City region was ludicrous.\n",
      "\n",
      "\"It doesn't make sense,\" the employee said. \"When you consider everything you need when you hire someone, it would have been better to look for someone in the Kansas City area. It would have reduced the cost of travel by at least 70 percent when you look at just the airfare of what it takes to from Honolulu to Washington, D.C., where a lot of business is done.\"\n",
      "\n",
      "Dan Tangherlini, who was appointed acting GSA administrator this year, said the agency was examining the cost of the entire teleworking program.\n",
      "\n",
      "\"I think the most important part for the GSA to think about is make sure we open ourselves up, avail ourselves to all the smart people in the country, but then also make sure we have a clear business case,\" he said. \"If we have someone who is working in Nebraska but reporting to Boston, there has to be a clear explanation for what value they're providing, and you've got to give me the business case. You've got to explain to me why that's a cost-effective move for the American people, and that's a new standard that we're asking everyone at GSA to adhere to.\"\n",
      "\n",
      "The GSA \"virtual employee\" program is different from telework programs offered by many private companies including CNN's parent company, Turner Broadcasting, in which some employees are encouraged to work from home some days of the week, partially to reduce traffic congestion.\n",
      "\n",
      "The House Committee on Oversight and Government Reform requested details about the GSA's teleworking program in June. That followed disclosures that 95 virtual employees, including 12 in supervisory positions, spent nearly $750,000 in travel costs between October 2010 and June 2011.\n",
      "\n",
      "\"The American people have a right to know that federal bureaucrats who enjoy the benefits of virtual work are eligible and responsible stewards of the taxpayer dollars that support the program,\" according to a letter from committee Chairman Rep. Darrell Issa, R-California, to the GSA.\n",
      "\n",
      "The details requested by Issa about the GSA program have not been provided to the committee. CNN also requested the information more than two months ago through the federal Freedom of Information Act but has been repeatedly told by the GSA that FOIA staff members have not finished compiling the material.\n",
      "\n",
      "The General Services Administration, which has more than 12,600 employees and a $26.3 billion budget, is a relatively obscure federal agency that handles government real estate and other non-military procurement. Congress launched an investigation into the GSA after a scathing inspector general's report issued this year showed lavish spending -- $823,000 -- at the agency's Western Regions Conference in Las Vegas in October 2010.\n",
      "\n",
      "The controversy became politically toxic after reports and video clips of the lavish conference were released. The revelation prompted taxpayer indignation, embarrassed the administration and put a spotlight on wasteful spending by the GSA.\n",
      "\n",
      "Jeff Neely, the GSA official who organized the conference, resigned, as did the agency's administrator, Martha Johnson. Two of Johnson's deputies were fired, and eight other employees left the agency. Tangherlini, a former Treasury Department official, took over as acting GSA administrator.\n",
      "\n",
      "In addition to the Las Vegas conference, the GSA apparently spent $330,000 to relocate an employee from Denver to Hawaii and probably millions more on other employees over a two-year period, according to a transcript of an interview with a GSA event planner. And 84 GSA employees, most of them supervisors or other senior staff -- all subjects of inspector general investigations -- are still collecting their bonuses, totaling more than $1 million in taxpayer money.\n",
      "\n",
      "In July, a CNN investigation revealed that the GSA's Kansas City office spent more than $20,000 to send employees to cooking classes to build team spirit. While the classes do not amount to a significant sum of money in the world of trillion-dollar government budgets, insiders said it was part of the free-spending culture that went on for years at the GSA's Kansas City regional headquarters.\n",
      "\n",
      "GSA spokeswoman Betsaida Alcantara said in a statement this year that all the agency's practices are under a top-down review.\n",
      "\n",
      "CNN's Sara Anwar, Elizabeth M. Nunez and Tom Cohen contributed to this report.\n",
      "\n",
      "Watch Erin Burnett weekdays 7pm ET. For the latest from Erin Burnett click here.\n",
      "\n",
      "@highlight\n",
      "\n",
      "The employee in agency's Kansas City office is among hundreds of \"virtual\" workers\n",
      "\n",
      "@highlight\n",
      "\n",
      "The employee's travel to and from the mainland U.S. last year cost more than $24,000\n",
      "\n",
      "@highlight\n",
      "\n",
      "The telecommuting program, like all GSA practices, is under review\n"
     ]
    }
   ],
   "source": [
    "print(contents[2])"
   ]
  },
  {
   "cell_type": "markdown",
   "id": "f830d881",
   "metadata": {},
   "source": [
    "## Define Model"
   ]
  },
  {
   "cell_type": "code",
   "execution_count": 31,
   "id": "0a5a33ab",
   "metadata": {},
   "outputs": [],
   "source": [
    "np.random.seed(42)\n",
    "tf.random.set_seed(42)\n",
    "\n",
    "embed_dim = 4000\n",
    "heads = 10\n",
    "max_seq_len = 200\n",
    "\n",
    "key_dim = 64\n",
    "\n",
    "ffnn_dims = [4000, 4000]\n",
    "unembed_dims = [1000]\n",
    "\n",
    "transformer = Transformer(vocab_size=tokenizer.vocab_size,\n",
    "                          max_seq_len=max_seq_len,\n",
    "                          embed_dim=embed_dim,\n",
    "                          heads=heads,\n",
    "                          key_dim=key_dim,\n",
    "                          ffnn_dims=ffnn_dims,\n",
    "                          unembed_dims=unembed_dims)\n",
    "\n",
    "losses_train = []\n",
    "losses_test = []\n"
   ]
  },
  {
   "cell_type": "code",
   "execution_count": 32,
   "id": "55e05f82",
   "metadata": {},
   "outputs": [
    {
     "data": {
      "text/plain": [
       "<tf.Tensor: shape=(80, 137), dtype=float32, numpy=\n",
       "array([[0.00690688, 0.00660919, 0.00490721, ..., 0.00636599, 0.00969028,\n",
       "        0.00637311],\n",
       "       [0.0056459 , 0.00706819, 0.00767037, ..., 0.00389686, 0.00960096,\n",
       "        0.00496214],\n",
       "       [0.00986764, 0.00751769, 0.00609605, ..., 0.0063965 , 0.00632046,\n",
       "        0.01029059],\n",
       "       ...,\n",
       "       [0.00812536, 0.00882361, 0.00913919, ..., 0.0056879 , 0.00709312,\n",
       "        0.00774   ],\n",
       "       [0.00768392, 0.0052058 , 0.00661971, ..., 0.00799643, 0.00962167,\n",
       "        0.00706666],\n",
       "       [0.00615222, 0.00642451, 0.00714575, ..., 0.00370896, 0.01084779,\n",
       "        0.00694313]], dtype=float32)>"
      ]
     },
     "execution_count": 32,
     "metadata": {},
     "output_type": "execute_result"
    }
   ],
   "source": [
    "text = \"ezs livurn hzlsen uvrhlzs keu rhvzls kevurhnlez skuvh rnzsl ekuh rvn zls ezs lezs livurn hzlsen uvrhlzs keu rhvzls kevurhnlez skuvh rnzsl ekuh rvn zls ezs livurn hzlsen uvrhlzs keu rhvzls kevurhnlez skuvh rnzsl ekuh rvn zlseu rhvzls kevurhnlez skuvh rnzsl ekuh rvn zlseu rhvzls kevurhnlez skuvh rnzsl ekuh rvn zls\"\n",
    "text = text[:80]\n",
    "indices = tokenizer.tokenize(text)\n",
    "transformer.pred(indices)"
   ]
  },
  {
   "cell_type": "code",
   "execution_count": null,
   "id": "93977cd2",
   "metadata": {},
   "outputs": [
    {
     "data": {
      "image/png": "[encoded data removed]",
      "text/plain": [
       "<Figure size 640x480 with 1 Axes>"
      ]
     },
     "metadata": {},
     "output_type": "display_data"
    }
   ],
   "source": [
    "batch_size = 16\n",
    "\n",
    "for i in tqdm(range(10000)):\n",
    "    indices_train_list = []\n",
    "    y_true_train_list = []\n",
    "    indices_test_list = []\n",
    "    y_true_test_list = []\n",
    "    for b in range(batch_size):\n",
    "        idx = np.random.randint(0, 900)\n",
    "        text = contents[idx]\n",
    "        length = len(text)\n",
    "        if length < max_seq_len:\n",
    "            chunk = text\n",
    "        else:\n",
    "            start = np.random.randint(0, length - max_seq_len)\n",
    "            chunk = text[start:start + max_seq_len]\n",
    "        chunk = text[start:start + max_seq_len]\n",
    "        indices = tokenizer.tokenize(chunk)\n",
    "\n",
    "        y_true = tf.one_hot(indices, depth=tokenizer.vocab_size)\n",
    "        y_true = tf.cast(y_true, tf.float32)\n",
    "\n",
    "        indices_train_list.append(indices)\n",
    "        y_true_train_list.append(y_true)\n",
    "\n",
    "        idx = np.random.randint(900, 1000)\n",
    "        text = contents[idx]\n",
    "        length = len(text)\n",
    "        start = np.random.randint(0, length - max_seq_len)\n",
    "        chunk = text[start:start + max_seq_len]\n",
    "        indices = tokenizer.tokenize(chunk)\n",
    "\n",
    "        y_true = tf.one_hot(indices, depth=tokenizer.vocab_size)\n",
    "        y_true = tf.cast(y_true, tf.float32)\n",
    "\n",
    "        indices_test_list.append(indices)\n",
    "        y_true_test_list.append(y_true)\n",
    "    \n",
    "    \n",
    "    loss_train = transformer.train_step(indices_train_list, y_true_train_list)\n",
    "    loss_test = transformer.train_step(indices_test_list, y_true_test_list, update = False)\n",
    "    \n",
    "    losses_train.append(loss_train)\n",
    "    losses_test.append(loss_test)\n",
    "\n",
    "    clear_output(wait=True)\n",
    "    x = np.arange(max(0, len(losses_train)-400), len(losses_train))\n",
    "    plt.plot(x, losses_train[-400:], label=\"Train Loss\")\n",
    "    plt.plot(x, losses_test[-400:], label=\"Test Loss\")\n",
    "\n",
    "    plt.ylim(0.9*np.min(losses_test[-400:]), 1.1*np.max(losses_test[-400:]))\n",
    "    plt.title(\"Training Loss\")\n",
    "    plt.xlabel(\"Step\")\n",
    "    plt.ylabel(\"Loss\")\n",
    "    plt.legend()\n",
    "    plt.show()\n",
    "    "
   ]
  },
  {
   "cell_type": "code",
   "execution_count": 18,
   "id": "17f017b1",
   "metadata": {},
   "outputs": [
    {
     "name": "stdout",
     "output_type": "stream",
     "text": [
      "(CNN) -- Lazio will play its next two European matches behind closed doors after football authorities punished the Italian club for several offenses, including a fourth charge of racist behavior this season.\n",
      "\n",
      "European football's governing body also fined Lazio €40,000 ($52,000) following incidents in last week's Europa League round of 32 tie with German side Borussia Monchengladbach.\n",
      "\n",
      "Lazio had already been fined a total of $230,000 for racist abuse and other fan offenses during two group-stage matches with English team Tottenham Hotspur and another against Slovenia's Maribor.\n",
      "\n",
      "The Rome-based team has appealed UEFA's latest decision, which was handed down for \"setting off and throwing fireworks, racist behavior and insufficient organization.\"\n",
      "\n",
      "\"The control and disciplinary body decided to order Lazio to play their next two UEFA competition matches as host club behind closed doors,\" read UEFA's statement.\n",
      "\n",
      "It applies to the home leg of Lazio's last-16 clash in the second-tier competitio\n"
     ]
    }
   ],
   "source": [
    "idx = np.random.randint(500)\n",
    "text = contents[idx][:1000]\n",
    "\n",
    "print(text)"
   ]
  },
  {
   "cell_type": "code",
   "execution_count": 19,
   "id": "e216ce01",
   "metadata": {},
   "outputs": [
    {
     "name": "stdout",
     "output_type": "stream",
     "text": [
      "[53 67 74  1 68 78  1 35 68 73 78 79 64 68 73 29  1]\n"
     ]
    }
   ],
   "source": [
    "text = 'Who is Einstein? '\n",
    "indices = tokenizer.tokenize(text)\n",
    "print(indices.numpy())"
   ]
  },
  {
   "cell_type": "code",
   "execution_count": 20,
   "id": "74a017b3",
   "metadata": {},
   "outputs": [
    {
     "name": "stdout",
     "output_type": "stream",
     "text": [
      "Who is Einstein? the t the the the the the the the the the the the the the to the to t the the to to the the the the the t\r"
     ]
    },
    {
     "ename": "KeyboardInterrupt",
     "evalue": "",
     "output_type": "error",
     "traceback": [
      "\u001b[1;31m---------------------------------------------------------------------------\u001b[0m",
      "\u001b[1;31mKeyboardInterrupt\u001b[0m                         Traceback (most recent call last)",
      "Cell \u001b[1;32mIn[20], line 8\u001b[0m\n\u001b[0;32m      6\u001b[0m text_pred \u001b[38;5;241m=\u001b[39m tokenizer\u001b[38;5;241m.\u001b[39mdetokenize(indices)\n\u001b[0;32m      7\u001b[0m \u001b[38;5;28mprint\u001b[39m(text_pred\u001b[38;5;241m.\u001b[39mnumpy()\u001b[38;5;241m.\u001b[39mdecode(\u001b[38;5;124m\"\u001b[39m\u001b[38;5;124mutf-8\u001b[39m\u001b[38;5;124m\"\u001b[39m), end\u001b[38;5;241m=\u001b[39m\u001b[38;5;124m'\u001b[39m\u001b[38;5;130;01m\\r\u001b[39;00m\u001b[38;5;124m'\u001b[39m, flush\u001b[38;5;241m=\u001b[39m\u001b[38;5;28;01mTrue\u001b[39;00m)\n\u001b[1;32m----> 8\u001b[0m \u001b[43mtime\u001b[49m\u001b[38;5;241;43m.\u001b[39;49m\u001b[43msleep\u001b[49m\u001b[43m(\u001b[49m\u001b[38;5;241;43m0.05\u001b[39;49m\u001b[43m)\u001b[49m\n",
      "\u001b[1;31mKeyboardInterrupt\u001b[0m: "
     ]
    }
   ],
   "source": [
    "for i in range(128):\n",
    "    y_pred = transformer.pred(indices)\n",
    "    argmax = tf.cast(tf.argmax(y_pred[-1], axis=-1), dtype=tf.int32)\n",
    "    indices = tf.concat([indices, [argmax]], axis=0)\n",
    "    #print(indices)\n",
    "    text_pred = tokenizer.detokenize(indices)\n",
    "    print(text_pred.numpy().decode(\"utf-8\"), end='\\r', flush=True)\n",
    "    time.sleep(0.05)\n"
   ]
  },
  {
   "cell_type": "code",
   "execution_count": null,
   "id": "60ac7e99",
   "metadata": {},
   "outputs": [
    {
     "name": "stdout",
     "output_type": "stream",
     "text": [
      "['\\n', ' ', '!', '\"', '$', \"'\", ',', '-', '.', '0', '1', '3', '8', ':', ';', '?', 'A', 'B', 'C', 'D', 'E', 'F', 'G', 'H', 'I', 'J', 'K', 'L', 'M', 'N', 'O', 'P', 'Q', 'R', 'S', 'T', 'U', 'V', 'W', 'Y', 'Z', 'a', 'b', 'c', 'd', 'e', 'f', 'g', 'h', 'i', 'j', 'k', 'l', 'm', 'n', 'o', 'p', 'q', 'r', 's', 't', 'u', 'v', 'w', 'x', 'y', 'z', 'â', 'œ', '“', '”', '€', '™']\n",
      "73\n"
     ]
    }
   ],
   "source": [
    "print(tokenizer.vocab)\n",
    "print(len(tokenizer.vocab))"
   ]
  },
  {
   "cell_type": "markdown",
   "id": "52a5f20b",
   "metadata": {},
   "source": [
    "## "
   ]
  }
 ],
 "metadata": {
  "kernelspec": {
   "display_name": "keras-gpu",
   "language": "python",
   "name": "python3"
  },
  "language_info": {
   "codemirror_mode": {
    "name": "ipython",
    "version": 3
   },
   "file_extension": ".py",
   "mimetype": "text/x-python",
   "name": "python",
   "nbconvert_exporter": "python",
   "pygments_lexer": "ipython3",
   "version": "3.10.16"
  }
 },
 "nbformat": 4,
 "nbformat_minor": 5
}
